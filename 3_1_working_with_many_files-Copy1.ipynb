{
 "cells": [
  {
   "cell_type": "markdown",
   "metadata": {
    "slideshow": {
     "slide_type": "slide"
    }
   },
   "source": [
    "# Working with many and/or large files\n",
    "\n",
    "In this section, we will take a look at techniques for working with many files, as well as large files."
   ]
  },
  {
   "cell_type": "code",
   "execution_count": 216,
   "metadata": {
    "collapsed": true,
    "slideshow": {
     "slide_type": "fragment"
    }
   },
   "outputs": [],
   "source": [
    "import pandas as pd\n",
    "from dfply import *\n",
    "from functools import reduce"
   ]
  },
  {
   "cell_type": "markdown",
   "metadata": {},
   "source": [
    "## Baseball data\n",
    "\n",
    "We will be using the [Baseball Databank](https://github.com/chadwickbureau/baseballdatabank), make sure you have these data cloned into `./data/baseball`."
   ]
  },
  {
   "cell_type": "code",
   "execution_count": 50,
   "metadata": {},
   "outputs": [
    {
     "name": "stdout",
     "output_type": "stream",
     "text": [
      "fatal: destination path './data/baseball' already exists and is not an empty directory.\r\n"
     ]
    }
   ],
   "source": [
    "!git clone https://github.com/chadwickbureau/baseballdatabank.git ./data/baseball"
   ]
  },
  {
   "cell_type": "markdown",
   "metadata": {
    "slideshow": {
     "slide_type": "slide"
    }
   },
   "source": [
    "## Working with many files.\n",
    "\n",
    "* Use `glob.glob` to find all files that match a pattern\n",
    "* Convert all files to `pd.DataFrames`\n",
    "* Store the `df` in a list or dictionary"
   ]
  },
  {
   "cell_type": "markdown",
   "metadata": {
    "slideshow": {
     "slide_type": "slide"
    }
   },
   "source": [
    "## What the heck is a `glob`\n",
    "\n",
    "`glob.glob`\n",
    "\n",
    "* Takes a path regular expression\n",
    "* Returns a list of files that match the patterm\n",
    "* Relative paths!"
   ]
  },
  {
   "cell_type": "markdown",
   "metadata": {
    "slideshow": {
     "slide_type": "slide"
    }
   },
   "source": [
    "## Store in `dict` or `list`?\n",
    "\n",
    "* Natural sequence/order? $\\rightarrow$ `list`\n",
    "    *  Example: Lakes data and years are a natural sequence\n",
    "* Easier to refer by name? $\\rightarrow$ `dict`\n",
    "    * Baseball files have no order and easier to refer to by name"
   ]
  },
  {
   "cell_type": "markdown",
   "metadata": {
    "slideshow": {
     "slide_type": "slide"
    }
   },
   "source": [
    "## Example 1 - Reading the baseball database."
   ]
  },
  {
   "cell_type": "markdown",
   "metadata": {
    "slideshow": {
     "slide_type": "fragment"
    }
   },
   "source": [
    "#### Step 1 - Get the files names"
   ]
  },
  {
   "cell_type": "code",
   "execution_count": 154,
   "metadata": {
    "scrolled": true,
    "slideshow": {
     "slide_type": "fragment"
    }
   },
   "outputs": [
    {
     "data": {
      "text/plain": [
       "['./data/baseball/core/AwardsManagers.csv',\n",
       " './data/baseball/core/Managers.csv',\n",
       " './data/baseball/core/AwardsPlayers.csv',\n",
       " './data/baseball/core/Fielding.csv',\n",
       " './data/baseball/core/Salaries.csv',\n",
       " './data/baseball/core/Parks.csv',\n",
       " './data/baseball/core/Schools.csv',\n",
       " './data/baseball/core/People.csv',\n",
       " './data/baseball/core/PitchingPost.csv',\n",
       " './data/baseball/core/Teams.csv',\n",
       " './data/baseball/core/Appearances.csv',\n",
       " './data/baseball/core/AwardsSharePlayers.csv',\n",
       " './data/baseball/core/TeamsFranchises.csv',\n",
       " './data/baseball/core/Batting.csv',\n",
       " './data/baseball/core/ManagersHalf.csv',\n",
       " './data/baseball/core/FieldingOF.csv',\n",
       " './data/baseball/core/Pitching.csv',\n",
       " './data/baseball/core/CollegePlaying.csv',\n",
       " './data/baseball/core/HomeGames.csv',\n",
       " './data/baseball/core/HallOfFame.csv',\n",
       " './data/baseball/core/AwardsShareManagers.csv',\n",
       " './data/baseball/core/BattingPost.csv',\n",
       " './data/baseball/core/TeamsHalf.csv',\n",
       " './data/baseball/core/SeriesPost.csv',\n",
       " './data/baseball/core/FieldingPost.csv',\n",
       " './data/baseball/core/AllstarFull.csv',\n",
       " './data/baseball/core/FieldingOFsplit.csv']"
      ]
     },
     "execution_count": 154,
     "metadata": {},
     "output_type": "execute_result"
    }
   ],
   "source": [
    "from glob import glob\n",
    "files = glob('./data/baseball/core/*.csv')\n",
    "files"
   ]
  },
  {
   "cell_type": "markdown",
   "metadata": {
    "slideshow": {
     "slide_type": "slide"
    }
   },
   "source": [
    "#### Step 2 - Make helper functions to get the name from path"
   ]
  },
  {
   "cell_type": "code",
   "execution_count": 155,
   "metadata": {
    "slideshow": {
     "slide_type": "fragment"
    }
   },
   "outputs": [
    {
     "data": {
      "text/plain": [
       "['AwardsManagers',\n",
       " 'Managers',\n",
       " 'AwardsPlayers',\n",
       " 'Fielding',\n",
       " 'Salaries',\n",
       " 'Parks',\n",
       " 'Schools',\n",
       " 'People',\n",
       " 'PitchingPost',\n",
       " 'Teams',\n",
       " 'Appearances',\n",
       " 'AwardsSharePlayers',\n",
       " 'TeamsFranchises',\n",
       " 'Batting',\n",
       " 'ManagersHalf',\n",
       " 'FieldingOF',\n",
       " 'Pitching',\n",
       " 'CollegePlaying',\n",
       " 'HomeGames',\n",
       " 'HallOfFame',\n",
       " 'AwardsShareManagers',\n",
       " 'BattingPost',\n",
       " 'TeamsHalf',\n",
       " 'SeriesPost',\n",
       " 'FieldingPost',\n",
       " 'AllstarFull',\n",
       " 'FieldingOFsplit']"
      ]
     },
     "execution_count": 155,
     "metadata": {},
     "output_type": "execute_result"
    }
   ],
   "source": [
    "import re\n",
    "FILE_NAME_RE = re.compile(r'^\\./data/baseball/core/([a-zA-Z_]*)\\.csv$')\n",
    "file_name = lambda p: FILE_NAME_RE.match(p).group(1) \n",
    "file_names = lambda files: [file_name(p) for p in files]\n",
    "file_names(files)"
   ]
  },
  {
   "cell_type": "markdown",
   "metadata": {
    "slideshow": {
     "slide_type": "slide"
    }
   },
   "source": [
    "#### Step 3 - Use a comprehension to read in all files\n",
    "\n",
    "**Note:** The data is small (< 10mb total) so it is safe to read all at once."
   ]
  },
  {
   "cell_type": "code",
   "execution_count": 53,
   "metadata": {
    "slideshow": {
     "slide_type": "fragment"
    }
   },
   "outputs": [
    {
     "data": {
      "text/html": [
       "<div>\n",
       "<style scoped>\n",
       "    .dataframe tbody tr th:only-of-type {\n",
       "        vertical-align: middle;\n",
       "    }\n",
       "\n",
       "    .dataframe tbody tr th {\n",
       "        vertical-align: top;\n",
       "    }\n",
       "\n",
       "    .dataframe thead th {\n",
       "        text-align: right;\n",
       "    }\n",
       "</style>\n",
       "<table border=\"1\" class=\"dataframe\">\n",
       "  <thead>\n",
       "    <tr style=\"text-align: right;\">\n",
       "      <th></th>\n",
       "      <th>playerID</th>\n",
       "      <th>yearID</th>\n",
       "      <th>stint</th>\n",
       "      <th>teamID</th>\n",
       "      <th>lgID</th>\n",
       "      <th>W</th>\n",
       "      <th>L</th>\n",
       "      <th>G</th>\n",
       "      <th>GS</th>\n",
       "      <th>CG</th>\n",
       "      <th>...</th>\n",
       "      <th>IBB</th>\n",
       "      <th>WP</th>\n",
       "      <th>HBP</th>\n",
       "      <th>BK</th>\n",
       "      <th>BFP</th>\n",
       "      <th>GF</th>\n",
       "      <th>R</th>\n",
       "      <th>SH</th>\n",
       "      <th>SF</th>\n",
       "      <th>GIDP</th>\n",
       "    </tr>\n",
       "  </thead>\n",
       "  <tbody>\n",
       "    <tr>\n",
       "      <th>0</th>\n",
       "      <td>bechtge01</td>\n",
       "      <td>1871</td>\n",
       "      <td>1</td>\n",
       "      <td>PH1</td>\n",
       "      <td>NaN</td>\n",
       "      <td>1</td>\n",
       "      <td>2</td>\n",
       "      <td>3</td>\n",
       "      <td>3</td>\n",
       "      <td>2</td>\n",
       "      <td>...</td>\n",
       "      <td>NaN</td>\n",
       "      <td>7</td>\n",
       "      <td>NaN</td>\n",
       "      <td>0</td>\n",
       "      <td>146.0</td>\n",
       "      <td>0</td>\n",
       "      <td>42</td>\n",
       "      <td>NaN</td>\n",
       "      <td>NaN</td>\n",
       "      <td>NaN</td>\n",
       "    </tr>\n",
       "    <tr>\n",
       "      <th>1</th>\n",
       "      <td>brainas01</td>\n",
       "      <td>1871</td>\n",
       "      <td>1</td>\n",
       "      <td>WS3</td>\n",
       "      <td>NaN</td>\n",
       "      <td>12</td>\n",
       "      <td>15</td>\n",
       "      <td>30</td>\n",
       "      <td>30</td>\n",
       "      <td>30</td>\n",
       "      <td>...</td>\n",
       "      <td>NaN</td>\n",
       "      <td>7</td>\n",
       "      <td>NaN</td>\n",
       "      <td>0</td>\n",
       "      <td>1291.0</td>\n",
       "      <td>0</td>\n",
       "      <td>292</td>\n",
       "      <td>NaN</td>\n",
       "      <td>NaN</td>\n",
       "      <td>NaN</td>\n",
       "    </tr>\n",
       "    <tr>\n",
       "      <th>2</th>\n",
       "      <td>fergubo01</td>\n",
       "      <td>1871</td>\n",
       "      <td>1</td>\n",
       "      <td>NY2</td>\n",
       "      <td>NaN</td>\n",
       "      <td>0</td>\n",
       "      <td>0</td>\n",
       "      <td>1</td>\n",
       "      <td>0</td>\n",
       "      <td>0</td>\n",
       "      <td>...</td>\n",
       "      <td>NaN</td>\n",
       "      <td>2</td>\n",
       "      <td>NaN</td>\n",
       "      <td>0</td>\n",
       "      <td>14.0</td>\n",
       "      <td>0</td>\n",
       "      <td>9</td>\n",
       "      <td>NaN</td>\n",
       "      <td>NaN</td>\n",
       "      <td>NaN</td>\n",
       "    </tr>\n",
       "    <tr>\n",
       "      <th>3</th>\n",
       "      <td>fishech01</td>\n",
       "      <td>1871</td>\n",
       "      <td>1</td>\n",
       "      <td>RC1</td>\n",
       "      <td>NaN</td>\n",
       "      <td>4</td>\n",
       "      <td>16</td>\n",
       "      <td>24</td>\n",
       "      <td>24</td>\n",
       "      <td>22</td>\n",
       "      <td>...</td>\n",
       "      <td>NaN</td>\n",
       "      <td>20</td>\n",
       "      <td>NaN</td>\n",
       "      <td>0</td>\n",
       "      <td>1080.0</td>\n",
       "      <td>1</td>\n",
       "      <td>257</td>\n",
       "      <td>NaN</td>\n",
       "      <td>NaN</td>\n",
       "      <td>NaN</td>\n",
       "    </tr>\n",
       "    <tr>\n",
       "      <th>4</th>\n",
       "      <td>fleetfr01</td>\n",
       "      <td>1871</td>\n",
       "      <td>1</td>\n",
       "      <td>NY2</td>\n",
       "      <td>NaN</td>\n",
       "      <td>0</td>\n",
       "      <td>1</td>\n",
       "      <td>1</td>\n",
       "      <td>1</td>\n",
       "      <td>1</td>\n",
       "      <td>...</td>\n",
       "      <td>NaN</td>\n",
       "      <td>0</td>\n",
       "      <td>NaN</td>\n",
       "      <td>0</td>\n",
       "      <td>57.0</td>\n",
       "      <td>0</td>\n",
       "      <td>21</td>\n",
       "      <td>NaN</td>\n",
       "      <td>NaN</td>\n",
       "      <td>NaN</td>\n",
       "    </tr>\n",
       "  </tbody>\n",
       "</table>\n",
       "<p>5 rows × 30 columns</p>\n",
       "</div>"
      ],
      "text/plain": [
       "    playerID  yearID  stint teamID lgID   W   L   G  GS  CG  ...  IBB  WP  \\\n",
       "0  bechtge01    1871      1    PH1  NaN   1   2   3   3   2  ...  NaN   7   \n",
       "1  brainas01    1871      1    WS3  NaN  12  15  30  30  30  ...  NaN   7   \n",
       "2  fergubo01    1871      1    NY2  NaN   0   0   1   0   0  ...  NaN   2   \n",
       "3  fishech01    1871      1    RC1  NaN   4  16  24  24  22  ...  NaN  20   \n",
       "4  fleetfr01    1871      1    NY2  NaN   0   1   1   1   1  ...  NaN   0   \n",
       "\n",
       "   HBP  BK     BFP  GF    R  SH  SF  GIDP  \n",
       "0  NaN   0   146.0   0   42 NaN NaN   NaN  \n",
       "1  NaN   0  1291.0   0  292 NaN NaN   NaN  \n",
       "2  NaN   0    14.0   0    9 NaN NaN   NaN  \n",
       "3  NaN   0  1080.0   1  257 NaN NaN   NaN  \n",
       "4  NaN   0    57.0   0   21 NaN NaN   NaN  \n",
       "\n",
       "[5 rows x 30 columns]"
      ]
     },
     "execution_count": 53,
     "metadata": {},
     "output_type": "execute_result"
    }
   ],
   "source": [
    "dfs = {name:pd.read_csv(path) for name, path in zip(file_names(files), files)}\n",
    "dfs['Pitching'].head()"
   ]
  },
  {
   "cell_type": "markdown",
   "metadata": {
    "slideshow": {
     "slide_type": "slide"
    }
   },
   "source": [
    "## <font color=\"red\"> Exercise 1 </font>\n",
    "\n",
    "Use `glob` to read the following files into a `dict`: `Person.csv`, `Survey.csv`, `Site.csv`, `Visited.csv`"
   ]
  },
  {
   "cell_type": "code",
   "execution_count": 157,
   "metadata": {
    "slideshow": {
     "slide_type": "fragment"
    }
   },
   "outputs": [
    {
     "data": {
      "text/plain": [
       "['./data/Site.csv',\n",
       " './data/heroes_information.csv',\n",
       " './data/uber-raw-data-apr14.csv',\n",
       " './data/TB_burden_age_sex_2019-01-07.csv',\n",
       " './data/Visited.csv',\n",
       " './data/PEW_income_religion.csv',\n",
       " './data/health_survey.csv',\n",
       " './data/Artists.csv',\n",
       " './data/ebola_data_db_format.csv',\n",
       " './data/Artworks.csv',\n",
       " './data/super_hero_powers.csv',\n",
       " './data/TB_example.csv',\n",
       " './data/OralFlag_example.csv',\n",
       " './data/Person.csv',\n",
       " './data/TB_bad.csv',\n",
       " './data/Survey.csv']"
      ]
     },
     "execution_count": 157,
     "metadata": {},
     "output_type": "execute_result"
    }
   ],
   "source": [
    "# Your code here\n",
    "files = glob('./data/*.csv')\n",
    "files"
   ]
  },
  {
   "cell_type": "code",
   "execution_count": 215,
   "metadata": {},
   "outputs": [
    {
     "data": {
      "text/plain": [
       "[['Site'], ['Visited'], ['Person'], ['Survey']]"
      ]
     },
     "execution_count": 215,
     "metadata": {},
     "output_type": "execute_result"
    }
   ],
   "source": [
    "FILE_NAME_RES = re.compile(r'^\\./data/(Site|Person|Visited|Survey)\\.csv$')\n",
    "file_name = lambda p: FILE_NAME_RES.findall(p)\n",
    "file_names = lambda files: [file_name(p) for p in files if file_name(p) != []]\n",
    "file_names(files)\n"
   ]
  },
  {
   "cell_type": "code",
   "execution_count": 220,
   "metadata": {},
   "outputs": [
    {
     "data": {
      "text/plain": [
       "['Site', 'Visited', 'Person', 'Survey']"
      ]
     },
     "execution_count": 220,
     "metadata": {},
     "output_type": "execute_result"
    }
   ],
   "source": [
    "filename = reduce(lambda x,y: x+y,file_names(files))\n",
    "filename"
   ]
  },
  {
   "cell_type": "code",
   "execution_count": 224,
   "metadata": {},
   "outputs": [
    {
     "data": {
      "text/html": [
       "<div>\n",
       "<style scoped>\n",
       "    .dataframe tbody tr th:only-of-type {\n",
       "        vertical-align: middle;\n",
       "    }\n",
       "\n",
       "    .dataframe tbody tr th {\n",
       "        vertical-align: top;\n",
       "    }\n",
       "\n",
       "    .dataframe thead th {\n",
       "        text-align: right;\n",
       "    }\n",
       "</style>\n",
       "<table border=\"1\" class=\"dataframe\">\n",
       "  <thead>\n",
       "    <tr style=\"text-align: right;\">\n",
       "      <th></th>\n",
       "      <th>country</th>\n",
       "      <th>iso2</th>\n",
       "      <th>iso3</th>\n",
       "      <th>iso_numeric</th>\n",
       "      <th>year</th>\n",
       "      <th>measure</th>\n",
       "      <th>unit</th>\n",
       "      <th>age_group</th>\n",
       "      <th>sex</th>\n",
       "      <th>best</th>\n",
       "      <th>lo</th>\n",
       "      <th>hi</th>\n",
       "    </tr>\n",
       "  </thead>\n",
       "  <tbody>\n",
       "    <tr>\n",
       "      <th>0</th>\n",
       "      <td>Afghanistan</td>\n",
       "      <td>AF</td>\n",
       "      <td>AFG</td>\n",
       "      <td>4</td>\n",
       "      <td>2017</td>\n",
       "      <td>inc</td>\n",
       "      <td>num</td>\n",
       "      <td>0-14</td>\n",
       "      <td>a</td>\n",
       "      <td>7400</td>\n",
       "      <td>6500.0</td>\n",
       "      <td>8400.0</td>\n",
       "    </tr>\n",
       "    <tr>\n",
       "      <th>1</th>\n",
       "      <td>Afghanistan</td>\n",
       "      <td>AF</td>\n",
       "      <td>AFG</td>\n",
       "      <td>4</td>\n",
       "      <td>2017</td>\n",
       "      <td>inc</td>\n",
       "      <td>num</td>\n",
       "      <td>0-14</td>\n",
       "      <td>f</td>\n",
       "      <td>3500</td>\n",
       "      <td>3200.0</td>\n",
       "      <td>3900.0</td>\n",
       "    </tr>\n",
       "    <tr>\n",
       "      <th>2</th>\n",
       "      <td>Afghanistan</td>\n",
       "      <td>AF</td>\n",
       "      <td>AFG</td>\n",
       "      <td>4</td>\n",
       "      <td>2017</td>\n",
       "      <td>inc</td>\n",
       "      <td>num</td>\n",
       "      <td>0-14</td>\n",
       "      <td>m</td>\n",
       "      <td>3900</td>\n",
       "      <td>3500.0</td>\n",
       "      <td>4300.0</td>\n",
       "    </tr>\n",
       "    <tr>\n",
       "      <th>3</th>\n",
       "      <td>Afghanistan</td>\n",
       "      <td>AF</td>\n",
       "      <td>AFG</td>\n",
       "      <td>4</td>\n",
       "      <td>2017</td>\n",
       "      <td>inc</td>\n",
       "      <td>num</td>\n",
       "      <td>0-4</td>\n",
       "      <td>f</td>\n",
       "      <td>1800</td>\n",
       "      <td>1700.0</td>\n",
       "      <td>1900.0</td>\n",
       "    </tr>\n",
       "    <tr>\n",
       "      <th>4</th>\n",
       "      <td>Afghanistan</td>\n",
       "      <td>AF</td>\n",
       "      <td>AFG</td>\n",
       "      <td>4</td>\n",
       "      <td>2017</td>\n",
       "      <td>inc</td>\n",
       "      <td>num</td>\n",
       "      <td>0-4</td>\n",
       "      <td>m</td>\n",
       "      <td>2200</td>\n",
       "      <td>2000.0</td>\n",
       "      <td>2300.0</td>\n",
       "    </tr>\n",
       "  </tbody>\n",
       "</table>\n",
       "</div>"
      ],
      "text/plain": [
       "       country iso2 iso3  iso_numeric  year measure unit age_group sex  best  \\\n",
       "0  Afghanistan   AF  AFG            4  2017     inc  num      0-14   a  7400   \n",
       "1  Afghanistan   AF  AFG            4  2017     inc  num      0-14   f  3500   \n",
       "2  Afghanistan   AF  AFG            4  2017     inc  num      0-14   m  3900   \n",
       "3  Afghanistan   AF  AFG            4  2017     inc  num       0-4   f  1800   \n",
       "4  Afghanistan   AF  AFG            4  2017     inc  num       0-4   m  2200   \n",
       "\n",
       "       lo      hi  \n",
       "0  6500.0  8400.0  \n",
       "1  3200.0  3900.0  \n",
       "2  3500.0  4300.0  \n",
       "3  1700.0  1900.0  \n",
       "4  2000.0  2300.0  "
      ]
     },
     "execution_count": 224,
     "metadata": {},
     "output_type": "execute_result"
    }
   ],
   "source": [
    "dfa = {name:pd.read_csv(path) for name, path in zip(filename, files)}\n",
    "dfa['Survey'].head()\n"
   ]
  },
  {
   "cell_type": "markdown",
   "metadata": {
    "slideshow": {
     "slide_type": "slide"
    }
   },
   "source": [
    "## Up Next\n",
    "\n",
    "In [Lecture 3.2 - Aggregating Large Files with Pandas](./3_2_aggregating_large_files_in_pandas.ipynb), we will look at using `pandas` to read and aggregate chunks of a large file."
   ]
  },
  {
   "cell_type": "code",
   "execution_count": null,
   "metadata": {
    "collapsed": true
   },
   "outputs": [],
   "source": []
  },
  {
   "cell_type": "code",
   "execution_count": null,
   "metadata": {
    "collapsed": true
   },
   "outputs": [],
   "source": []
  }
 ],
 "metadata": {
  "celltoolbar": "Slideshow",
  "kernelspec": {
   "display_name": "Python 3",
   "language": "python",
   "name": "python3"
  },
  "language_info": {
   "codemirror_mode": {
    "name": "ipython",
    "version": 3
   },
   "file_extension": ".py",
   "mimetype": "text/x-python",
   "name": "python",
   "nbconvert_exporter": "python",
   "pygments_lexer": "ipython3",
   "version": "3.6.3"
  },
  "varInspector": {
   "cols": {
    "lenName": 16,
    "lenType": 16,
    "lenVar": 40
   },
   "kernels_config": {
    "python": {
     "delete_cmd_postfix": "",
     "delete_cmd_prefix": "del ",
     "library": "var_list.py",
     "varRefreshCmd": "print(var_dic_list())"
    },
    "r": {
     "delete_cmd_postfix": ") ",
     "delete_cmd_prefix": "rm(",
     "library": "var_list.r",
     "varRefreshCmd": "cat(var_dic_list()) "
    }
   },
   "types_to_exclude": [
    "module",
    "function",
    "builtin_function_or_method",
    "instance",
    "_Feature"
   ],
   "window_display": false
  }
 },
 "nbformat": 4,
 "nbformat_minor": 2
}
