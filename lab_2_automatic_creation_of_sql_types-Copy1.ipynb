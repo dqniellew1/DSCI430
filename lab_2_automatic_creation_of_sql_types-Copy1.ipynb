{
 "cells": [
  {
   "cell_type": "markdown",
   "metadata": {},
   "source": [
    "# Lab 2 - Automatic Creation of `sqlalchemy` data type `dict`\n",
    "\n",
    "So far, we have been manually constructing the `sqlalchemy` type `dict`, but this approach quickly becomes unwieldy.  Let's look at using the `pandas` types to programmically construct the type `dict`."
   ]
  },
  {
   "cell_type": "code",
   "execution_count": 1,
   "metadata": {},
   "outputs": [
    {
     "data": {
      "text/plain": [
       "'0.24.1'"
      ]
     },
     "execution_count": 1,
     "metadata": {},
     "output_type": "execute_result"
    }
   ],
   "source": [
    "import pandas as pd\n",
    "from dfply import *\n",
    "pd.__version__"
   ]
  },
  {
   "cell_type": "code",
   "execution_count": 2,
   "metadata": {},
   "outputs": [],
   "source": [
    "!rm databases/baseball.db"
   ]
  },
  {
   "cell_type": "markdown",
   "metadata": {},
   "source": [
    "## Case Study - People\n",
    "\n",
    "Let's use the `People.csv` file from the [Lahman’s Baseball Database](http://www.seanlahman.com/baseball-archive/statistics/) as our motivating example, since \n",
    "\n",
    "1. It has examples of a number of types\n",
    "2. It has lots of columns and would be annoying to manually construct the type `dict`."
   ]
  },
  {
   "cell_type": "code",
   "execution_count": 3,
   "metadata": {},
   "outputs": [
    {
     "data": {
      "text/html": [
       "<div>\n",
       "<style scoped>\n",
       "    .dataframe tbody tr th:only-of-type {\n",
       "        vertical-align: middle;\n",
       "    }\n",
       "\n",
       "    .dataframe tbody tr th {\n",
       "        vertical-align: top;\n",
       "    }\n",
       "\n",
       "    .dataframe thead th {\n",
       "        text-align: right;\n",
       "    }\n",
       "</style>\n",
       "<table border=\"1\" class=\"dataframe\">\n",
       "  <thead>\n",
       "    <tr style=\"text-align: right;\">\n",
       "      <th></th>\n",
       "      <th>playerID</th>\n",
       "      <th>birthYear</th>\n",
       "      <th>birthMonth</th>\n",
       "      <th>birthDay</th>\n",
       "      <th>birthCountry</th>\n",
       "      <th>birthState</th>\n",
       "      <th>birthCity</th>\n",
       "      <th>deathYear</th>\n",
       "      <th>deathMonth</th>\n",
       "      <th>deathDay</th>\n",
       "      <th>...</th>\n",
       "      <th>nameLast</th>\n",
       "      <th>nameGiven</th>\n",
       "      <th>weight</th>\n",
       "      <th>height</th>\n",
       "      <th>bats</th>\n",
       "      <th>throws</th>\n",
       "      <th>debut</th>\n",
       "      <th>finalGame</th>\n",
       "      <th>retroID</th>\n",
       "      <th>bbrefID</th>\n",
       "    </tr>\n",
       "  </thead>\n",
       "  <tbody>\n",
       "    <tr>\n",
       "      <th>0</th>\n",
       "      <td>aardsda01</td>\n",
       "      <td>1981.0</td>\n",
       "      <td>12.0</td>\n",
       "      <td>27.0</td>\n",
       "      <td>USA</td>\n",
       "      <td>CO</td>\n",
       "      <td>Denver</td>\n",
       "      <td>NaN</td>\n",
       "      <td>NaN</td>\n",
       "      <td>NaN</td>\n",
       "      <td>...</td>\n",
       "      <td>Aardsma</td>\n",
       "      <td>David Allan</td>\n",
       "      <td>215.0</td>\n",
       "      <td>75.0</td>\n",
       "      <td>R</td>\n",
       "      <td>R</td>\n",
       "      <td>2004-04-06</td>\n",
       "      <td>2015-08-23</td>\n",
       "      <td>aardd001</td>\n",
       "      <td>aardsda01</td>\n",
       "    </tr>\n",
       "    <tr>\n",
       "      <th>1</th>\n",
       "      <td>aaronha01</td>\n",
       "      <td>1934.0</td>\n",
       "      <td>2.0</td>\n",
       "      <td>5.0</td>\n",
       "      <td>USA</td>\n",
       "      <td>AL</td>\n",
       "      <td>Mobile</td>\n",
       "      <td>NaN</td>\n",
       "      <td>NaN</td>\n",
       "      <td>NaN</td>\n",
       "      <td>...</td>\n",
       "      <td>Aaron</td>\n",
       "      <td>Henry Louis</td>\n",
       "      <td>180.0</td>\n",
       "      <td>72.0</td>\n",
       "      <td>R</td>\n",
       "      <td>R</td>\n",
       "      <td>1954-04-13</td>\n",
       "      <td>1976-10-03</td>\n",
       "      <td>aaroh101</td>\n",
       "      <td>aaronha01</td>\n",
       "    </tr>\n",
       "    <tr>\n",
       "      <th>2</th>\n",
       "      <td>aaronto01</td>\n",
       "      <td>1939.0</td>\n",
       "      <td>8.0</td>\n",
       "      <td>5.0</td>\n",
       "      <td>USA</td>\n",
       "      <td>AL</td>\n",
       "      <td>Mobile</td>\n",
       "      <td>1984.0</td>\n",
       "      <td>8.0</td>\n",
       "      <td>16.0</td>\n",
       "      <td>...</td>\n",
       "      <td>Aaron</td>\n",
       "      <td>Tommie Lee</td>\n",
       "      <td>190.0</td>\n",
       "      <td>75.0</td>\n",
       "      <td>R</td>\n",
       "      <td>R</td>\n",
       "      <td>1962-04-10</td>\n",
       "      <td>1971-09-26</td>\n",
       "      <td>aarot101</td>\n",
       "      <td>aaronto01</td>\n",
       "    </tr>\n",
       "    <tr>\n",
       "      <th>3</th>\n",
       "      <td>aasedo01</td>\n",
       "      <td>1954.0</td>\n",
       "      <td>9.0</td>\n",
       "      <td>8.0</td>\n",
       "      <td>USA</td>\n",
       "      <td>CA</td>\n",
       "      <td>Orange</td>\n",
       "      <td>NaN</td>\n",
       "      <td>NaN</td>\n",
       "      <td>NaN</td>\n",
       "      <td>...</td>\n",
       "      <td>Aase</td>\n",
       "      <td>Donald William</td>\n",
       "      <td>190.0</td>\n",
       "      <td>75.0</td>\n",
       "      <td>R</td>\n",
       "      <td>R</td>\n",
       "      <td>1977-07-26</td>\n",
       "      <td>1990-10-03</td>\n",
       "      <td>aased001</td>\n",
       "      <td>aasedo01</td>\n",
       "    </tr>\n",
       "    <tr>\n",
       "      <th>4</th>\n",
       "      <td>abadan01</td>\n",
       "      <td>1972.0</td>\n",
       "      <td>8.0</td>\n",
       "      <td>25.0</td>\n",
       "      <td>USA</td>\n",
       "      <td>FL</td>\n",
       "      <td>Palm Beach</td>\n",
       "      <td>NaN</td>\n",
       "      <td>NaN</td>\n",
       "      <td>NaN</td>\n",
       "      <td>...</td>\n",
       "      <td>Abad</td>\n",
       "      <td>Fausto Andres</td>\n",
       "      <td>184.0</td>\n",
       "      <td>73.0</td>\n",
       "      <td>L</td>\n",
       "      <td>L</td>\n",
       "      <td>2001-09-10</td>\n",
       "      <td>2006-04-13</td>\n",
       "      <td>abada001</td>\n",
       "      <td>abadan01</td>\n",
       "    </tr>\n",
       "  </tbody>\n",
       "</table>\n",
       "<p>5 rows × 24 columns</p>\n",
       "</div>"
      ],
      "text/plain": [
       "    playerID  birthYear  birthMonth  birthDay birthCountry birthState  \\\n",
       "0  aardsda01     1981.0        12.0      27.0          USA         CO   \n",
       "1  aaronha01     1934.0         2.0       5.0          USA         AL   \n",
       "2  aaronto01     1939.0         8.0       5.0          USA         AL   \n",
       "3   aasedo01     1954.0         9.0       8.0          USA         CA   \n",
       "4   abadan01     1972.0         8.0      25.0          USA         FL   \n",
       "\n",
       "    birthCity  deathYear  deathMonth  deathDay  ... nameLast       nameGiven  \\\n",
       "0      Denver        NaN         NaN       NaN  ...  Aardsma     David Allan   \n",
       "1      Mobile        NaN         NaN       NaN  ...    Aaron     Henry Louis   \n",
       "2      Mobile     1984.0         8.0      16.0  ...    Aaron      Tommie Lee   \n",
       "3      Orange        NaN         NaN       NaN  ...     Aase  Donald William   \n",
       "4  Palm Beach        NaN         NaN       NaN  ...     Abad   Fausto Andres   \n",
       "\n",
       "  weight height bats throws       debut   finalGame   retroID    bbrefID  \n",
       "0  215.0   75.0    R      R  2004-04-06  2015-08-23  aardd001  aardsda01  \n",
       "1  180.0   72.0    R      R  1954-04-13  1976-10-03  aaroh101  aaronha01  \n",
       "2  190.0   75.0    R      R  1962-04-10  1971-09-26  aarot101  aaronto01  \n",
       "3  190.0   75.0    R      R  1977-07-26  1990-10-03  aased001   aasedo01  \n",
       "4  184.0   73.0    L      L  2001-09-10  2006-04-13  abada001   abadan01  \n",
       "\n",
       "[5 rows x 24 columns]"
      ]
     },
     "execution_count": 3,
     "metadata": {},
     "output_type": "execute_result"
    }
   ],
   "source": [
    "people = pd.read_csv('/Users/bg8485bw/DSCI430/baseball/core/People.csv')\n",
    "people.head()"
   ]
  },
  {
   "cell_type": "code",
   "execution_count": 4,
   "metadata": {
    "scrolled": true
   },
   "outputs": [
    {
     "data": {
      "text/plain": [
       "(19370, 24)"
      ]
     },
     "execution_count": 4,
     "metadata": {},
     "output_type": "execute_result"
    }
   ],
   "source": [
    "people.shape"
   ]
  },
  {
   "cell_type": "markdown",
   "metadata": {},
   "source": [
    "## <font color=\"red\"> Exercise 1 </font>\n",
    "\n",
    "Inspect the types of the `people` table and make note of any necessary changes."
   ]
  },
  {
   "cell_type": "code",
   "execution_count": 5,
   "metadata": {},
   "outputs": [
    {
     "data": {
      "text/plain": [
       "playerID         object\n",
       "birthYear       float64\n",
       "birthMonth      float64\n",
       "birthDay        float64\n",
       "birthCountry     object\n",
       "birthState       object\n",
       "birthCity        object\n",
       "deathYear       float64\n",
       "deathMonth      float64\n",
       "deathDay        float64\n",
       "deathCountry     object\n",
       "deathState       object\n",
       "deathCity        object\n",
       "nameFirst        object\n",
       "nameLast         object\n",
       "nameGiven        object\n",
       "weight          float64\n",
       "height          float64\n",
       "bats             object\n",
       "throws           object\n",
       "debut            object\n",
       "finalGame        object\n",
       "retroID          object\n",
       "bbrefID          object\n",
       "dtype: object"
      ]
     },
     "execution_count": 5,
     "metadata": {},
     "output_type": "execute_result"
    }
   ],
   "source": [
    "# Your code here\n",
    "people.dtypes\n"
   ]
  },
  {
   "cell_type": "markdown",
   "metadata": {},
   "source": [
    "*Your thoughts here*\n",
    "\n",
    "debut and final game should be date time, \n",
    "the birth and month columns should be int64type.\n",
    "Capital I ints can have missing values."
   ]
  },
  {
   "cell_type": "markdown",
   "metadata": {},
   "source": [
    "## Missing `Int64` columns\n",
    "\n",
    "As mentioned in [Lecture 1/4](./pbpython/notebooks/1_4_more_on_pandas_data_types_key.ipynb), we need to use the most recent version `pandas` (still in development as of this writing) to allow us to have integer columns with missing values."
   ]
  },
  {
   "cell_type": "code",
   "execution_count": 6,
   "metadata": {},
   "outputs": [],
   "source": [
    "assert pd.__version__.startswith('0.24'), \"Please uncomment and run the pip command to upgrade pandas\"\n",
    "#!pip install --upgrade --pre pandas"
   ]
  },
  {
   "cell_type": "markdown",
   "metadata": {},
   "source": []
  },
  {
   "cell_type": "markdown",
   "metadata": {},
   "source": [
    "## Correcting the `pandas` types\n",
    "\n",
    "1. We pass `parse_dates` a list of date columns\n",
    "2. We pass `dtypes` a `dict` of types of the birth and death columns"
   ]
  },
  {
   "cell_type": "markdown",
   "metadata": {},
   "source": [
    "#### Constructing the `dtype` `dict`"
   ]
  },
  {
   "cell_type": "code",
   "execution_count": 7,
   "metadata": {
    "collapsed": true
   },
   "outputs": [],
   "source": [
    "date_cols = ['debut', 'finalGame']"
   ]
  },
  {
   "cell_type": "code",
   "execution_count": 8,
   "metadata": {},
   "outputs": [
    {
     "data": {
      "text/plain": [
       "{'birthDay': Int64Dtype(),\n",
       " 'birthMonth': Int64Dtype(),\n",
       " 'birthYear': Int64Dtype(),\n",
       " 'deathDay': Int64Dtype(),\n",
       " 'deathMonth': Int64Dtype(),\n",
       " 'deathYear': Int64Dtype()}"
      ]
     },
     "execution_count": 8,
     "metadata": {},
     "output_type": "execute_result"
    }
   ],
   "source": [
    "birth_death_date_cols = [prefix + time for prefix in ('birth', 'death') for time in ('Year', 'Month', 'Day')]\n",
    "people_dtypes = {col:pd.Int64Dtype() for col in people.columns if col in birth_death_date_cols}\n",
    "people_dtypes"
   ]
  },
  {
   "cell_type": "markdown",
   "metadata": {},
   "source": [
    "## Rereading the csv with the correct types"
   ]
  },
  {
   "cell_type": "code",
   "execution_count": 9,
   "metadata": {},
   "outputs": [
    {
     "data": {
      "text/plain": [
       "playerID                object\n",
       "birthYear                Int64\n",
       "birthMonth               Int64\n",
       "birthDay                 Int64\n",
       "birthCountry            object\n",
       "birthState              object\n",
       "birthCity               object\n",
       "deathYear                Int64\n",
       "deathMonth               Int64\n",
       "deathDay                 Int64\n",
       "deathCountry            object\n",
       "deathState              object\n",
       "deathCity               object\n",
       "nameFirst               object\n",
       "nameLast                object\n",
       "nameGiven               object\n",
       "weight                 float64\n",
       "height                 float64\n",
       "bats                    object\n",
       "throws                  object\n",
       "debut           datetime64[ns]\n",
       "finalGame       datetime64[ns]\n",
       "retroID                 object\n",
       "bbrefID                 object\n",
       "dtype: object"
      ]
     },
     "execution_count": 9,
     "metadata": {},
     "output_type": "execute_result"
    }
   ],
   "source": [
    "people = pd.read_csv('/Users/bg8485bw/DSCI430/baseball/core/People.csv', dtype=people_dtypes, parse_dates=date_cols)\n",
    "people.dtypes"
   ]
  },
  {
   "cell_type": "markdown",
   "metadata": {},
   "source": [
    "## <font color=\"red\"> Exercise 2 </font>\n",
    "**Goal:** Find a method/attribute of each `dtype`, which preferably returns something immutable like a `str`, that we can use to identify the general type.\n",
    "**Tasks:**\n",
    "\n",
    "1. Pull off an example `dtype`\n",
    "2. Use `dir` to inspect the available methods\n",
    "3. Test the methods/attributes to find a good candidate."
   ]
  },
  {
   "cell_type": "code",
   "execution_count": 11,
   "metadata": {},
   "outputs": [
    {
     "data": {
      "text/plain": [
       "['alignment',\n",
       " 'base',\n",
       " 'byteorder',\n",
       " 'char',\n",
       " 'descr',\n",
       " 'fields',\n",
       " 'flags',\n",
       " 'hasobject',\n",
       " 'isalignedstruct',\n",
       " 'isbuiltin',\n",
       " 'isnative',\n",
       " 'itemsize',\n",
       " 'kind',\n",
       " 'metadata',\n",
       " 'name',\n",
       " 'names',\n",
       " 'ndim',\n",
       " 'newbyteorder',\n",
       " 'num',\n",
       " 'shape',\n",
       " 'str',\n",
       " 'subdtype',\n",
       " 'type']"
      ]
     },
     "execution_count": 11,
     "metadata": {},
     "output_type": "execute_result"
    }
   ],
   "source": [
    "# Your code here\n",
    "a = first(people).dtype\n",
    "[m for m in dir(a) if not m.startswith(\"__\")]"
   ]
  },
  {
   "cell_type": "code",
   "execution_count": 12,
   "metadata": {},
   "outputs": [
    {
     "data": {
      "text/plain": [
       "['O',\n",
       " 'i',\n",
       " 'i',\n",
       " 'i',\n",
       " 'O',\n",
       " 'O',\n",
       " 'O',\n",
       " 'i',\n",
       " 'i',\n",
       " 'i',\n",
       " 'O',\n",
       " 'O',\n",
       " 'O',\n",
       " 'O',\n",
       " 'O',\n",
       " 'O',\n",
       " 'f',\n",
       " 'f',\n",
       " 'O',\n",
       " 'O',\n",
       " 'M',\n",
       " 'M',\n",
       " 'O',\n",
       " 'O']"
      ]
     },
     "execution_count": 12,
     "metadata": {},
     "output_type": "execute_result"
    }
   ],
   "source": [
    "# name is a good candidate but uses to much memory, kind is better\n",
    "[t.kind for t in people.dtypes]"
   ]
  },
  {
   "cell_type": "code",
   "execution_count": 13,
   "metadata": {},
   "outputs": [
    {
     "data": {
      "text/plain": [
       "playerID                object\n",
       "birthYear                Int64\n",
       "birthMonth               Int64\n",
       "birthDay                 Int64\n",
       "birthCountry            object\n",
       "birthState              object\n",
       "birthCity               object\n",
       "deathYear                Int64\n",
       "deathMonth               Int64\n",
       "deathDay                 Int64\n",
       "deathCountry            object\n",
       "deathState              object\n",
       "deathCity               object\n",
       "nameFirst               object\n",
       "nameLast                object\n",
       "nameGiven               object\n",
       "weight                 float64\n",
       "height                 float64\n",
       "bats                    object\n",
       "throws                  object\n",
       "debut           datetime64[ns]\n",
       "finalGame       datetime64[ns]\n",
       "retroID                 object\n",
       "bbrefID                 object\n",
       "dtype: object"
      ]
     },
     "execution_count": 13,
     "metadata": {},
     "output_type": "execute_result"
    }
   ],
   "source": [
    "people.dtypes"
   ]
  },
  {
   "cell_type": "markdown",
   "metadata": {},
   "source": [
    "## Creating a type conversion dictionary\n",
    "\n",
    "1. keys will be the `dtype.kind` strings\n",
    "2. The `values` will be the associated `sqlalchemy` types"
   ]
  },
  {
   "cell_type": "code",
   "execution_count": 14,
   "metadata": {},
   "outputs": [
    {
     "data": {
      "text/plain": [
       "{'M': sqlalchemy.sql.sqltypes.DateTime,\n",
       " 'O': sqlalchemy.sql.sqltypes.String,\n",
       " 'f': sqlalchemy.sql.sqltypes.Float,\n",
       " 'i': sqlalchemy.sql.sqltypes.Integer}"
      ]
     },
     "execution_count": 14,
     "metadata": {},
     "output_type": "execute_result"
    }
   ],
   "source": [
    "from sqlalchemy import Integer, Float, String, DateTime\n",
    "DTYPES_TO_SQLALCHEMY_TYPES = {'O':String,\n",
    "                              'i':Integer,\n",
    "                              'f':Float,\n",
    "                              'M':DateTime}\n",
    "DTYPES_TO_SQLALCHEMY_TYPES ## <---- Treat this as a constant fix for dtypes."
   ]
  },
  {
   "cell_type": "markdown",
   "metadata": {},
   "source": [
    "## Use ALL CAPS for global constants\n",
    "\n",
    "When dealing with global constants, we should\n",
    "\n",
    "1. Define them at the top of the file.\n",
    "2. Use an ALL CAPS name to make them stand out."
   ]
  },
  {
   "cell_type": "code",
   "execution_count": 15,
   "metadata": {},
   "outputs": [
    {
     "data": {
      "text/plain": [
       "[('playerID', True),\n",
       " ('birthYear', False),\n",
       " ('birthMonth', False),\n",
       " ('birthDay', False),\n",
       " ('birthCountry', False),\n",
       " ('birthState', False),\n",
       " ('birthCity', False),\n",
       " ('deathYear', False),\n",
       " ('deathMonth', False),\n",
       " ('deathDay', False),\n",
       " ('deathCountry', False),\n",
       " ('deathState', False),\n",
       " ('deathCity', False),\n",
       " ('nameFirst', False),\n",
       " ('nameLast', False),\n",
       " ('nameGiven', False),\n",
       " ('weight', False),\n",
       " ('height', False),\n",
       " ('bats', False),\n",
       " ('throws', False),\n",
       " ('debut', False),\n",
       " ('finalGame', False),\n",
       " ('retroID', False),\n",
       " ('bbrefID', False)]"
      ]
     },
     "execution_count": 15,
     "metadata": {},
     "output_type": "execute_result"
    }
   ],
   "source": [
    "[(col, people[col].is_unique) for col in people]"
   ]
  },
  {
   "cell_type": "markdown",
   "metadata": {},
   "source": [
    "## <font color=\"red\"> Exercise 3 </font>\n",
    "\n",
    "Write a `dict` comprehension that uses our conversion `dict` to convert the `pandas` `dtypes` to `sqlalchemy` types."
   ]
  },
  {
   "cell_type": "code",
   "execution_count": 16,
   "metadata": {},
   "outputs": [
    {
     "data": {
      "text/plain": [
       "{'bats': sqlalchemy.sql.sqltypes.String,\n",
       " 'bbrefID': sqlalchemy.sql.sqltypes.String,\n",
       " 'birthCity': sqlalchemy.sql.sqltypes.String,\n",
       " 'birthCountry': sqlalchemy.sql.sqltypes.String,\n",
       " 'birthDay': sqlalchemy.sql.sqltypes.Integer,\n",
       " 'birthMonth': sqlalchemy.sql.sqltypes.Integer,\n",
       " 'birthState': sqlalchemy.sql.sqltypes.String,\n",
       " 'birthYear': sqlalchemy.sql.sqltypes.Integer,\n",
       " 'deathCity': sqlalchemy.sql.sqltypes.String,\n",
       " 'deathCountry': sqlalchemy.sql.sqltypes.String,\n",
       " 'deathDay': sqlalchemy.sql.sqltypes.Integer,\n",
       " 'deathMonth': sqlalchemy.sql.sqltypes.Integer,\n",
       " 'deathState': sqlalchemy.sql.sqltypes.String,\n",
       " 'deathYear': sqlalchemy.sql.sqltypes.Integer,\n",
       " 'debut': sqlalchemy.sql.sqltypes.DateTime,\n",
       " 'finalGame': sqlalchemy.sql.sqltypes.DateTime,\n",
       " 'height': sqlalchemy.sql.sqltypes.Float,\n",
       " 'nameFirst': sqlalchemy.sql.sqltypes.String,\n",
       " 'nameGiven': sqlalchemy.sql.sqltypes.String,\n",
       " 'nameLast': sqlalchemy.sql.sqltypes.String,\n",
       " 'playerID': sqlalchemy.sql.sqltypes.String,\n",
       " 'retroID': sqlalchemy.sql.sqltypes.String,\n",
       " 'throws': sqlalchemy.sql.sqltypes.String,\n",
       " 'weight': sqlalchemy.sql.sqltypes.Float}"
      ]
     },
     "execution_count": 16,
     "metadata": {},
     "output_type": "execute_result"
    }
   ],
   "source": [
    "# Your code here\n",
    "from toolz import get\n",
    "{col:get(dtype.kind, DTYPES_TO_SQLALCHEMY_TYPES) \n",
    " for (col,dtype) in zip(people.columns,people.dtypes)}"
   ]
  },
  {
   "cell_type": "markdown",
   "metadata": {},
   "source": [
    "## <font color=\"red\"> Exercise 4 </font>\n",
    "\n",
    "Package your expression in a `lambda` and refactor your code by adding helper functions to clean up the expression."
   ]
  },
  {
   "cell_type": "code",
   "execution_count": 17,
   "metadata": {},
   "outputs": [],
   "source": [
    "# lambda function before refactoring\n",
    "def get_sql_types(df):\n",
    "    sql_type = lambda type: get(type.kind,DTYPES_TO_SQLALCHEMY_TYPES)\n",
    "    cols_and_dtypes = lambda df: zip(df.columns,df.dtypes)\n",
    "    return {cols:sql_type(dtypes) for cols,dtypes in cols_and_dtypes(df)}\n"
   ]
  },
  {
   "cell_type": "code",
   "execution_count": 18,
   "metadata": {},
   "outputs": [
    {
     "data": {
      "text/plain": [
       "{'bats': sqlalchemy.sql.sqltypes.String,\n",
       " 'bbrefID': sqlalchemy.sql.sqltypes.String,\n",
       " 'birthCity': sqlalchemy.sql.sqltypes.String,\n",
       " 'birthCountry': sqlalchemy.sql.sqltypes.String,\n",
       " 'birthDay': sqlalchemy.sql.sqltypes.Integer,\n",
       " 'birthMonth': sqlalchemy.sql.sqltypes.Integer,\n",
       " 'birthState': sqlalchemy.sql.sqltypes.String,\n",
       " 'birthYear': sqlalchemy.sql.sqltypes.Integer,\n",
       " 'deathCity': sqlalchemy.sql.sqltypes.String,\n",
       " 'deathCountry': sqlalchemy.sql.sqltypes.String,\n",
       " 'deathDay': sqlalchemy.sql.sqltypes.Integer,\n",
       " 'deathMonth': sqlalchemy.sql.sqltypes.Integer,\n",
       " 'deathState': sqlalchemy.sql.sqltypes.String,\n",
       " 'deathYear': sqlalchemy.sql.sqltypes.Integer,\n",
       " 'debut': sqlalchemy.sql.sqltypes.DateTime,\n",
       " 'finalGame': sqlalchemy.sql.sqltypes.DateTime,\n",
       " 'height': sqlalchemy.sql.sqltypes.Float,\n",
       " 'nameFirst': sqlalchemy.sql.sqltypes.String,\n",
       " 'nameGiven': sqlalchemy.sql.sqltypes.String,\n",
       " 'nameLast': sqlalchemy.sql.sqltypes.String,\n",
       " 'playerID': sqlalchemy.sql.sqltypes.String,\n",
       " 'retroID': sqlalchemy.sql.sqltypes.String,\n",
       " 'throws': sqlalchemy.sql.sqltypes.String,\n",
       " 'weight': sqlalchemy.sql.sqltypes.Float}"
      ]
     },
     "execution_count": 18,
     "metadata": {},
     "output_type": "execute_result"
    }
   ],
   "source": [
    "# refactored lambda function and helper functions\n",
    "get_sql_types(people)"
   ]
  },
  {
   "cell_type": "markdown",
   "metadata": {},
   "source": [
    "## <font color=\"red\"> Exercise 5 </font>\n",
    "\n",
    "Add the `People.csv` to your `baseball.db`"
   ]
  },
  {
   "cell_type": "code",
   "execution_count": 19,
   "metadata": {},
   "outputs": [],
   "source": [
    "# Fire up the engines!\n",
    "from sqlalchemy.ext.automap import automap_base\n",
    "from sqlalchemy.orm import sessionmaker\n",
    "from sqlalchemy import select\n",
    "from sqlalchemy import create_engine\n",
    "\n",
    "mang_eng = create_engine(\"sqlite:///databases/baseball.db\")\n",
    "mang_eng.echo = True\n",
    "\n",
    "mang_eng2 = create_engine(\"sqlite:///databases/baseball.db\") \n",
    "Session = sessionmaker(mang_eng)\n",
    "session = Session()"
   ]
  },
  {
   "cell_type": "code",
   "execution_count": 20,
   "metadata": {},
   "outputs": [
    {
     "name": "stdout",
     "output_type": "stream",
     "text": [
      "\n",
      "CREATE TABLE people (\n",
      "\t\"playerID\" VARCHAR NOT NULL, \n",
      "\t\"birthYear\" INTEGER, \n",
      "\t\"birthMonth\" INTEGER, \n",
      "\t\"birthDay\" INTEGER, \n",
      "\t\"birthCountry\" VARCHAR, \n",
      "\t\"birthState\" VARCHAR, \n",
      "\t\"birthCity\" VARCHAR, \n",
      "\t\"deathYear\" INTEGER, \n",
      "\t\"deathMonth\" INTEGER, \n",
      "\t\"deathDay\" INTEGER, \n",
      "\t\"deathCountry\" VARCHAR, \n",
      "\t\"deathState\" VARCHAR, \n",
      "\t\"deathCity\" VARCHAR, \n",
      "\t\"nameFirst\" VARCHAR, \n",
      "\t\"nameLast\" VARCHAR, \n",
      "\t\"nameGiven\" VARCHAR, \n",
      "\tweight FLOAT, \n",
      "\theight FLOAT, \n",
      "\tbats VARCHAR, \n",
      "\tthrows VARCHAR, \n",
      "\tdebut DATETIME, \n",
      "\t\"finalGame\" DATETIME, \n",
      "\t\"retroID\" VARCHAR, \n",
      "\t\"bbrefID\" VARCHAR, \n",
      "\tCONSTRAINT people_pk PRIMARY KEY (\"playerID\")\n",
      ")\n",
      "\n",
      "\n"
     ]
    }
   ],
   "source": [
    "schema = pd.io.sql.get_schema(people, 'people', keys='playerID', con=mang_eng, dtype=get_sql_types(people))\n",
    "print(schema)"
   ]
  },
  {
   "cell_type": "code",
   "execution_count": 21,
   "metadata": {},
   "outputs": [
    {
     "name": "stdout",
     "output_type": "stream",
     "text": [
      "2019-02-08 13:22:23,620 INFO sqlalchemy.engine.base.Engine SELECT CAST('test plain returns' AS VARCHAR(60)) AS anon_1\n",
      "2019-02-08 13:22:23,623 INFO sqlalchemy.engine.base.Engine ()\n",
      "2019-02-08 13:22:23,627 INFO sqlalchemy.engine.base.Engine SELECT CAST('test unicode returns' AS VARCHAR(60)) AS anon_1\n",
      "2019-02-08 13:22:23,629 INFO sqlalchemy.engine.base.Engine ()\n",
      "2019-02-08 13:22:23,633 INFO sqlalchemy.engine.base.Engine \n",
      "CREATE TABLE people (\n",
      "\t\"playerID\" VARCHAR NOT NULL, \n",
      "\t\"birthYear\" INTEGER, \n",
      "\t\"birthMonth\" INTEGER, \n",
      "\t\"birthDay\" INTEGER, \n",
      "\t\"birthCountry\" VARCHAR, \n",
      "\t\"birthState\" VARCHAR, \n",
      "\t\"birthCity\" VARCHAR, \n",
      "\t\"deathYear\" INTEGER, \n",
      "\t\"deathMonth\" INTEGER, \n",
      "\t\"deathDay\" INTEGER, \n",
      "\t\"deathCountry\" VARCHAR, \n",
      "\t\"deathState\" VARCHAR, \n",
      "\t\"deathCity\" VARCHAR, \n",
      "\t\"nameFirst\" VARCHAR, \n",
      "\t\"nameLast\" VARCHAR, \n",
      "\t\"nameGiven\" VARCHAR, \n",
      "\tweight FLOAT, \n",
      "\theight FLOAT, \n",
      "\tbats VARCHAR, \n",
      "\tthrows VARCHAR, \n",
      "\tdebut DATETIME, \n",
      "\t\"finalGame\" DATETIME, \n",
      "\t\"retroID\" VARCHAR, \n",
      "\t\"bbrefID\" VARCHAR, \n",
      "\tCONSTRAINT people_pk PRIMARY KEY (\"playerID\")\n",
      ")\n",
      "\n",
      "\n",
      "2019-02-08 13:22:23,637 INFO sqlalchemy.engine.base.Engine ()\n",
      "2019-02-08 13:22:23,642 INFO sqlalchemy.engine.base.Engine COMMIT\n"
     ]
    },
    {
     "data": {
      "text/plain": [
       "<sqlalchemy.engine.result.ResultProxy at 0x10dc16630>"
      ]
     },
     "execution_count": 21,
     "metadata": {},
     "output_type": "execute_result"
    }
   ],
   "source": [
    "mang_eng.execute(schema)"
   ]
  },
  {
   "cell_type": "code",
   "execution_count": 22,
   "metadata": {},
   "outputs": [],
   "source": [
    "Base = automap_base()\n",
    "Base.prepare(mang_eng2, reflect=True)\n",
    "People = Base.classes.people"
   ]
  },
  {
   "cell_type": "code",
   "execution_count": 23,
   "metadata": {},
   "outputs": [
    {
     "name": "stdout",
     "output_type": "stream",
     "text": [
      "2019-02-08 13:22:24,839 INFO sqlalchemy.engine.base.Engine PRAGMA table_info(\"people\")\n",
      "2019-02-08 13:22:24,843 INFO sqlalchemy.engine.base.Engine ()\n",
      "2019-02-08 13:22:24,880 INFO sqlalchemy.engine.base.Engine BEGIN (implicit)\n",
      "2019-02-08 13:22:25,530 INFO sqlalchemy.engine.base.Engine INSERT INTO people (\"playerID\", \"birthYear\", \"birthMonth\", \"birthDay\", \"birthCountry\", \"birthState\", \"birthCity\", \"deathYear\", \"deathMonth\", \"deathDay\", \"deathCountry\", \"deathState\", \"deathCity\", \"nameFirst\", \"nameLast\", \"nameGiven\", weight, height, bats, throws, debut, \"finalGame\", \"retroID\", \"bbrefID\") VALUES (?, ?, ?, ?, ?, ?, ?, ?, ?, ?, ?, ?, ?, ?, ?, ?, ?, ?, ?, ?, ?, ?, ?, ?)\n",
      "2019-02-08 13:22:25,532 INFO sqlalchemy.engine.base.Engine (('aardsda01', 1981, 12, 27, 'USA', 'CO', 'Denver', None, None, None, None, None, None, 'David', 'Aardsma', 'David Allan', 215.0, 75.0, 'R', 'R', '2004-04-06 00:00:00.000000', '2015-08-23 00:00:00.000000', 'aardd001', 'aardsda01'), ('aaronha01', 1934, 2, 5, 'USA', 'AL', 'Mobile', None, None, None, None, None, None, 'Hank', 'Aaron', 'Henry Louis', 180.0, 72.0, 'R', 'R', '1954-04-13 00:00:00.000000', '1976-10-03 00:00:00.000000', 'aaroh101', 'aaronha01'), ('aaronto01', 1939, 8, 5, 'USA', 'AL', 'Mobile', 1984, 8, 16, 'USA', 'GA', 'Atlanta', 'Tommie', 'Aaron', 'Tommie Lee', 190.0, 75.0, 'R', 'R', '1962-04-10 00:00:00.000000', '1971-09-26 00:00:00.000000', 'aarot101', 'aaronto01'), ('aasedo01', 1954, 9, 8, 'USA', 'CA', 'Orange', None, None, None, None, None, None, 'Don', 'Aase', 'Donald William', 190.0, 75.0, 'R', 'R', '1977-07-26 00:00:00.000000', '1990-10-03 00:00:00.000000', 'aased001', 'aasedo01'), ('abadan01', 1972, 8, 25, 'USA', 'FL', 'Palm Beach', None, None, None, None, None, None, 'Andy', 'Abad', 'Fausto Andres', 184.0, 73.0, 'L', 'L', '2001-09-10 00:00:00.000000', '2006-04-13 00:00:00.000000', 'abada001', 'abadan01'), ('abadfe01', 1985, 12, 17, 'D.R.', 'La Romana', 'La Romana', None, None, None, None, None, None, 'Fernando', 'Abad', 'Fernando Antonio', 220.0, 73.0, 'L', 'L', '2010-07-28 00:00:00.000000', '2017-10-01 00:00:00.000000', 'abadf001', 'abadfe01'), ('abadijo01', 1850, 11, 4, 'USA', 'PA', 'Philadelphia', 1905, 5, 17, 'USA', 'NJ', 'Pemberton', 'John', 'Abadie', 'John W.', 192.0, 72.0, 'R', 'R', '1875-04-26 00:00:00.000000', '1875-06-10 00:00:00.000000', 'abadj101', 'abadijo01'), ('abbated01', 1877, 4, 15, 'USA', 'PA', 'Latrobe', 1957, 1, 6, 'USA', 'FL', 'Fort Lauderdale', 'Ed', 'Abbaticchio', 'Edward James', 170.0, 71.0, 'R', 'R', '1897-09-04 00:00:00.000000', '1910-09-15 00:00:00.000000', 'abbae101', 'abbated01')  ... displaying 10 of 19370 total bound parameter sets ...  ('zwilldu01', 1888, 11, 2, 'USA', 'MO', 'St. Louis', 1978, 3, 27, 'USA', 'CA', 'La Crescenta', 'Dutch', 'Zwilling', 'Edward Harrison', 160.0, 66.0, 'L', 'L', '1910-08-14 00:00:00.000000', '1916-07-12 00:00:00.000000', 'zwild101', 'zwilldu01'), ('zychto01', 1990, 8, 7, 'USA', 'IL', 'Monee', None, None, None, None, None, None, 'Tony', 'Zych', 'Anthony Aaron', 190.0, 75.0, 'R', 'R', '2015-09-04 00:00:00.000000', '2017-08-19 00:00:00.000000', 'zycht001', 'zychto01'))\n",
      "2019-02-08 13:22:25,819 INFO sqlalchemy.engine.base.Engine COMMIT\n"
     ]
    }
   ],
   "source": [
    "people.to_sql('people', \n",
    "                con=mang_eng, \n",
    "                dtype=get_sql_types(people), \n",
    "                index=False,\n",
    "                if_exists='append')"
   ]
  },
  {
   "cell_type": "code",
   "execution_count": 24,
   "metadata": {},
   "outputs": [
    {
     "name": "stdout",
     "output_type": "stream",
     "text": [
      "2019-02-08 13:22:25,844 INFO sqlalchemy.engine.base.Engine BEGIN (implicit)\n",
      "2019-02-08 13:22:25,846 INFO sqlalchemy.engine.base.Engine SELECT * \n",
      "FROM people\n",
      "2019-02-08 13:22:25,851 INFO sqlalchemy.engine.base.Engine ()\n"
     ]
    },
    {
     "data": {
      "text/plain": [
       "[{'bats': 'R',\n",
       "  'bbrefID': 'aardsda01',\n",
       "  'birthCity': 'Denver',\n",
       "  'birthCountry': 'USA',\n",
       "  'birthDay': 27,\n",
       "  'birthMonth': 12,\n",
       "  'birthState': 'CO',\n",
       "  'birthYear': 1981,\n",
       "  'deathCity': None,\n",
       "  'deathCountry': None,\n",
       "  'deathDay': None,\n",
       "  'deathMonth': None,\n",
       "  'deathState': None,\n",
       "  'deathYear': None,\n",
       "  'debut': '2004-04-06 00:00:00.000000',\n",
       "  'finalGame': '2015-08-23 00:00:00.000000',\n",
       "  'height': 75.0,\n",
       "  'nameFirst': 'David',\n",
       "  'nameGiven': 'David Allan',\n",
       "  'nameLast': 'Aardsma',\n",
       "  'playerID': 'aardsda01',\n",
       "  'retroID': 'aardd001',\n",
       "  'throws': 'R',\n",
       "  'weight': 215.0},\n",
       " {'bats': 'R',\n",
       "  'bbrefID': 'aaronha01',\n",
       "  'birthCity': 'Mobile',\n",
       "  'birthCountry': 'USA',\n",
       "  'birthDay': 5,\n",
       "  'birthMonth': 2,\n",
       "  'birthState': 'AL',\n",
       "  'birthYear': 1934,\n",
       "  'deathCity': None,\n",
       "  'deathCountry': None,\n",
       "  'deathDay': None,\n",
       "  'deathMonth': None,\n",
       "  'deathState': None,\n",
       "  'deathYear': None,\n",
       "  'debut': '1954-04-13 00:00:00.000000',\n",
       "  'finalGame': '1976-10-03 00:00:00.000000',\n",
       "  'height': 72.0,\n",
       "  'nameFirst': 'Hank',\n",
       "  'nameGiven': 'Henry Louis',\n",
       "  'nameLast': 'Aaron',\n",
       "  'playerID': 'aaronha01',\n",
       "  'retroID': 'aaroh101',\n",
       "  'throws': 'R',\n",
       "  'weight': 180.0},\n",
       " {'bats': 'R',\n",
       "  'bbrefID': 'aaronto01',\n",
       "  'birthCity': 'Mobile',\n",
       "  'birthCountry': 'USA',\n",
       "  'birthDay': 5,\n",
       "  'birthMonth': 8,\n",
       "  'birthState': 'AL',\n",
       "  'birthYear': 1939,\n",
       "  'deathCity': 'Atlanta',\n",
       "  'deathCountry': 'USA',\n",
       "  'deathDay': 16,\n",
       "  'deathMonth': 8,\n",
       "  'deathState': 'GA',\n",
       "  'deathYear': 1984,\n",
       "  'debut': '1962-04-10 00:00:00.000000',\n",
       "  'finalGame': '1971-09-26 00:00:00.000000',\n",
       "  'height': 75.0,\n",
       "  'nameFirst': 'Tommie',\n",
       "  'nameGiven': 'Tommie Lee',\n",
       "  'nameLast': 'Aaron',\n",
       "  'playerID': 'aaronto01',\n",
       "  'retroID': 'aarot101',\n",
       "  'throws': 'R',\n",
       "  'weight': 190.0},\n",
       " {'bats': 'R',\n",
       "  'bbrefID': 'aasedo01',\n",
       "  'birthCity': 'Orange',\n",
       "  'birthCountry': 'USA',\n",
       "  'birthDay': 8,\n",
       "  'birthMonth': 9,\n",
       "  'birthState': 'CA',\n",
       "  'birthYear': 1954,\n",
       "  'deathCity': None,\n",
       "  'deathCountry': None,\n",
       "  'deathDay': None,\n",
       "  'deathMonth': None,\n",
       "  'deathState': None,\n",
       "  'deathYear': None,\n",
       "  'debut': '1977-07-26 00:00:00.000000',\n",
       "  'finalGame': '1990-10-03 00:00:00.000000',\n",
       "  'height': 75.0,\n",
       "  'nameFirst': 'Don',\n",
       "  'nameGiven': 'Donald William',\n",
       "  'nameLast': 'Aase',\n",
       "  'playerID': 'aasedo01',\n",
       "  'retroID': 'aased001',\n",
       "  'throws': 'R',\n",
       "  'weight': 190.0},\n",
       " {'bats': 'L',\n",
       "  'bbrefID': 'abadan01',\n",
       "  'birthCity': 'Palm Beach',\n",
       "  'birthCountry': 'USA',\n",
       "  'birthDay': 25,\n",
       "  'birthMonth': 8,\n",
       "  'birthState': 'FL',\n",
       "  'birthYear': 1972,\n",
       "  'deathCity': None,\n",
       "  'deathCountry': None,\n",
       "  'deathDay': None,\n",
       "  'deathMonth': None,\n",
       "  'deathState': None,\n",
       "  'deathYear': None,\n",
       "  'debut': '2001-09-10 00:00:00.000000',\n",
       "  'finalGame': '2006-04-13 00:00:00.000000',\n",
       "  'height': 73.0,\n",
       "  'nameFirst': 'Andy',\n",
       "  'nameGiven': 'Fausto Andres',\n",
       "  'nameLast': 'Abad',\n",
       "  'playerID': 'abadan01',\n",
       "  'retroID': 'abada001',\n",
       "  'throws': 'L',\n",
       "  'weight': 184.0}]"
      ]
     },
     "execution_count": 24,
     "metadata": {},
     "output_type": "execute_result"
    }
   ],
   "source": [
    "# Looks good\n",
    "from more_sqlalchemy import result_dicts\n",
    "stmt = select('*').select_from(People)\n",
    "session.execute(stmt).fetchmany(5) >> result_dicts"
   ]
  },
  {
   "cell_type": "markdown",
   "metadata": {},
   "source": [
    "## <font color=\"red\"> Exercise 6 </font>\n",
    "\n",
    "Set up a similar automatic conversion precess for `pyspark.DataFrames`. You need to build a structure like this:\n",
    "\n",
    "```python\n",
    "schema = StructType([StructField('Name', StringType(), True),\n",
    "                     StructField('DateTime', TimestampType(), True)\n",
    "                     StructField('Age', IntegerType(), True)])\n",
    "```"
   ]
  },
  {
   "cell_type": "code",
   "execution_count": 28,
   "metadata": {},
   "outputs": [],
   "source": [
    "from pyspark.sql import SparkSession\n",
    "from pyspark.sql.functions import col, mean\n",
    "from pyspark.sql.types import *\n",
    "\n",
    "spark1 = SparkSession.builder.appName('Ops').getOrCreate()\n",
    "df_spark = spark1.read.csv('/Users/bg8485bw/DSCI430/baseball/core/People.csv', inferSchema=True, header=True)"
   ]
  },
  {
   "cell_type": "code",
   "execution_count": 29,
   "metadata": {},
   "outputs": [
    {
     "data": {
      "text/plain": [
       "['O',\n",
       " 'i',\n",
       " 'i',\n",
       " 'i',\n",
       " 'O',\n",
       " 'O',\n",
       " 'O',\n",
       " 'i',\n",
       " 'i',\n",
       " 'i',\n",
       " 'O',\n",
       " 'O',\n",
       " 'O',\n",
       " 'O',\n",
       " 'O',\n",
       " 'O',\n",
       " 'f',\n",
       " 'f',\n",
       " 'O',\n",
       " 'O',\n",
       " 'M',\n",
       " 'M',\n",
       " 'O',\n",
       " 'O']"
      ]
     },
     "execution_count": 29,
     "metadata": {},
     "output_type": "execute_result"
    }
   ],
   "source": [
    "[t.kind for t in people.dtypes]"
   ]
  },
  {
   "cell_type": "code",
   "execution_count": 30,
   "metadata": {},
   "outputs": [],
   "source": [
    "DTYPES_TO_PYSPARK_TYPES = {'O':StringType,\n",
    "                              'i':IntegerType,\n",
    "                              'f':FloatType,\n",
    "                              'M':TimestampType}"
   ]
  },
  {
   "cell_type": "code",
   "execution_count": 31,
   "metadata": {},
   "outputs": [
    {
     "data": {
      "text/plain": [
       "[('playerID', StringType, True),\n",
       " ('birthYear', IntegerType, True),\n",
       " ('birthMonth', IntegerType, True),\n",
       " ('birthDay', IntegerType, True),\n",
       " ('birthCountry', StringType, True),\n",
       " ('birthState', StringType, True),\n",
       " ('birthCity', StringType, True),\n",
       " ('deathYear', IntegerType, True),\n",
       " ('deathMonth', IntegerType, True),\n",
       " ('deathDay', IntegerType, True),\n",
       " ('deathCountry', StringType, True),\n",
       " ('deathState', StringType, True),\n",
       " ('deathCity', StringType, True),\n",
       " ('nameFirst', StringType, True),\n",
       " ('nameLast', StringType, True),\n",
       " ('nameGiven', StringType, True),\n",
       " ('weight', FloatType, True),\n",
       " ('height', FloatType, True),\n",
       " ('bats', StringType, True),\n",
       " ('throws', StringType, True),\n",
       " ('debut', TimestampType, True),\n",
       " ('finalGame', TimestampType, True),\n",
       " ('retroID', StringType, True),\n",
       " ('bbrefID', StringType, True)]"
      ]
     },
     "execution_count": 31,
     "metadata": {},
     "output_type": "execute_result"
    }
   ],
   "source": [
    "# List form instead of dict\n",
    "from toolz import get\n",
    "from itertools import *\n",
    "[(col,get(dtype.kind, DTYPES_TO_PYSPARK_TYPES)(),True)\n",
    " for (col,dtype) in zip(people.columns,people.dtypes)]"
   ]
  },
  {
   "cell_type": "code",
   "execution_count": 41,
   "metadata": {},
   "outputs": [],
   "source": [
    "# Package into lambdas\n",
    "def get_pyspark_types(df):\n",
    "    t = True\n",
    "    spark_types = lambda type:get(type.kind, DTYPES_TO_PYSPARK_TYPES)()\n",
    "    cols_and_dtpyes = lambda df:zip(df.columns, df.dtypes)\n",
    "    return [(cols,spark_types(dtypes),t) for (cols, dtypes) in cols_and_dtpyes(df)]\n",
    "    \n",
    "   "
   ]
  },
  {
   "cell_type": "code",
   "execution_count": 42,
   "metadata": {},
   "outputs": [
    {
     "ename": "AttributeError",
     "evalue": "'tuple' object has no attribute 'kind'",
     "output_type": "error",
     "traceback": [
      "\u001b[0;31m---------------------------------------------------------------------------\u001b[0m",
      "\u001b[0;31mAttributeError\u001b[0m                            Traceback (most recent call last)",
      "\u001b[0;32m<ipython-input-42-dabd8fa07a57>\u001b[0m in \u001b[0;36m<module>\u001b[0;34m()\u001b[0m\n\u001b[1;32m      1\u001b[0m \u001b[0;31m# Test function\u001b[0m\u001b[0;34m\u001b[0m\u001b[0;34m\u001b[0m\u001b[0m\n\u001b[0;32m----> 2\u001b[0;31m \u001b[0mget_pyspark_types\u001b[0m\u001b[0;34m(\u001b[0m\u001b[0mpeople\u001b[0m\u001b[0;34m)\u001b[0m\u001b[0;34m\u001b[0m\u001b[0m\n\u001b[0m",
      "\u001b[0;32m<ipython-input-41-61aaa50075e6>\u001b[0m in \u001b[0;36mget_pyspark_types\u001b[0;34m(df)\u001b[0m\n\u001b[1;32m      4\u001b[0m     \u001b[0mspark_types\u001b[0m \u001b[0;34m=\u001b[0m \u001b[0;32mlambda\u001b[0m \u001b[0mtype\u001b[0m\u001b[0;34m:\u001b[0m\u001b[0mget\u001b[0m\u001b[0;34m(\u001b[0m\u001b[0mtype\u001b[0m\u001b[0;34m.\u001b[0m\u001b[0mkind\u001b[0m\u001b[0;34m,\u001b[0m \u001b[0mDTYPES_TO_PYSPARK_TYPES\u001b[0m\u001b[0;34m)\u001b[0m\u001b[0;34m(\u001b[0m\u001b[0;34m)\u001b[0m\u001b[0;34m\u001b[0m\u001b[0m\n\u001b[1;32m      5\u001b[0m     \u001b[0mcols_and_dtpyes\u001b[0m \u001b[0;34m=\u001b[0m \u001b[0;32mlambda\u001b[0m \u001b[0mdf\u001b[0m\u001b[0;34m:\u001b[0m\u001b[0mzip\u001b[0m\u001b[0;34m(\u001b[0m\u001b[0mdf\u001b[0m\u001b[0;34m.\u001b[0m\u001b[0mcolumns\u001b[0m\u001b[0;34m,\u001b[0m \u001b[0mdf\u001b[0m\u001b[0;34m.\u001b[0m\u001b[0mdtypes\u001b[0m\u001b[0;34m)\u001b[0m\u001b[0;34m\u001b[0m\u001b[0m\n\u001b[0;32m----> 6\u001b[0;31m     \u001b[0;32mreturn\u001b[0m \u001b[0;34m[\u001b[0m\u001b[0;34m(\u001b[0m\u001b[0mcols\u001b[0m\u001b[0;34m,\u001b[0m\u001b[0mspark_types\u001b[0m\u001b[0;34m(\u001b[0m\u001b[0mdtypes\u001b[0m\u001b[0;34m)\u001b[0m\u001b[0;34m,\u001b[0m\u001b[0mt\u001b[0m\u001b[0;34m)\u001b[0m \u001b[0;32mfor\u001b[0m \u001b[0;34m(\u001b[0m\u001b[0mcols\u001b[0m\u001b[0;34m,\u001b[0m \u001b[0mdtypes\u001b[0m\u001b[0;34m)\u001b[0m \u001b[0;32min\u001b[0m \u001b[0mcols_and_dtpyes\u001b[0m\u001b[0;34m(\u001b[0m\u001b[0mdf\u001b[0m\u001b[0;34m)\u001b[0m\u001b[0;34m]\u001b[0m\u001b[0;34m\u001b[0m\u001b[0m\n\u001b[0m\u001b[1;32m      7\u001b[0m \u001b[0;34m\u001b[0m\u001b[0m\n\u001b[1;32m      8\u001b[0m \u001b[0;34m\u001b[0m\u001b[0m\n",
      "\u001b[0;32m<ipython-input-41-61aaa50075e6>\u001b[0m in \u001b[0;36m<listcomp>\u001b[0;34m(.0)\u001b[0m\n\u001b[1;32m      4\u001b[0m     \u001b[0mspark_types\u001b[0m \u001b[0;34m=\u001b[0m \u001b[0;32mlambda\u001b[0m \u001b[0mtype\u001b[0m\u001b[0;34m:\u001b[0m\u001b[0mget\u001b[0m\u001b[0;34m(\u001b[0m\u001b[0mtype\u001b[0m\u001b[0;34m.\u001b[0m\u001b[0mkind\u001b[0m\u001b[0;34m,\u001b[0m \u001b[0mDTYPES_TO_PYSPARK_TYPES\u001b[0m\u001b[0;34m)\u001b[0m\u001b[0;34m(\u001b[0m\u001b[0;34m)\u001b[0m\u001b[0;34m\u001b[0m\u001b[0m\n\u001b[1;32m      5\u001b[0m     \u001b[0mcols_and_dtpyes\u001b[0m \u001b[0;34m=\u001b[0m \u001b[0;32mlambda\u001b[0m \u001b[0mdf\u001b[0m\u001b[0;34m:\u001b[0m\u001b[0mzip\u001b[0m\u001b[0;34m(\u001b[0m\u001b[0mdf\u001b[0m\u001b[0;34m.\u001b[0m\u001b[0mcolumns\u001b[0m\u001b[0;34m,\u001b[0m \u001b[0mdf\u001b[0m\u001b[0;34m.\u001b[0m\u001b[0mdtypes\u001b[0m\u001b[0;34m)\u001b[0m\u001b[0;34m\u001b[0m\u001b[0m\n\u001b[0;32m----> 6\u001b[0;31m     \u001b[0;32mreturn\u001b[0m \u001b[0;34m[\u001b[0m\u001b[0;34m(\u001b[0m\u001b[0mcols\u001b[0m\u001b[0;34m,\u001b[0m\u001b[0mspark_types\u001b[0m\u001b[0;34m(\u001b[0m\u001b[0mdtypes\u001b[0m\u001b[0;34m)\u001b[0m\u001b[0;34m,\u001b[0m\u001b[0mt\u001b[0m\u001b[0;34m)\u001b[0m \u001b[0;32mfor\u001b[0m \u001b[0;34m(\u001b[0m\u001b[0mcols\u001b[0m\u001b[0;34m,\u001b[0m \u001b[0mdtypes\u001b[0m\u001b[0;34m)\u001b[0m \u001b[0;32min\u001b[0m \u001b[0mcols_and_dtpyes\u001b[0m\u001b[0;34m(\u001b[0m\u001b[0mdf\u001b[0m\u001b[0;34m)\u001b[0m\u001b[0;34m]\u001b[0m\u001b[0;34m\u001b[0m\u001b[0m\n\u001b[0m\u001b[1;32m      7\u001b[0m \u001b[0;34m\u001b[0m\u001b[0m\n\u001b[1;32m      8\u001b[0m \u001b[0;34m\u001b[0m\u001b[0m\n",
      "\u001b[0;32m<ipython-input-41-61aaa50075e6>\u001b[0m in \u001b[0;36m<lambda>\u001b[0;34m(type)\u001b[0m\n\u001b[1;32m      2\u001b[0m \u001b[0;32mdef\u001b[0m \u001b[0mget_pyspark_types\u001b[0m\u001b[0;34m(\u001b[0m\u001b[0mdf\u001b[0m\u001b[0;34m)\u001b[0m\u001b[0;34m:\u001b[0m\u001b[0;34m\u001b[0m\u001b[0m\n\u001b[1;32m      3\u001b[0m     \u001b[0mt\u001b[0m \u001b[0;34m=\u001b[0m \u001b[0;32mTrue\u001b[0m\u001b[0;34m\u001b[0m\u001b[0m\n\u001b[0;32m----> 4\u001b[0;31m     \u001b[0mspark_types\u001b[0m \u001b[0;34m=\u001b[0m \u001b[0;32mlambda\u001b[0m \u001b[0mtype\u001b[0m\u001b[0;34m:\u001b[0m\u001b[0mget\u001b[0m\u001b[0;34m(\u001b[0m\u001b[0mtype\u001b[0m\u001b[0;34m.\u001b[0m\u001b[0mkind\u001b[0m\u001b[0;34m,\u001b[0m \u001b[0mDTYPES_TO_PYSPARK_TYPES\u001b[0m\u001b[0;34m)\u001b[0m\u001b[0;34m(\u001b[0m\u001b[0;34m)\u001b[0m\u001b[0;34m\u001b[0m\u001b[0m\n\u001b[0m\u001b[1;32m      5\u001b[0m     \u001b[0mcols_and_dtpyes\u001b[0m \u001b[0;34m=\u001b[0m \u001b[0;32mlambda\u001b[0m \u001b[0mdf\u001b[0m\u001b[0;34m:\u001b[0m\u001b[0mzip\u001b[0m\u001b[0;34m(\u001b[0m\u001b[0mdf\u001b[0m\u001b[0;34m.\u001b[0m\u001b[0mcolumns\u001b[0m\u001b[0;34m,\u001b[0m \u001b[0mdf\u001b[0m\u001b[0;34m.\u001b[0m\u001b[0mdtypes\u001b[0m\u001b[0;34m)\u001b[0m\u001b[0;34m\u001b[0m\u001b[0m\n\u001b[1;32m      6\u001b[0m     \u001b[0;32mreturn\u001b[0m \u001b[0;34m[\u001b[0m\u001b[0;34m(\u001b[0m\u001b[0mcols\u001b[0m\u001b[0;34m,\u001b[0m\u001b[0mspark_types\u001b[0m\u001b[0;34m(\u001b[0m\u001b[0mdtypes\u001b[0m\u001b[0;34m)\u001b[0m\u001b[0;34m,\u001b[0m\u001b[0mt\u001b[0m\u001b[0;34m)\u001b[0m \u001b[0;32mfor\u001b[0m \u001b[0;34m(\u001b[0m\u001b[0mcols\u001b[0m\u001b[0;34m,\u001b[0m \u001b[0mdtypes\u001b[0m\u001b[0;34m)\u001b[0m \u001b[0;32min\u001b[0m \u001b[0mcols_and_dtpyes\u001b[0m\u001b[0;34m(\u001b[0m\u001b[0mdf\u001b[0m\u001b[0;34m)\u001b[0m\u001b[0;34m]\u001b[0m\u001b[0;34m\u001b[0m\u001b[0m\n",
      "\u001b[0;31mAttributeError\u001b[0m: 'tuple' object has no attribute 'kind'"
     ]
    }
   ],
   "source": [
    "# Test function\n",
    "# Not sure if it only can be instantiated once?\n",
    "get_pyspark_types(people)"
   ]
  },
  {
   "cell_type": "code",
   "execution_count": 49,
   "metadata": {},
   "outputs": [
    {
     "ename": "AttributeError",
     "evalue": "'tuple' object has no attribute 'kind'",
     "output_type": "error",
     "traceback": [
      "\u001b[0;31m---------------------------------------------------------------------------\u001b[0m",
      "\u001b[0;31mAttributeError\u001b[0m                            Traceback (most recent call last)",
      "\u001b[0;32m<ipython-input-49-83e3b651b936>\u001b[0m in \u001b[0;36m<module>\u001b[0;34m()\u001b[0m\n\u001b[1;32m      1\u001b[0m \u001b[0;31m# Seems to be the case\u001b[0m\u001b[0;34m\u001b[0m\u001b[0;34m\u001b[0m\u001b[0m\n\u001b[0;32m----> 2\u001b[0;31m \u001b[0msf\u001b[0m \u001b[0;34m=\u001b[0m \u001b[0;34m[\u001b[0m\u001b[0mStructField\u001b[0m\u001b[0;34m(\u001b[0m\u001b[0mnames\u001b[0m\u001b[0;34m,\u001b[0m\u001b[0mtype\u001b[0m\u001b[0;34m,\u001b[0m\u001b[0mnull\u001b[0m\u001b[0;34m)\u001b[0m \u001b[0;32mfor\u001b[0m \u001b[0;34m(\u001b[0m\u001b[0mnames\u001b[0m\u001b[0;34m,\u001b[0m\u001b[0mtype\u001b[0m\u001b[0;34m,\u001b[0m\u001b[0mnull\u001b[0m\u001b[0;34m)\u001b[0m \u001b[0;32min\u001b[0m \u001b[0mget_pyspark_types\u001b[0m\u001b[0;34m(\u001b[0m\u001b[0mpeople\u001b[0m\u001b[0;34m)\u001b[0m\u001b[0;34m]\u001b[0m\u001b[0;34m\u001b[0m\u001b[0m\n\u001b[0m\u001b[1;32m      3\u001b[0m \u001b[0mStructType\u001b[0m\u001b[0;34m(\u001b[0m\u001b[0msf\u001b[0m\u001b[0;34m)\u001b[0m\u001b[0;34m\u001b[0m\u001b[0m\n",
      "\u001b[0;32m<ipython-input-41-61aaa50075e6>\u001b[0m in \u001b[0;36mget_pyspark_types\u001b[0;34m(df)\u001b[0m\n\u001b[1;32m      4\u001b[0m     \u001b[0mspark_types\u001b[0m \u001b[0;34m=\u001b[0m \u001b[0;32mlambda\u001b[0m \u001b[0mtype\u001b[0m\u001b[0;34m:\u001b[0m\u001b[0mget\u001b[0m\u001b[0;34m(\u001b[0m\u001b[0mtype\u001b[0m\u001b[0;34m.\u001b[0m\u001b[0mkind\u001b[0m\u001b[0;34m,\u001b[0m \u001b[0mDTYPES_TO_PYSPARK_TYPES\u001b[0m\u001b[0;34m)\u001b[0m\u001b[0;34m(\u001b[0m\u001b[0;34m)\u001b[0m\u001b[0;34m\u001b[0m\u001b[0m\n\u001b[1;32m      5\u001b[0m     \u001b[0mcols_and_dtpyes\u001b[0m \u001b[0;34m=\u001b[0m \u001b[0;32mlambda\u001b[0m \u001b[0mdf\u001b[0m\u001b[0;34m:\u001b[0m\u001b[0mzip\u001b[0m\u001b[0;34m(\u001b[0m\u001b[0mdf\u001b[0m\u001b[0;34m.\u001b[0m\u001b[0mcolumns\u001b[0m\u001b[0;34m,\u001b[0m \u001b[0mdf\u001b[0m\u001b[0;34m.\u001b[0m\u001b[0mdtypes\u001b[0m\u001b[0;34m)\u001b[0m\u001b[0;34m\u001b[0m\u001b[0m\n\u001b[0;32m----> 6\u001b[0;31m     \u001b[0;32mreturn\u001b[0m \u001b[0;34m[\u001b[0m\u001b[0;34m(\u001b[0m\u001b[0mcols\u001b[0m\u001b[0;34m,\u001b[0m\u001b[0mspark_types\u001b[0m\u001b[0;34m(\u001b[0m\u001b[0mdtypes\u001b[0m\u001b[0;34m)\u001b[0m\u001b[0;34m,\u001b[0m\u001b[0mt\u001b[0m\u001b[0;34m)\u001b[0m \u001b[0;32mfor\u001b[0m \u001b[0;34m(\u001b[0m\u001b[0mcols\u001b[0m\u001b[0;34m,\u001b[0m \u001b[0mdtypes\u001b[0m\u001b[0;34m)\u001b[0m \u001b[0;32min\u001b[0m \u001b[0mcols_and_dtpyes\u001b[0m\u001b[0;34m(\u001b[0m\u001b[0mdf\u001b[0m\u001b[0;34m)\u001b[0m\u001b[0;34m]\u001b[0m\u001b[0;34m\u001b[0m\u001b[0m\n\u001b[0m\u001b[1;32m      7\u001b[0m \u001b[0;34m\u001b[0m\u001b[0m\n\u001b[1;32m      8\u001b[0m \u001b[0;34m\u001b[0m\u001b[0m\n",
      "\u001b[0;32m<ipython-input-41-61aaa50075e6>\u001b[0m in \u001b[0;36m<listcomp>\u001b[0;34m(.0)\u001b[0m\n\u001b[1;32m      4\u001b[0m     \u001b[0mspark_types\u001b[0m \u001b[0;34m=\u001b[0m \u001b[0;32mlambda\u001b[0m \u001b[0mtype\u001b[0m\u001b[0;34m:\u001b[0m\u001b[0mget\u001b[0m\u001b[0;34m(\u001b[0m\u001b[0mtype\u001b[0m\u001b[0;34m.\u001b[0m\u001b[0mkind\u001b[0m\u001b[0;34m,\u001b[0m \u001b[0mDTYPES_TO_PYSPARK_TYPES\u001b[0m\u001b[0;34m)\u001b[0m\u001b[0;34m(\u001b[0m\u001b[0;34m)\u001b[0m\u001b[0;34m\u001b[0m\u001b[0m\n\u001b[1;32m      5\u001b[0m     \u001b[0mcols_and_dtpyes\u001b[0m \u001b[0;34m=\u001b[0m \u001b[0;32mlambda\u001b[0m \u001b[0mdf\u001b[0m\u001b[0;34m:\u001b[0m\u001b[0mzip\u001b[0m\u001b[0;34m(\u001b[0m\u001b[0mdf\u001b[0m\u001b[0;34m.\u001b[0m\u001b[0mcolumns\u001b[0m\u001b[0;34m,\u001b[0m \u001b[0mdf\u001b[0m\u001b[0;34m.\u001b[0m\u001b[0mdtypes\u001b[0m\u001b[0;34m)\u001b[0m\u001b[0;34m\u001b[0m\u001b[0m\n\u001b[0;32m----> 6\u001b[0;31m     \u001b[0;32mreturn\u001b[0m \u001b[0;34m[\u001b[0m\u001b[0;34m(\u001b[0m\u001b[0mcols\u001b[0m\u001b[0;34m,\u001b[0m\u001b[0mspark_types\u001b[0m\u001b[0;34m(\u001b[0m\u001b[0mdtypes\u001b[0m\u001b[0;34m)\u001b[0m\u001b[0;34m,\u001b[0m\u001b[0mt\u001b[0m\u001b[0;34m)\u001b[0m \u001b[0;32mfor\u001b[0m \u001b[0;34m(\u001b[0m\u001b[0mcols\u001b[0m\u001b[0;34m,\u001b[0m \u001b[0mdtypes\u001b[0m\u001b[0;34m)\u001b[0m \u001b[0;32min\u001b[0m \u001b[0mcols_and_dtpyes\u001b[0m\u001b[0;34m(\u001b[0m\u001b[0mdf\u001b[0m\u001b[0;34m)\u001b[0m\u001b[0;34m]\u001b[0m\u001b[0;34m\u001b[0m\u001b[0m\n\u001b[0m\u001b[1;32m      7\u001b[0m \u001b[0;34m\u001b[0m\u001b[0m\n\u001b[1;32m      8\u001b[0m \u001b[0;34m\u001b[0m\u001b[0m\n",
      "\u001b[0;32m<ipython-input-41-61aaa50075e6>\u001b[0m in \u001b[0;36m<lambda>\u001b[0;34m(type)\u001b[0m\n\u001b[1;32m      2\u001b[0m \u001b[0;32mdef\u001b[0m \u001b[0mget_pyspark_types\u001b[0m\u001b[0;34m(\u001b[0m\u001b[0mdf\u001b[0m\u001b[0;34m)\u001b[0m\u001b[0;34m:\u001b[0m\u001b[0;34m\u001b[0m\u001b[0m\n\u001b[1;32m      3\u001b[0m     \u001b[0mt\u001b[0m \u001b[0;34m=\u001b[0m \u001b[0;32mTrue\u001b[0m\u001b[0;34m\u001b[0m\u001b[0m\n\u001b[0;32m----> 4\u001b[0;31m     \u001b[0mspark_types\u001b[0m \u001b[0;34m=\u001b[0m \u001b[0;32mlambda\u001b[0m \u001b[0mtype\u001b[0m\u001b[0;34m:\u001b[0m\u001b[0mget\u001b[0m\u001b[0;34m(\u001b[0m\u001b[0mtype\u001b[0m\u001b[0;34m.\u001b[0m\u001b[0mkind\u001b[0m\u001b[0;34m,\u001b[0m \u001b[0mDTYPES_TO_PYSPARK_TYPES\u001b[0m\u001b[0;34m)\u001b[0m\u001b[0;34m(\u001b[0m\u001b[0;34m)\u001b[0m\u001b[0;34m\u001b[0m\u001b[0m\n\u001b[0m\u001b[1;32m      5\u001b[0m     \u001b[0mcols_and_dtpyes\u001b[0m \u001b[0;34m=\u001b[0m \u001b[0;32mlambda\u001b[0m \u001b[0mdf\u001b[0m\u001b[0;34m:\u001b[0m\u001b[0mzip\u001b[0m\u001b[0;34m(\u001b[0m\u001b[0mdf\u001b[0m\u001b[0;34m.\u001b[0m\u001b[0mcolumns\u001b[0m\u001b[0;34m,\u001b[0m \u001b[0mdf\u001b[0m\u001b[0;34m.\u001b[0m\u001b[0mdtypes\u001b[0m\u001b[0;34m)\u001b[0m\u001b[0;34m\u001b[0m\u001b[0m\n\u001b[1;32m      6\u001b[0m     \u001b[0;32mreturn\u001b[0m \u001b[0;34m[\u001b[0m\u001b[0;34m(\u001b[0m\u001b[0mcols\u001b[0m\u001b[0;34m,\u001b[0m\u001b[0mspark_types\u001b[0m\u001b[0;34m(\u001b[0m\u001b[0mdtypes\u001b[0m\u001b[0;34m)\u001b[0m\u001b[0;34m,\u001b[0m\u001b[0mt\u001b[0m\u001b[0;34m)\u001b[0m \u001b[0;32mfor\u001b[0m \u001b[0;34m(\u001b[0m\u001b[0mcols\u001b[0m\u001b[0;34m,\u001b[0m \u001b[0mdtypes\u001b[0m\u001b[0;34m)\u001b[0m \u001b[0;32min\u001b[0m \u001b[0mcols_and_dtpyes\u001b[0m\u001b[0;34m(\u001b[0m\u001b[0mdf\u001b[0m\u001b[0;34m)\u001b[0m\u001b[0;34m]\u001b[0m\u001b[0;34m\u001b[0m\u001b[0m\n",
      "\u001b[0;31mAttributeError\u001b[0m: 'tuple' object has no attribute 'kind'"
     ]
    }
   ],
   "source": [
    "# Seems to be the case\n",
    "sf = [StructField(names,type,null) for (names,type,null) in get_pyspark_types(people)]\n",
    "StructType(sf)"
   ]
  },
  {
   "cell_type": "code",
   "execution_count": 50,
   "metadata": {},
   "outputs": [],
   "source": [
    "# Assign StructType to StructFields\n",
    "schema1 = StructType(sf)"
   ]
  },
  {
   "cell_type": "code",
   "execution_count": 51,
   "metadata": {},
   "outputs": [
    {
     "data": {
      "text/plain": [
       "DataFrame[playerID: string, birthYear: int, birthMonth: int, birthDay: int, birthCountry: string, birthState: string, birthCity: string, deathYear: int, deathMonth: int, deathDay: int, deathCountry: string, deathState: string, deathCity: string, nameFirst: string, nameLast: string, nameGiven: string, weight: float, height: float, bats: string, throws: string, debut: timestamp, finalGame: timestamp, retroID: string, bbrefID: string]"
      ]
     },
     "execution_count": 51,
     "metadata": {},
     "output_type": "execute_result"
    }
   ],
   "source": [
    "# Read in the data into spark\n",
    "people = spark1.read.csv('/Users/bg8485bw/DSCI430/baseball/core/People.csv', header=True, schema=schema1, nullValue='-')\n",
    "people"
   ]
  },
  {
   "cell_type": "code",
   "execution_count": 52,
   "metadata": {},
   "outputs": [
    {
     "name": "stdout",
     "output_type": "stream",
     "text": [
      "root\n",
      " |-- playerID: string (nullable = true)\n",
      " |-- birthYear: integer (nullable = true)\n",
      " |-- birthMonth: integer (nullable = true)\n",
      " |-- birthDay: integer (nullable = true)\n",
      " |-- birthCountry: string (nullable = true)\n",
      " |-- birthState: string (nullable = true)\n",
      " |-- birthCity: string (nullable = true)\n",
      " |-- deathYear: integer (nullable = true)\n",
      " |-- deathMonth: integer (nullable = true)\n",
      " |-- deathDay: integer (nullable = true)\n",
      " |-- deathCountry: string (nullable = true)\n",
      " |-- deathState: string (nullable = true)\n",
      " |-- deathCity: string (nullable = true)\n",
      " |-- nameFirst: string (nullable = true)\n",
      " |-- nameLast: string (nullable = true)\n",
      " |-- nameGiven: string (nullable = true)\n",
      " |-- weight: float (nullable = true)\n",
      " |-- height: float (nullable = true)\n",
      " |-- bats: string (nullable = true)\n",
      " |-- throws: string (nullable = true)\n",
      " |-- debut: timestamp (nullable = true)\n",
      " |-- finalGame: timestamp (nullable = true)\n",
      " |-- retroID: string (nullable = true)\n",
      " |-- bbrefID: string (nullable = true)\n",
      "\n"
     ]
    }
   ],
   "source": [
    "# Print schema\n",
    "people.printSchema()"
   ]
  },
  {
   "cell_type": "code",
   "execution_count": 54,
   "metadata": {},
   "outputs": [
    {
     "data": {
      "text/plain": [
       "[Row(playerID='aardsda01', birthYear=1981, birthMonth=12, birthDay=27, birthCountry='USA', birthState='CO', birthCity='Denver', deathYear=None, deathMonth=None, deathDay=None, deathCountry=None, deathState=None, deathCity=None, nameFirst='David', nameLast='Aardsma', nameGiven='David Allan', weight=215.0, height=75.0, bats='R', throws='R', debut=datetime.datetime(2004, 4, 6, 0, 0), finalGame=datetime.datetime(2015, 8, 23, 0, 0), retroID='aardd001', bbrefID='aardsda01'),\n",
       " Row(playerID='aaronha01', birthYear=1934, birthMonth=2, birthDay=5, birthCountry='USA', birthState='AL', birthCity='Mobile', deathYear=None, deathMonth=None, deathDay=None, deathCountry=None, deathState=None, deathCity=None, nameFirst='Hank', nameLast='Aaron', nameGiven='Henry Louis', weight=180.0, height=72.0, bats='R', throws='R', debut=datetime.datetime(1954, 4, 13, 0, 0), finalGame=datetime.datetime(1976, 10, 3, 0, 0), retroID='aaroh101', bbrefID='aaronha01'),\n",
       " Row(playerID='aaronto01', birthYear=1939, birthMonth=8, birthDay=5, birthCountry='USA', birthState='AL', birthCity='Mobile', deathYear=1984, deathMonth=8, deathDay=16, deathCountry='USA', deathState='GA', deathCity='Atlanta', nameFirst='Tommie', nameLast='Aaron', nameGiven='Tommie Lee', weight=190.0, height=75.0, bats='R', throws='R', debut=datetime.datetime(1962, 4, 10, 0, 0), finalGame=datetime.datetime(1971, 9, 26, 0, 0), retroID='aarot101', bbrefID='aaronto01'),\n",
       " Row(playerID='aasedo01', birthYear=1954, birthMonth=9, birthDay=8, birthCountry='USA', birthState='CA', birthCity='Orange', deathYear=None, deathMonth=None, deathDay=None, deathCountry=None, deathState=None, deathCity=None, nameFirst='Don', nameLast='Aase', nameGiven='Donald William', weight=190.0, height=75.0, bats='R', throws='R', debut=datetime.datetime(1977, 7, 26, 0, 0), finalGame=datetime.datetime(1990, 10, 3, 0, 0), retroID='aased001', bbrefID='aasedo01'),\n",
       " Row(playerID='abadan01', birthYear=1972, birthMonth=8, birthDay=25, birthCountry='USA', birthState='FL', birthCity='Palm Beach', deathYear=None, deathMonth=None, deathDay=None, deathCountry=None, deathState=None, deathCity=None, nameFirst='Andy', nameLast='Abad', nameGiven='Fausto Andres', weight=184.0, height=73.0, bats='L', throws='L', debut=datetime.datetime(2001, 9, 10, 0, 0), finalGame=datetime.datetime(2006, 4, 13, 0, 0), retroID='abada001', bbrefID='abadan01')]"
      ]
     },
     "execution_count": 54,
     "metadata": {},
     "output_type": "execute_result"
    }
   ],
   "source": [
    "# Test head\n",
    "# Works!\n",
    "people.take(5)"
   ]
  },
  {
   "cell_type": "code",
   "execution_count": null,
   "metadata": {
    "collapsed": true
   },
   "outputs": [],
   "source": []
  }
 ],
 "metadata": {
  "kernelspec": {
   "display_name": "Python 3",
   "language": "python",
   "name": "python3"
  },
  "language_info": {
   "codemirror_mode": {
    "name": "ipython",
    "version": 3
   },
   "file_extension": ".py",
   "mimetype": "text/x-python",
   "name": "python",
   "nbconvert_exporter": "python",
   "pygments_lexer": "ipython3",
   "version": "3.6.3"
  },
  "varInspector": {
   "cols": {
    "lenName": 16,
    "lenType": 16,
    "lenVar": 40
   },
   "kernels_config": {
    "python": {
     "delete_cmd_postfix": "",
     "delete_cmd_prefix": "del ",
     "library": "var_list.py",
     "varRefreshCmd": "print(var_dic_list())"
    },
    "r": {
     "delete_cmd_postfix": ") ",
     "delete_cmd_prefix": "rm(",
     "library": "var_list.r",
     "varRefreshCmd": "cat(var_dic_list()) "
    }
   },
   "types_to_exclude": [
    "module",
    "function",
    "builtin_function_or_method",
    "instance",
    "_Feature"
   ],
   "window_display": false
  }
 },
 "nbformat": 4,
 "nbformat_minor": 2
}
