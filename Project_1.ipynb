{
 "cells": [
  {
   "cell_type": "code",
   "execution_count": 1,
   "metadata": {
    "collapsed": true
   },
   "outputs": [],
   "source": [
    "import pandas as pd\n",
    "import os\n",
    "from toolz import first\n",
    "import functoolz"
   ]
  },
  {
   "cell_type": "code",
   "execution_count": 2,
   "metadata": {},
   "outputs": [
    {
     "data": {
      "text/plain": [
       "True"
      ]
     },
     "execution_count": 2,
     "metadata": {},
     "output_type": "execute_result"
    }
   ],
   "source": [
    "os.path.isfile('/Users/bg8485bw/Desktop/DSCI430/Project1/MinneMUDAC_raw_files/2002_metro_tax_parcels.txt')"
   ]
  },
  {
   "cell_type": "code",
   "execution_count": 3,
   "metadata": {},
   "outputs": [
    {
     "data": {
      "text/plain": [
       "13"
      ]
     },
     "execution_count": 3,
     "metadata": {},
     "output_type": "execute_result"
    }
   ],
   "source": [
    "years = range(2002,2016)\n",
    "base_str = \"/Users/bg8485bw/Desktop/DSCI430/Project1/MinneMUDAC_raw_files/{0}_metro_tax_parcels.txt\"\n",
    "file_name = [base_str.format(year) for year in years if year != 2003]\n",
    "len(file_name)"
   ]
  },
  {
   "cell_type": "code",
   "execution_count": 4,
   "metadata": {},
   "outputs": [
    {
     "name": "stdout",
     "output_type": "stream",
     "text": [
      "ACRES_DEED|ACRES_POLY|AGPRE_ENRD|AGPRE_EXPD|AG_PRESERV|BASEMENT|BLDG_NUM|BLOCK|CITY|CITY_USPS|COOLING|COUNTY_ID|DWELL_TYPE|EMV_BLDG|EMV_LAND|EMV_TOTAL|FIN_SQ_FT|GARAGE|GARAGESQFT|GREEN_ACRE|HEATING|HOMESTEAD|HOME_STYLE|LANDMARK|LOT|MULTI_USES|NUM_UNITS|OPEN_SPACE|OWNER_MORE|OWNER_NAME|OWN_ADD_L1|OWN_ADD_L2|OWN_ADD_L3|OWN_NAME|PARC_CODE|PIN|PIN_1|PLAT_NAME|PREFIXTYPE|PREFIX_DIR|SALE_DATE|SALE_VALUE|SCHOOL_DST|SPEC_ASSES|STREET|STREETNAME|STREETTYPE|STRUC_TYPE|SUFFIX_DIR|Shape_Area|Shape_Leng|TAX_ADD_L1|TAX_ADD_L2|TAX_ADD_L3|TAX_ADD_LI|TAX_CAPAC|TAX_EXEMPT|TAX_NAME|TOTAL_TAX|UNIT_INFO|USE1_DESC|USE2_DESC|USE3_DESC|USE4_DESC|WSHD_DIST|XUSE1_DESC|XUSE2_DESC|XUSE3_DESC|XUSE4_DESC|YEAR_BUILT|Year|ZIP|ZIP4|centroid_lat|centroid_long\r\n",
      "||||||14195||ANDOVER|||003||222460.0|55510.0|292596.0||||||Y|||||||||14195 ALDER ST NW||ANDOVER, MN 55304||0.0|003-253224440139|||||2000-11-17|295547.0|11||14195 ALDER ST NW|||RAMBLER BASEMENT||630.998818085|103.296560124|14195 ALDER ST NW||ANDOVER, MN 55304||2566.0|N||2621.0||||||COON CREEK WATERSHED DISTRICT|||||2000.0|2002|55304||45.22909|-93.26612\r\n",
      "||||||14189||ANDOVER|||003||228185.0|51240.0|295572.0||||||Y|||||||||14189 ALDER ST NW||ANDOVER, MN 55304||0.0|003-253224440138|||||2000-04-28|288699.0|11||14189 ALDER ST NW|||DET. PT-RAMBLER BSMT||618.552705616|102.967952506|801 MARQUETTE AVE||MPLS, MN 55402||2648.0|N||2715.0||||||COON CREEK WATERSHED DISTRICT|||||1999.0|2002|55304||45.22895|-93.26596\r\n",
      "||||||14177||ANDOVER|||003||213657.0|51240.0|286457.0||||||Y|||||||||14177 ALDER ST NW||ANDOVER, MN 55304||0.0|003-253224440136|||||2000-03-31|259445.0|11||14177 ALDER ST NW|||DET. PT-RAMBLER BSMT||584.639926739|99.612228932|14177 ALDER ST NW||ANDOVER, MN 55304||2550.0|N||2602.0||||||COON CREEK WATERSHED DISTRICT|||||1999.0|2002|55304||45.22867|-93.26571\r\n",
      "||||||14165||ANDOVER|||003||205653.0|51240.0|270221.0||||||Y|||||||||14165 ALDER ST NW||ANDOVER, MN 55304||0.0|003-253224440134|||||1999-11-24|240035.0|11||14165 ALDER ST NW|||DET. PT-RAMBLER BSMT||647.930828798|104.297724009|14165 ALDER ST NW||ANDOVER, MN 55304||2390.0|N||2418.0||||||COON CREEK WATERSHED DISTRICT|||||1999.0|2002|55304||45.22832|-93.26552\r\n"
     ]
    }
   ],
   "source": [
    "!head -n 5 /Users/bg8485bw/Desktop/DSCI430/Project1/MinneMUDAC_raw_files/2002_metro_tax_parcels.txt"
   ]
  },
  {
   "cell_type": "code",
   "execution_count": 5,
   "metadata": {
    "collapsed": true
   },
   "outputs": [],
   "source": [
    "#Get files\n",
    "# first the files\n",
    "# Get the columns\n",
    "# Set the files\n",
    "# Union\n",
    "# Intersection"
   ]
  },
  {
   "cell_type": "code",
   "execution_count": 6,
   "metadata": {},
   "outputs": [
    {
     "data": {
      "text/plain": [
       "13"
      ]
     },
     "execution_count": 6,
     "metadata": {},
     "output_type": "execute_result"
    }
   ],
   "source": [
    "# Reads in all the files except 2003\n",
    "files = [pd.read_csv(file, chunksize=500, sep='|') for file in file_name]\n",
    "# Gets first for all the files\n",
    "first_1 = [first(file) for file in files]\n",
    "# Gets the columns from all the files\n",
    "all_cols =[col.columns for col in first_1]\n",
    "# Make the columns into sets\n",
    "setting = [set(col) for col in all_cols]\n",
    "len(setting)"
   ]
  },
  {
   "cell_type": "code",
   "execution_count": 7,
   "metadata": {},
   "outputs": [
    {
     "name": "stdout",
     "output_type": "stream",
     "text": [
      "{'ACRES_POLY', 'OWN_ADD_L2', 'PIN_1', 'AG_PRESERV', 'XUSE3_DESC', 'ZIP4', 'EMV_LAND', 'OWNER_MORE', 'UNIT_INFO', 'OWN_ADD_L1', 'AGPRE_EXPD', 'ACRES_DEED', 'USE3_DESC', 'TAX_NAME', 'GREEN_ACRE', 'Shape_STLe', 'Year', 'Shape_STAr', 'COUNTY_ID', 'NUM_UNITS', 'OWN_ADD_L3', 'SCHOOL_DST', 'TAX_ADD_L1', 'EMV_TOTAL', 'centroid_long', 'ZIP', 'PREFIX_DIR', 'DWELL_TYPE', 'Shape_Area', 'YEAR_BUILT', 'HOMESTEAD', 'BLDG_NUM', 'PIN', 'EMV_BLDG', 'OPEN_SPACE', 'GARAGESQFT', 'USE2_DESC', 'SUFFIX_DIR', 'TAX_ADD_LI', 'TAX_ADD_L2', 'TAX_CAPAC', 'ID', 'FIN_SQ_FT', 'COOLING', 'SALE_VALUE', 'STRUC_TYPE', 'centroid_lat', 'SPEC_ASSES', 'AGPRE_ENRD', 'Shape_Le_1', 'MULTI_USES', 'HEATING', 'TOTAL_TAX', 'STREETNAME', 'USE4_DESC', 'PLAT_NAME', 'LANDMARK', 'OWNER_NAME', 'TAX_ADD_L3', 'BLOCK', 'TAX_EXEMPT', 'SALE_DATE', 'STREETTYPE', 'TORRENS', 'WSHD_DIST', 'Shape_Leng', 'Garage', 'LOT', 'Homestead', 'STREET', 'XUSE2_DESC', 'BASEMENT', 'OWN_NAME', 'PREFIXTYPE', 'CITY_USPS', 'PARC_CODE', 'XUSE4_DESC', 'CITY', 'USE1_DESC', 'HOME_STYLE', 'XUSE1_DESC', 'GARAGE'} 82\n"
     ]
    }
   ],
   "source": [
    "# Union of sets\n",
    "all_items = setting[0]\n",
    "for s in setting[1:]:\n",
    "    all_items = all_items.union(s)\n",
    "print(all_items,len(all_items))"
   ]
  },
  {
   "cell_type": "code",
   "execution_count": 10,
   "metadata": {},
   "outputs": [
    {
     "name": "stdout",
     "output_type": "stream",
     "text": [
      "{'TAX_ADD_L2', 'TAX_CAPAC', 'ACRES_POLY', 'FIN_SQ_FT', 'OWN_ADD_L2', 'AG_PRESERV', 'COOLING', 'SALE_VALUE', 'XUSE3_DESC', 'ZIP4', 'EMV_LAND', 'OWNER_MORE', 'SPEC_ASSES', 'centroid_lat', 'AGPRE_ENRD', 'MULTI_USES', 'UNIT_INFO', 'HEATING', 'OWN_ADD_L1', 'TOTAL_TAX', 'STREETNAME', 'USE4_DESC', 'AGPRE_EXPD', 'PLAT_NAME', 'ACRES_DEED', 'LANDMARK', 'OWNER_NAME', 'TAX_ADD_L3', 'BLOCK', 'GREEN_ACRE', 'TAX_EXEMPT', 'SALE_DATE', 'TAX_NAME', 'USE3_DESC', 'STREETTYPE', 'Year', 'COUNTY_ID', 'NUM_UNITS', 'OWN_ADD_L3', 'SCHOOL_DST', 'TAX_ADD_L1', 'EMV_TOTAL', 'WSHD_DIST', 'centroid_long', 'ZIP', 'Shape_Leng', 'PREFIX_DIR', 'LOT', 'DWELL_TYPE', 'XUSE2_DESC', 'Shape_Area', 'BASEMENT', 'YEAR_BUILT', 'HOMESTEAD', 'BLDG_NUM', 'PIN', 'EMV_BLDG', 'PREFIXTYPE', 'OPEN_SPACE', 'CITY_USPS', 'PARC_CODE', 'GARAGESQFT', 'XUSE4_DESC', 'CITY', 'USE1_DESC', 'HOME_STYLE', 'XUSE1_DESC', 'USE2_DESC', 'GARAGE', 'SUFFIX_DIR'} 70\n"
     ]
    }
   ],
   "source": [
    "# Intersection of sets\n",
    "common_items = setting[0]\n",
    "for s in setting[1:]:\n",
    "    common_items = common_items.intersection(s)\n",
    "print(common_items,len(common_items))\n"
   ]
  },
  {
   "cell_type": "code",
   "execution_count": 11,
   "metadata": {
    "scrolled": false
   },
   "outputs": [
    {
     "data": {
      "text/plain": [
       "[(2002, {'OWN_NAME', 'PIN_1', 'STREET', 'STRUC_TYPE', 'TAX_ADD_LI'}),\n",
       " (2004, set()),\n",
       " (2005, set()),\n",
       " (2006, {'Garage', 'Homestead'}),\n",
       " (2007, {'Garage', 'Homestead'}),\n",
       " (2008, {'Garage', 'Homestead'}),\n",
       " (2009, {'Garage'}),\n",
       " (2010, set()),\n",
       " (2011, set()),\n",
       " (2012, set()),\n",
       " (2013, {'Shape_Le_1', 'Shape_STAr', 'Shape_STLe', 'TORRENS'}),\n",
       " (2014, set())]"
      ]
     },
     "execution_count": 11,
     "metadata": {},
     "output_type": "execute_result"
    }
   ],
   "source": [
    "# Difference of sets\n",
    "difference = [(year, s.difference(common_items)) for year,s in zip(years, setting) if year != 2003]\n",
    "difference"
   ]
  },
  {
   "cell_type": "code",
   "execution_count": null,
   "metadata": {},
   "outputs": [],
   "source": []
  },
  {
   "cell_type": "code",
   "execution_count": null,
   "metadata": {
    "collapsed": true
   },
   "outputs": [],
   "source": []
  }
 ],
 "metadata": {
  "kernelspec": {
   "display_name": "Python 3",
   "language": "python",
   "name": "python3"
  },
  "language_info": {
   "codemirror_mode": {
    "name": "ipython",
    "version": 3
   },
   "file_extension": ".py",
   "mimetype": "text/x-python",
   "name": "python",
   "nbconvert_exporter": "python",
   "pygments_lexer": "ipython3",
   "version": "3.6.3"
  }
 },
 "nbformat": 4,
 "nbformat_minor": 2
}
