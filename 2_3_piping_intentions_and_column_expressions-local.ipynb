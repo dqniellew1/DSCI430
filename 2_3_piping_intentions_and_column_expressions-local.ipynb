{
 "cells": [
  {
   "cell_type": "markdown",
   "metadata": {},
   "source": [
    "# More on Piping, Intentions, and Column Expressions"
   ]
  },
  {
   "cell_type": "code",
   "execution_count": 1,
   "metadata": {
    "collapsed": true
   },
   "outputs": [],
   "source": [
    "import pandas as pd\n",
    "from dfply import *\n",
    "import matplotlib.pylab as plt\n",
    "%matplotlib inline"
   ]
  },
  {
   "cell_type": "code",
   "execution_count": 2,
   "metadata": {
    "collapsed": true
   },
   "outputs": [],
   "source": [
    "artists = pd.read_csv(\"./data/Artists.csv\")\n",
    "artwork = pd.read_csv(\"./data/Artworks.csv\")"
   ]
  },
  {
   "cell_type": "code",
   "execution_count": 11,
   "metadata": {},
   "outputs": [
    {
     "data": {
      "text/html": [
       "<div>\n",
       "<style scoped>\n",
       "    .dataframe tbody tr th:only-of-type {\n",
       "        vertical-align: middle;\n",
       "    }\n",
       "\n",
       "    .dataframe tbody tr th {\n",
       "        vertical-align: top;\n",
       "    }\n",
       "\n",
       "    .dataframe thead th {\n",
       "        text-align: right;\n",
       "    }\n",
       "</style>\n",
       "<table border=\"1\" class=\"dataframe\">\n",
       "  <thead>\n",
       "    <tr style=\"text-align: right;\">\n",
       "      <th></th>\n",
       "      <th>ConstituentID</th>\n",
       "      <th>DisplayName</th>\n",
       "      <th>ArtistBio</th>\n",
       "      <th>Nationality</th>\n",
       "      <th>Gender</th>\n",
       "      <th>BeginDate</th>\n",
       "      <th>EndDate</th>\n",
       "      <th>Wiki QID</th>\n",
       "      <th>ULAN</th>\n",
       "    </tr>\n",
       "  </thead>\n",
       "  <tbody>\n",
       "    <tr>\n",
       "      <th>0</th>\n",
       "      <td>1</td>\n",
       "      <td>Robert Arneson</td>\n",
       "      <td>American, 1930–1992</td>\n",
       "      <td>American</td>\n",
       "      <td>Male</td>\n",
       "      <td>1930</td>\n",
       "      <td>1992</td>\n",
       "      <td>NaN</td>\n",
       "      <td>NaN</td>\n",
       "    </tr>\n",
       "    <tr>\n",
       "      <th>1</th>\n",
       "      <td>2</td>\n",
       "      <td>Doroteo Arnaiz</td>\n",
       "      <td>Spanish, born 1936</td>\n",
       "      <td>Spanish</td>\n",
       "      <td>Male</td>\n",
       "      <td>1936</td>\n",
       "      <td>0</td>\n",
       "      <td>NaN</td>\n",
       "      <td>NaN</td>\n",
       "    </tr>\n",
       "    <tr>\n",
       "      <th>2</th>\n",
       "      <td>3</td>\n",
       "      <td>Bill Arnold</td>\n",
       "      <td>American, born 1941</td>\n",
       "      <td>American</td>\n",
       "      <td>Male</td>\n",
       "      <td>1941</td>\n",
       "      <td>0</td>\n",
       "      <td>NaN</td>\n",
       "      <td>NaN</td>\n",
       "    </tr>\n",
       "    <tr>\n",
       "      <th>3</th>\n",
       "      <td>4</td>\n",
       "      <td>Charles Arnoldi</td>\n",
       "      <td>American, born 1946</td>\n",
       "      <td>American</td>\n",
       "      <td>Male</td>\n",
       "      <td>1946</td>\n",
       "      <td>0</td>\n",
       "      <td>Q1063584</td>\n",
       "      <td>500027998.0</td>\n",
       "    </tr>\n",
       "    <tr>\n",
       "      <th>4</th>\n",
       "      <td>5</td>\n",
       "      <td>Per Arnoldi</td>\n",
       "      <td>Danish, born 1941</td>\n",
       "      <td>Danish</td>\n",
       "      <td>Male</td>\n",
       "      <td>1941</td>\n",
       "      <td>0</td>\n",
       "      <td>NaN</td>\n",
       "      <td>NaN</td>\n",
       "    </tr>\n",
       "  </tbody>\n",
       "</table>\n",
       "</div>"
      ],
      "text/plain": [
       "   ConstituentID      DisplayName            ArtistBio Nationality Gender  \\\n",
       "0              1   Robert Arneson  American, 1930–1992    American   Male   \n",
       "1              2   Doroteo Arnaiz   Spanish, born 1936     Spanish   Male   \n",
       "2              3      Bill Arnold  American, born 1941    American   Male   \n",
       "3              4  Charles Arnoldi  American, born 1946    American   Male   \n",
       "4              5      Per Arnoldi    Danish, born 1941      Danish   Male   \n",
       "\n",
       "   BeginDate  EndDate  Wiki QID         ULAN  \n",
       "0       1930     1992       NaN          NaN  \n",
       "1       1936        0       NaN          NaN  \n",
       "2       1941        0       NaN          NaN  \n",
       "3       1946        0  Q1063584  500027998.0  \n",
       "4       1941        0       NaN          NaN  "
      ]
     },
     "execution_count": 11,
     "metadata": {},
     "output_type": "execute_result"
    }
   ],
   "source": [
    "artists.head()"
   ]
  },
  {
   "cell_type": "code",
   "execution_count": 8,
   "metadata": {},
   "outputs": [
    {
     "data": {
      "text/plain": [
       "array(['American', 'Spanish', 'Danish', 'Italian', 'French', 'Estonian',\n",
       "       'Mexican', 'Swedish', nan, 'Israeli', 'British', 'Finnish',\n",
       "       'Polish', 'Palestinian', 'Japanese', 'Guatemalan', 'Colombian',\n",
       "       'Romanian', 'Russian', 'German', 'Argentine', 'Kuwaiti', 'Various',\n",
       "       'Belgian', 'Dutch', 'Norwegian', 'Nationality unknown', 'Chilean',\n",
       "       'Swiss', 'Costa Rican', 'Czech', 'Brazilian', 'Austrian',\n",
       "       'Canadian', 'Australian', 'Ukrainian', 'Hungarian', 'Haitian',\n",
       "       'Congolese', 'Bolivian', 'Cuban', 'Yugoslav', 'Portuguese',\n",
       "       'Indian', 'Icelandic', 'Irish', 'Guyanese', 'Uruguayan', 'Slovak',\n",
       "       'Croatian', 'Greek', 'Peruvian', 'Chinese', 'Venezuelan', 'Turkish',\n",
       "       'Panamanian', 'Algerian', 'Ecuadorian', 'South African', 'Iranian',\n",
       "       'Korean', 'Canadian Inuit', 'Paraguayan', 'Luxembourgish',\n",
       "       'Nicaraguan', 'Zimbabwean', 'Moroccan', 'Tanzanian', 'Bulgarian',\n",
       "       'Tunisian', 'Sudanese', 'Taiwanese', 'Ethiopian', 'Slovenian',\n",
       "       'Scottish', 'Latvian', 'Nationality Unknown', 'Senegalese', 'Thai',\n",
       "       'New Zealander', 'Lithuanian', 'Pakistani', 'Bahamian', 'Bosnian',\n",
       "       'Malian', 'Czechoslovakian', 'Georgian', 'Egyptian', 'Kenyan',\n",
       "       'Emirati', 'Nigerian', 'Cypriot', 'Albanian', 'Azerbaijani',\n",
       "       'Ivorian', 'Malaysian', 'Serbian', 'Singaporean', 'Tajik',\n",
       "       'Namibian', 'Armenian', 'Cambodian', 'Ghanaian', 'Afghan',\n",
       "       'Native American', 'Lebanese', 'Kyrgyzstani', 'Vietnamese',\n",
       "       'nationality unknown', 'Ugandan', 'Cameroonian', 'Welsh',\n",
       "       'Mauritanian', 'Syrian', 'Iraqi', 'Saudi Arabian', 'Kazakhstani',\n",
       "       'Rwandan', 'Indonesian', 'Burkinabe', 'Macedonian', 'Filipino',\n",
       "       'Mozambican', 'Angolan', 'Puerto Rican', 'Catalan', 'Sahrawi',\n",
       "       'Bangladeshi', 'Kazakh', 'Coptic', 'Persian'], dtype=object)"
      ]
     },
     "execution_count": 8,
     "metadata": {},
     "output_type": "execute_result"
    }
   ],
   "source": [
    "artists['Nationality'].unique()"
   ]
  },
  {
   "cell_type": "code",
   "execution_count": null,
   "metadata": {},
   "outputs": [],
   "source": []
  },
  {
   "cell_type": "code",
   "execution_count": 20,
   "metadata": {
    "collapsed": true
   },
   "outputs": [],
   "source": [
    "# carried over from the last lecture\n",
    "bad_lbls = (artists >> \n",
    "             filter_by(X.Nationality.str.lower().str.startswith('nation').astype('bool')) >>\n",
    "             pull('Nationality')).unique()"
   ]
  },
  {
   "cell_type": "code",
   "execution_count": 21,
   "metadata": {},
   "outputs": [
    {
     "data": {
      "text/plain": [
       "array([nan, 'Nationality unknown', 'Nationality Unknown',\n",
       "       'nationality unknown'], dtype=object)"
      ]
     },
     "execution_count": 21,
     "metadata": {},
     "output_type": "execute_result"
    }
   ],
   "source": [
    "bad_lbls"
   ]
  },
  {
   "cell_type": "code",
   "execution_count": 3,
   "metadata": {
    "collapsed": true
   },
   "outputs": [],
   "source": [
    "recode_bad_lbls = {old_lbl:'Nationality unknown' for old_lbl in bad_lbls}\n",
    "replace_zero = {0:np.NaN}"
   ]
  },
  {
   "cell_type": "code",
   "execution_count": null,
   "metadata": {},
   "outputs": [],
   "source": []
  },
  {
   "cell_type": "markdown",
   "metadata": {},
   "source": [
    "## Why we love piping? \n",
    "\n",
    "### Reason 1: Composition Baby!\n",
    "\n",
    "It is very easy to put separate pipe together."
   ]
  },
  {
   "cell_type": "code",
   "execution_count": 4,
   "metadata": {
    "collapsed": true
   },
   "outputs": [],
   "source": [
    "artists_renamed = (artists >>\n",
    "                    rename(Wiki_QID = 'Wiki QID'))\n",
    "artists_new = (artists >>\n",
    "                mutate(Nationality = X.Nationality.replace(recode_bad_lbls)))\n",
    "artists_new = (artists_renamed >>\n",
    "                mutate(BeginDate = X.BeginDate.replace(replace_zero)))"
   ]
  },
  {
   "cell_type": "markdown",
   "metadata": {},
   "source": [
    "## To compose separate pipes\n",
    "\n",
    "1. Switch ending `)` to `>>`\n",
    "2. Remove the next assignment\n",
    "3. ??\n",
    "4. Profit!"
   ]
  },
  {
   "cell_type": "code",
   "execution_count": 5,
   "metadata": {
    "collapsed": true
   },
   "outputs": [],
   "source": [
    "artists_renamed = (artists >>\n",
    "                    rename(Wiki_QID = 'Wiki QID') >> #)\n",
    "#artists_new = (artists >>\n",
    "                mutate(Nationality = X.Nationality.replace(recode_bad_lbls)) >> #)\n",
    "#artists_new = (artists_renamed >>\n",
    "                mutate(BeginDate = X.BeginDate.replace(replace_zero)))"
   ]
  },
  {
   "cell_type": "markdown",
   "metadata": {},
   "source": [
    "## End product ... full process in a single pipe"
   ]
  },
  {
   "cell_type": "code",
   "execution_count": 6,
   "metadata": {
    "collapsed": true
   },
   "outputs": [],
   "source": [
    "artists_renamed = (artists >>\n",
    "                    rename(Wiki_QID = 'Wiki QID') >>\n",
    "                    mutate(Nationality = X.Nationality.replace(recode_bad_lbls)) >>\n",
    "                    mutate(BeginDate = X.BeginDate.replace(replace_zero)))"
   ]
  },
  {
   "cell_type": "markdown",
   "metadata": {},
   "source": [
    "## Why we love piping? \n",
    "\n",
    "### Reason 2: Textual Gravity!\n",
    "\n",
    "A pipe clearly expression the intention of our code by\n",
    "\n",
    "1. Reading left-to-right and top-to-bottom\n",
    "2. Putting the verbs up front"
   ]
  },
  {
   "cell_type": "code",
   "execution_count": 31,
   "metadata": {
    "collapsed": true
   },
   "outputs": [],
   "source": [
    "artists_renamed = (artists >>\n",
    "                    rename(Wiki_QID = 'Wiki QID') >>\n",
    "                    mutate(Nationality = X.Nationality.replace(recode_bad_lbls)) >>\n",
    "                    mutate(BeginDate = X.BeginDate.replace(replace_zero)))"
   ]
  },
  {
   "cell_type": "markdown",
   "metadata": {},
   "source": [
    "## Why we love piping? \n",
    "\n",
    "### Reason 3: Easy debugging\n",
    "\n",
    "Comments make it easy to debug a pipe."
   ]
  },
  {
   "cell_type": "markdown",
   "metadata": {},
   "source": [
    "## Debugging Step 1 - Start at the top\n",
    "\n",
    "Use comments to remove all part of the chain\n",
    "\n",
    "*Don't forget the ending `)`*"
   ]
  },
  {
   "cell_type": "code",
   "execution_count": 32,
   "metadata": {
    "collapsed": true
   },
   "outputs": [],
   "source": [
    "artists_renamed = (artists ) #>>\n",
    "                    #rename(Wiki_QID = 'Wiki QID') >>\n",
    "                    #mutate(Nationality = X.Nationality.replace(recode_bad_lbls)) >>\n",
    "                    #mutate(BeginDate = X.BeginDate.replace(replace_zero)))"
   ]
  },
  {
   "cell_type": "markdown",
   "metadata": {},
   "source": [
    "## Debugging Step 2 - Work your way down the pipe\n",
    "\n",
    "Add in each part, one-at-a-time, checking the results\n",
    "\n",
    "*Don't forget the ending `)`*"
   ]
  },
  {
   "cell_type": "code",
   "execution_count": 33,
   "metadata": {},
   "outputs": [
    {
     "data": {
      "text/plain": [
       "Index(['ConstituentID', 'DisplayName', 'ArtistBio', 'Nationality', 'Gender',\n",
       "       'BeginDate', 'EndDate', 'Wiki_QID', 'ULAN'],\n",
       "      dtype='object')"
      ]
     },
     "execution_count": 33,
     "metadata": {},
     "output_type": "execute_result"
    }
   ],
   "source": [
    "artists_renamed = (artists >>\n",
    "                    rename(Wiki_QID = 'Wiki QID')  #>>\n",
    "                    #mutate(Nationality = X.Nationality.replace(recode_bad_lbls)) >>\n",
    "                    #mutate(BeginDate = X.BeginDate.replace(replace_zero)))\n",
    "                  )\n",
    "artists_renamed.columns"
   ]
  },
  {
   "cell_type": "code",
   "execution_count": 34,
   "metadata": {
    "collapsed": true
   },
   "outputs": [],
   "source": [
    "artists_renamed = (artists >>\n",
    "                    rename(Wiki_QID = 'Wiki QID') >>\n",
    "                    mutate(Nationality = X.Nationality.replace(recode_bad_lbls)) ) #>>\n",
    "                    #mutate(BeginDate = X.BeginDate.replace(replace_zero)))"
   ]
  },
  {
   "cell_type": "code",
   "execution_count": 35,
   "metadata": {
    "collapsed": true
   },
   "outputs": [],
   "source": [
    "artists_renamed = (artists >>\n",
    "                    rename(Wiki_QID = 'Wiki QID') >>\n",
    "                    mutate(Nationality = X.Nationality.replace(recode_bad_lbls)) >>\n",
    "                    mutate(BeginDate = X.BeginDate.replace(replace_zero)))"
   ]
  },
  {
   "cell_type": "code",
   "execution_count": null,
   "metadata": {},
   "outputs": [],
   "source": []
  },
  {
   "cell_type": "markdown",
   "metadata": {},
   "source": [
    "# More about Intentions "
   ]
  },
  {
   "cell_type": "markdown",
   "metadata": {},
   "source": [
    "## `X` is an `Intention`\n",
    "\n",
    "<img src=\"img/dfply_X_intention_1.png\" width = 400>\n",
    "\n",
    "Think of it as recording an expression for later evaluation"
   ]
  },
  {
   "cell_type": "code",
   "execution_count": 36,
   "metadata": {},
   "outputs": [
    {
     "data": {
      "text/plain": [
       "<dfply.base.Intention at 0x124e64cc0>"
      ]
     },
     "execution_count": 36,
     "metadata": {},
     "output_type": "execute_result"
    }
   ],
   "source": [
    "expr = X.BeginDate.head()\n",
    "expr"
   ]
  },
  {
   "cell_type": "markdown",
   "metadata": {},
   "source": [
    "## Use `evaluate` to apply the expression\n",
    "\n",
    "We can apply an expression *later* using `evaluate` with a dataframe."
   ]
  },
  {
   "cell_type": "code",
   "execution_count": 37,
   "metadata": {},
   "outputs": [
    {
     "data": {
      "text/plain": [
       "0    1930\n",
       "1    1936\n",
       "2    1941\n",
       "3    1946\n",
       "4    1941\n",
       "Name: BeginDate, dtype: int64"
      ]
     },
     "execution_count": 37,
     "metadata": {},
     "output_type": "execute_result"
    }
   ],
   "source": [
    "expr.evaluate(artists)"
   ]
  },
  {
   "cell_type": "markdown",
   "metadata": {},
   "source": [
    "## Intention expressions are reusable!"
   ]
  },
  {
   "cell_type": "code",
   "execution_count": 38,
   "metadata": {},
   "outputs": [
    {
     "data": {
      "text/plain": [
       "0    (1841)\n",
       "1    (1944)\n",
       "2    (1876)\n",
       "3    (1944)\n",
       "4    (1876)\n",
       "Name: BeginDate, dtype: object"
      ]
     },
     "execution_count": 38,
     "metadata": {},
     "output_type": "execute_result"
    }
   ],
   "source": [
    "# Reusable!\n",
    "expr.evaluate(artwork)\n"
   ]
  },
  {
   "cell_type": "markdown",
   "metadata": {},
   "source": [
    "## <font color=\"red\"> Exercise 1 </font>\n",
    "    \n",
    "**Task:** Use `X` to create an expression that replaces spaces in column names with underscores.  Apply this expression to fresh instances of `artists` and `artwork`."
   ]
  },
  {
   "cell_type": "code",
   "execution_count": 39,
   "metadata": {
    "collapsed": true
   },
   "outputs": [],
   "source": [
    "expr1 = X.columns.str.replace(' ', '_').str.replace('[().]', '').str.lower()"
   ]
  },
  {
   "cell_type": "code",
   "execution_count": 40,
   "metadata": {},
   "outputs": [
    {
     "data": {
      "text/plain": [
       "Index(['constituentid', 'displayname', 'artistbio', 'nationality', 'gender',\n",
       "       'begindate', 'enddate', 'wiki_qid', 'ulan'],\n",
       "      dtype='object')"
      ]
     },
     "execution_count": 40,
     "metadata": {},
     "output_type": "execute_result"
    }
   ],
   "source": [
    "expr1.evaluate(artists)"
   ]
  },
  {
   "cell_type": "code",
   "execution_count": 41,
   "metadata": {},
   "outputs": [
    {
     "data": {
      "text/plain": [
       "Index(['title', 'artist', 'constituentid', 'artistbio', 'nationality',\n",
       "       'begindate', 'enddate', 'gender', 'date', 'medium', 'dimensions',\n",
       "       'creditline', 'accessionnumber', 'classification', 'department',\n",
       "       'dateacquired', 'cataloged', 'objectid', 'url', 'thumbnailurl',\n",
       "       'circumference_cm', 'depth_cm', 'diameter_cm', 'height_cm', 'length_cm',\n",
       "       'weight_kg', 'width_cm', 'seat_height_cm', 'duration_sec'],\n",
       "      dtype='object')"
      ]
     },
     "execution_count": 41,
     "metadata": {},
     "output_type": "execute_result"
    }
   ],
   "source": [
    "expr1.evaluate(artwork)"
   ]
  },
  {
   "cell_type": "markdown",
   "metadata": {},
   "source": [
    "## Not just for data frames ... works for any* expression"
   ]
  },
  {
   "cell_type": "code",
   "execution_count": 42,
   "metadata": {
    "collapsed": true
   },
   "outputs": [],
   "source": [
    "double, line = 2*X, 3*X + 5"
   ]
  },
  {
   "cell_type": "code",
   "execution_count": 43,
   "metadata": {},
   "outputs": [
    {
     "data": {
      "text/plain": [
       "(6, 23)"
      ]
     },
     "execution_count": 43,
     "metadata": {},
     "output_type": "execute_result"
    }
   ],
   "source": [
    "double.evaluate(3), line.evaluate(6)"
   ]
  },
  {
   "cell_type": "markdown",
   "metadata": {},
   "source": [
    "## We can make functions lazy too!\n",
    "\n",
    "Decorate a function with `make_symbolic` to allow lazy evaluation of `Intention` objects"
   ]
  },
  {
   "cell_type": "code",
   "execution_count": 44,
   "metadata": {
    "collapsed": true
   },
   "outputs": [],
   "source": [
    "from math import log\n",
    "log = make_symbolic(log)"
   ]
  },
  {
   "cell_type": "code",
   "execution_count": 45,
   "metadata": {},
   "outputs": [
    {
     "data": {
      "text/plain": [
       "3.0"
      ]
     },
     "execution_count": 45,
     "metadata": {},
     "output_type": "execute_result"
    }
   ],
   "source": [
    "log(8, 2) # Works as expected with numbers"
   ]
  },
  {
   "cell_type": "markdown",
   "metadata": {},
   "source": [
    "## Passing in `X` now makes a `log` expression"
   ]
  },
  {
   "cell_type": "code",
   "execution_count": 46,
   "metadata": {},
   "outputs": [
    {
     "data": {
      "text/plain": [
       "<dfply.base.Intention at 0x11478e668>"
      ]
     },
     "execution_count": 46,
     "metadata": {},
     "output_type": "execute_result"
    }
   ],
   "source": [
    "expr = log(X, 2) # Passing in X makes it lazy/symbolic\n",
    "expr"
   ]
  },
  {
   "cell_type": "code",
   "execution_count": 47,
   "metadata": {
    "scrolled": true
   },
   "outputs": [
    {
     "data": {
      "text/plain": [
       "4.0"
      ]
     },
     "execution_count": 47,
     "metadata": {},
     "output_type": "execute_result"
    }
   ],
   "source": [
    "expr.evaluate(16) # Evaluate later"
   ]
  },
  {
   "cell_type": "markdown",
   "metadata": {},
   "source": [
    "## `pyspark.sql` set up"
   ]
  },
  {
   "cell_type": "code",
   "execution_count": 49,
   "metadata": {
    "collapsed": true
   },
   "outputs": [],
   "source": [
    "from pyspark.sql import SparkSession\n",
    "from pyspark.sql.functions import col, column, mean\n",
    "\n",
    "spark1 = SparkSession.builder.appName('Ops').getOrCreate()"
   ]
  },
  {
   "cell_type": "markdown",
   "metadata": {},
   "source": [
    "## `pyspark.sql` columns also generate expression "
   ]
  },
  {
   "cell_type": "code",
   "execution_count": 50,
   "metadata": {},
   "outputs": [
    {
     "data": {
      "text/plain": [
       "Column<b'height'>"
      ]
     },
     "execution_count": 50,
     "metadata": {},
     "output_type": "execute_result"
    }
   ],
   "source": [
    "column('height')"
   ]
  },
  {
   "cell_type": "code",
   "execution_count": 51,
   "metadata": {},
   "outputs": [
    {
     "data": {
      "text/plain": [
       "Column<b'(height > 3)'>"
      ]
     },
     "execution_count": 51,
     "metadata": {},
     "output_type": "execute_result"
    }
   ],
   "source": [
    "column('height') > 3"
   ]
  },
  {
   "cell_type": "markdown",
   "metadata": {},
   "source": [
    "## `col == column`"
   ]
  },
  {
   "cell_type": "code",
   "execution_count": 52,
   "metadata": {
    "scrolled": true
   },
   "outputs": [
    {
     "data": {
      "text/plain": [
       "Column<b'((height * 5) + 2)'>"
      ]
     },
     "execution_count": 52,
     "metadata": {},
     "output_type": "execute_result"
    }
   ],
   "source": [
    "5*col('height') + 2 # col is an alias for column"
   ]
  },
  {
   "cell_type": "markdown",
   "metadata": {},
   "source": [
    "## Column expressions can combine columns"
   ]
  },
  {
   "cell_type": "code",
   "execution_count": 42,
   "metadata": {},
   "outputs": [
    {
     "data": {
      "text/plain": [
       "Column<b'(height + weight)'>"
      ]
     },
     "execution_count": 42,
     "metadata": {},
     "output_type": "execute_result"
    }
   ],
   "source": [
    "col('height') + col('weight')"
   ]
  },
  {
   "cell_type": "markdown",
   "metadata": {},
   "source": [
    "## Columns work with other `pyspark.sql.functions`"
   ]
  },
  {
   "cell_type": "code",
   "execution_count": 43,
   "metadata": {},
   "outputs": [
    {
     "data": {
      "text/plain": [
       "Column<b'avg(height)'>"
      ]
     },
     "execution_count": 43,
     "metadata": {},
     "output_type": "execute_result"
    }
   ],
   "source": [
    "mean(col('height'))"
   ]
  },
  {
   "cell_type": "markdown",
   "metadata": {},
   "source": [
    "## `sqlalchemy` columns generate expression too"
   ]
  },
  {
   "cell_type": "code",
   "execution_count": 53,
   "metadata": {},
   "outputs": [
    {
     "data": {
      "text/plain": [
       "<sqlalchemy.sql.functions.Function at 0x114a4f0b8; column>"
      ]
     },
     "execution_count": 53,
     "metadata": {},
     "output_type": "execute_result"
    }
   ],
   "source": [
    "from sqlalchemy import func as f\n",
    "f.column('height')"
   ]
  },
  {
   "cell_type": "code",
   "execution_count": 67,
   "metadata": {},
   "outputs": [
    {
     "data": {
      "text/plain": [
       "<sqlalchemy.sql.elements.BinaryExpression object at 0x10f73a6d8>"
      ]
     },
     "execution_count": 67,
     "metadata": {},
     "output_type": "execute_result"
    }
   ],
   "source": [
    "f.column('height') > 3"
   ]
  },
  {
   "cell_type": "markdown",
   "metadata": {},
   "source": [
    "## `col == column`"
   ]
  },
  {
   "cell_type": "code",
   "execution_count": 68,
   "metadata": {
    "scrolled": true
   },
   "outputs": [
    {
     "data": {
      "text/plain": [
       "<sqlalchemy.sql.elements.BinaryExpression object at 0x10f752b70>"
      ]
     },
     "execution_count": 68,
     "metadata": {},
     "output_type": "execute_result"
    }
   ],
   "source": [
    "5*f.col('height') + 2 # col is an alias for column"
   ]
  },
  {
   "cell_type": "markdown",
   "metadata": {},
   "source": [
    "## Column expressions can combine columns"
   ]
  },
  {
   "cell_type": "code",
   "execution_count": 69,
   "metadata": {},
   "outputs": [
    {
     "data": {
      "text/plain": [
       "<sqlalchemy.sql.elements.BinaryExpression object at 0x10f752ac8>"
      ]
     },
     "execution_count": 69,
     "metadata": {},
     "output_type": "execute_result"
    }
   ],
   "source": [
    "f.col('height') + f.col('weight')"
   ]
  },
  {
   "cell_type": "markdown",
   "metadata": {},
   "source": [
    "## Columns work with other `pyspark.sql.functions`"
   ]
  },
  {
   "cell_type": "code",
   "execution_count": 71,
   "metadata": {},
   "outputs": [
    {
     "data": {
      "text/plain": [
       "<sqlalchemy.sql.functions.Function at 0x10f758630; avg>"
      ]
     },
     "execution_count": 71,
     "metadata": {},
     "output_type": "execute_result"
    }
   ],
   "source": [
    "f.avg(col('height'))"
   ]
  },
  {
   "cell_type": "markdown",
   "metadata": {},
   "source": [
    "## Up Next\n",
    "\n",
    "Now we will continue on to [Lecture 2.4](./2_4_pandas_dtypes.ipynb).\n"
   ]
  }
 ],
 "metadata": {
  "kernelspec": {
   "display_name": "Python 3",
   "language": "python",
   "name": "python3"
  },
  "language_info": {
   "codemirror_mode": {
    "name": "ipython",
    "version": 3
   },
   "file_extension": ".py",
   "mimetype": "text/x-python",
   "name": "python",
   "nbconvert_exporter": "python",
   "pygments_lexer": "ipython3",
   "version": "3.6.3"
  },
  "varInspector": {
   "cols": {
    "lenName": 16,
    "lenType": 16,
    "lenVar": 40
   },
   "kernels_config": {
    "python": {
     "delete_cmd_postfix": "",
     "delete_cmd_prefix": "del ",
     "library": "var_list.py",
     "varRefreshCmd": "print(var_dic_list())"
    },
    "r": {
     "delete_cmd_postfix": ") ",
     "delete_cmd_prefix": "rm(",
     "library": "var_list.r",
     "varRefreshCmd": "cat(var_dic_list()) "
    }
   },
   "types_to_exclude": [
    "module",
    "function",
    "builtin_function_or_method",
    "instance",
    "_Feature"
   ],
   "window_display": false
  }
 },
 "nbformat": 4,
 "nbformat_minor": 2
}
