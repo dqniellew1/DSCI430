{
 "cells": [
  {
   "cell_type": "markdown",
   "metadata": {
    "slideshow": {
     "slide_type": "slide"
    }
   },
   "source": [
    "# Introduction to `pyspark.sql.DataFrame`s\n",
    "\n",
    "Adapted from [Databrick's tutorial](https://docs.databricks.com/spark/latest/dataframes-datasets/introduction-to-dataframes-python.html)"
   ]
  },
  {
   "cell_type": "code",
   "execution_count": 1,
   "metadata": {
    "collapsed": true,
    "slideshow": {
     "slide_type": "fragment"
    }
   },
   "outputs": [],
   "source": [
    "# import pyspark class Row from module sql\n",
    "from pyspark.sql import *"
   ]
  },
  {
   "cell_type": "markdown",
   "metadata": {
    "slideshow": {
     "slide_type": "slide"
    }
   },
   "source": [
    "## What is spark?\n",
    "\n",
    "* Build for the Hadoop platform\n",
    "* Replacement of MapReduce\n",
    "* Second-generation optimization\n",
    "    * Lazy\n",
    "    * Optimized\n",
    "    * Persistent data structures\n",
    "* Written in scala"
   ]
  },
  {
   "cell_type": "markdown",
   "metadata": {
    "slideshow": {
     "slide_type": "slide"
    }
   },
   "source": [
    "## Ok ... so what's Hadoop?\n",
    "\n",
    "* Distributed computing platform\n",
    "* [Used by lots of companies](https://wiki.apache.org/hadoop/PoweredBy)\n",
    "* Becoming an inductry standard\n"
   ]
  },
  {
   "cell_type": "markdown",
   "metadata": {
    "slideshow": {
     "slide_type": "slide"
    }
   },
   "source": [
    "## What is `pyspark`?\n",
    "\n",
    "* Python interface to spark\n",
    "* Needs a spark session\n",
    "    * `session` $\\leftrightarrow$ spark\n"
   ]
  },
  {
   "cell_type": "markdown",
   "metadata": {
    "slideshow": {
     "slide_type": "slide"
    }
   },
   "source": [
    "## Step 0 - Create a spark session\n",
    "\n",
    "* `pyspark` communicates with `spark` through a session\n",
    "* Similar to `sqlalchemy` session."
   ]
  },
  {
   "cell_type": "code",
   "execution_count": 2,
   "metadata": {
    "collapsed": true,
    "slideshow": {
     "slide_type": "fragment"
    }
   },
   "outputs": [],
   "source": [
    "spark = SparkSession.builder.appName('Ops').getOrCreate()"
   ]
  },
  {
   "cell_type": "markdown",
   "metadata": {
    "slideshow": {
     "slide_type": "slide"
    }
   },
   "source": [
    "## Overview -  `pyspark.DataFrame`\n",
    "\n",
    "* A `DataFrame` is a collection of `Row`s\n",
    "* `Row`s can be distributed over many machines\n",
    "* `spark`\n",
    "    * Hides the messy details\n",
    "    * Optimizes operations"
   ]
  },
  {
   "cell_type": "markdown",
   "metadata": {},
   "source": [
    "## Creating a `Row` of data\n",
    "\n",
    "* Use the `Row` class\n",
    "* Pass data using keywords\n",
    "    * key == column name\n",
    "    * value == cell value"
   ]
  },
  {
   "cell_type": "code",
   "execution_count": 3,
   "metadata": {},
   "outputs": [
    {
     "data": {
      "text/plain": [
       "Row(id='123456', name='Computer Science')"
      ]
     },
     "execution_count": 3,
     "metadata": {},
     "output_type": "execute_result"
    }
   ],
   "source": [
    "department1 = Row(id='123456', name='Computer Science')\n",
    "department1"
   ]
  },
  {
   "cell_type": "markdown",
   "metadata": {},
   "source": [
    "## Unpacking a `Row` dictionary\n",
    "\n",
    "* Data is in a row dictionary\n",
    "* Unpack keywords using `**`"
   ]
  },
  {
   "cell_type": "code",
   "execution_count": 4,
   "metadata": {
    "scrolled": true
   },
   "outputs": [
    {
     "data": {
      "text/plain": [
       "Row(id='789012', name='Mechanical Engineering')"
      ]
     },
     "execution_count": 4,
     "metadata": {},
     "output_type": "execute_result"
    }
   ],
   "source": [
    "dept2_info = {'id':'789012', 'name':'Mechanical Engineering'}\n",
    "department2 = Row(**dept2_info)\n",
    "department2"
   ]
  },
  {
   "cell_type": "markdown",
   "metadata": {},
   "source": [
    "## Unpacking a list of row dictionaries"
   ]
  },
  {
   "cell_type": "code",
   "execution_count": 5,
   "metadata": {
    "scrolled": true
   },
   "outputs": [
    {
     "data": {
      "text/plain": [
       "[Row(id=123456, name='Computer Science'),\n",
       " Row(id=789012, name='Mechanical Engineering'),\n",
       " Row(id=345678, name='Theater and Drama'),\n",
       " Row(id=901234, name='Indoor Recreation')]"
      ]
     },
     "execution_count": 5,
     "metadata": {},
     "output_type": "execute_result"
    }
   ],
   "source": [
    "dept_info = [{'id':123456, 'name':'Computer Science'},\n",
    "             {'id':789012, 'name':'Mechanical Engineering'},\n",
    "             {'id':345678, 'name':'Theater and Drama'},\n",
    "             {'id':901234, 'name':'Indoor Recreation'}]\n",
    "\n",
    "dept_rows = [Row(**r) for r in dept_info]\n",
    "dept_rows"
   ]
  },
  {
   "cell_type": "markdown",
   "metadata": {},
   "source": [
    "## Access `Row` content with column attributes"
   ]
  },
  {
   "cell_type": "code",
   "execution_count": 6,
   "metadata": {},
   "outputs": [
    {
     "data": {
      "text/plain": [
       "[123456, 789012, 345678, 901234]"
      ]
     },
     "execution_count": 6,
     "metadata": {},
     "output_type": "execute_result"
    }
   ],
   "source": [
    "[dept.id for dept in dept_rows]"
   ]
  },
  {
   "cell_type": "code",
   "execution_count": 7,
   "metadata": {
    "scrolled": true
   },
   "outputs": [
    {
     "data": {
      "text/plain": [
       "['Computer Science',\n",
       " 'Mechanical Engineering',\n",
       " 'Theater and Drama',\n",
       " 'Indoor Recreation']"
      ]
     },
     "execution_count": 7,
     "metadata": {},
     "output_type": "execute_result"
    }
   ],
   "source": [
    "[dept.name for dept in dept_rows]"
   ]
  },
  {
   "cell_type": "markdown",
   "metadata": {},
   "source": [
    "## Creating a `pyspark.DataFrame`\n",
    "\n",
    "* A `DataFrame` is a collection of `Row`s\n",
    "* Create with spark.createDataFrame\n",
    "* Need to have a "
   ]
  },
  {
   "cell_type": "code",
   "execution_count": 8,
   "metadata": {},
   "outputs": [
    {
     "data": {
      "text/plain": [
       "DataFrame[id: bigint, name: string]"
      ]
     },
     "execution_count": 8,
     "metadata": {},
     "output_type": "execute_result"
    }
   ],
   "source": [
    "df = spark.createDataFrame(dept_rows)\n",
    "df"
   ]
  },
  {
   "cell_type": "markdown",
   "metadata": {},
   "source": [
    "## How to think about a `pyspark.DataFrame`\n",
    "\n",
    "<img src=\"./img/pyspark_df.png\" width=600>"
   ]
  },
  {
   "cell_type": "markdown",
   "metadata": {},
   "source": [
    "## Example - `filter` and `collect`"
   ]
  },
  {
   "cell_type": "code",
   "execution_count": 9,
   "metadata": {},
   "outputs": [
    {
     "data": {
      "text/plain": [
       "[Row(id=123456, name='Computer Science')]"
      ]
     },
     "execution_count": 9,
     "metadata": {},
     "output_type": "execute_result"
    }
   ],
   "source": [
    "output = (df\n",
    "            .filter(df.name.startswith('C'))\n",
    "            .collect())\n",
    "output"
   ]
  },
  {
   "cell_type": "markdown",
   "metadata": {},
   "source": [
    "## Why is `pyspark` so slow\n",
    "\n",
    "* Optimized for \n",
    "    * Distributed computation\n",
    "    * Big data \n",
    "* Not great for\n",
    "    * Local work\n",
    "    * Small data"
   ]
  },
  {
   "cell_type": "markdown",
   "metadata": {},
   "source": [
    "## `filter` and `collect` illustrated\n",
    "\n",
    "<img src=\"./img/pyspark_filter_collect.gif\" width=600>"
   ]
  },
  {
   "cell_type": "markdown",
   "metadata": {},
   "source": [
    "## Reading a `csv` file with `spark.read.csv`"
   ]
  },
  {
   "cell_type": "code",
   "execution_count": 10,
   "metadata": {},
   "outputs": [
    {
     "data": {
      "text/plain": [
       "DataFrame[Id: string, name: string, Gender: string, Eye color: string, Race: string, Hair color: string, Height: string, Publisher: string, Skin color: string, Alignment: string, Weight: string]"
      ]
     },
     "execution_count": 10,
     "metadata": {},
     "output_type": "execute_result"
    }
   ],
   "source": [
    "heros = spark.read.csv('./data/heroes_information.csv', header=True)\n",
    "heros"
   ]
  },
  {
   "cell_type": "markdown",
   "metadata": {},
   "source": [
    "## Inspecting the column types"
   ]
  },
  {
   "cell_type": "code",
   "execution_count": 11,
   "metadata": {},
   "outputs": [
    {
     "name": "stdout",
     "output_type": "stream",
     "text": [
      "root\n",
      " |-- Id: string (nullable = true)\n",
      " |-- name: string (nullable = true)\n",
      " |-- Gender: string (nullable = true)\n",
      " |-- Eye color: string (nullable = true)\n",
      " |-- Race: string (nullable = true)\n",
      " |-- Hair color: string (nullable = true)\n",
      " |-- Height: string (nullable = true)\n",
      " |-- Publisher: string (nullable = true)\n",
      " |-- Skin color: string (nullable = true)\n",
      " |-- Alignment: string (nullable = true)\n",
      " |-- Weight: string (nullable = true)\n",
      "\n"
     ]
    }
   ],
   "source": [
    "heros.printSchema()"
   ]
  },
  {
   "cell_type": "markdown",
   "metadata": {},
   "source": [
    "## Gathering results in `pyspark.sql`\n",
    "\n",
    "* **Important fact** All `pyspark` queries end in a collection method\n",
    "* **Why?** Data is (possibly) spread across many machines\n",
    "* <font color = \"red\"> **Warning** This might be is *expensive*! Know how much data your are requesting! </font>"
   ]
  },
  {
   "cell_type": "markdown",
   "metadata": {},
   "source": [
    "## Gathering methods\n",
    "\n",
    "* `collect` returns all values\n",
    "* `take(n)` returns the first `n` values \n",
    "* `sample(n)` returns `n` randomly selected values "
   ]
  },
  {
   "cell_type": "markdown",
   "metadata": {},
   "source": [
    "## Inspecting the content - `take`"
   ]
  },
  {
   "cell_type": "code",
   "execution_count": 12,
   "metadata": {},
   "outputs": [
    {
     "data": {
      "text/plain": [
       "[Row(Id='0', name='A-Bomb', Gender='Male', Eye color='yellow', Race='Human', Hair color='No Hair', Height='203.0', Publisher='Marvel Comics', Skin color='-', Alignment='good', Weight='441.0'),\n",
       " Row(Id='1', name='Abe Sapien', Gender='Male', Eye color='blue', Race='Icthyo Sapien', Hair color='No Hair', Height='191.0', Publisher='Dark Horse Comics', Skin color='blue', Alignment='good', Weight='65.0'),\n",
       " Row(Id='2', name='Abin Sur', Gender='Male', Eye color='blue', Race='Ungaran', Hair color='No Hair', Height='185.0', Publisher='DC Comics', Skin color='red', Alignment='good', Weight='90.0'),\n",
       " Row(Id='3', name='Abomination', Gender='Male', Eye color='green', Race='Human / Radiation', Hair color='No Hair', Height='203.0', Publisher='Marvel Comics', Skin color='-', Alignment='bad', Weight='441.0'),\n",
       " Row(Id='4', name='Abraxas', Gender='Male', Eye color='blue', Race='Cosmic Entity', Hair color='Black', Height='-99.0', Publisher='Marvel Comics', Skin color='-', Alignment='bad', Weight='-99.0')]"
      ]
     },
     "execution_count": 12,
     "metadata": {},
     "output_type": "execute_result"
    }
   ],
   "source": [
    "heros.take(5)"
   ]
  },
  {
   "cell_type": "markdown",
   "metadata": {},
   "source": [
    "## Inspecting the content - `sample`"
   ]
  },
  {
   "cell_type": "code",
   "execution_count": 14,
   "metadata": {},
   "outputs": [
    {
     "data": {
      "text/plain": [
       "[Row(Id='21', name='Ando Masahashi', Gender='Male', Eye color='-', Race='-', Hair color='-', Height='-99.0', Publisher='NBC - Heroes', Skin color='-', Alignment='good', Weight='-99.0'),\n",
       " Row(Id='187', name='Cottonmouth', Gender='Male', Eye color='brown', Race='Human', Hair color='Black', Height='183.0', Publisher='Marvel Comics', Skin color='-', Alignment='bad', Weight='99.0'),\n",
       " Row(Id='222', name='Doctor Doom II', Gender='Male', Eye color='brown', Race='-', Hair color='Brown', Height='201.0', Publisher='Marvel Comics', Skin color='-', Alignment='bad', Weight='132.0'),\n",
       " Row(Id='574', name='Sandman', Gender='Male', Eye color='brown', Race='Human', Hair color='Brown', Height='185.0', Publisher='Marvel Comics', Skin color='-', Alignment='neutral', Weight='203.0'),\n",
       " Row(Id='600', name='Silver Surfer', Gender='Male', Eye color='white', Race='Alien', Hair color='No Hair', Height='193.0', Publisher='Marvel Comics', Skin color='silver', Alignment='good', Weight='101.0')]"
      ]
     },
     "execution_count": 14,
     "metadata": {},
     "output_type": "execute_result"
    }
   ],
   "source": [
    "heros.sample(fraction=0.01).collect()"
   ]
  },
  {
   "cell_type": "markdown",
   "metadata": {},
   "source": [
    "## Getting all results with `collect`\n",
    "\n",
    "<font color = \"red\"> **Warning** This might be is *expensive*! Know how much data your are requesting! </font> \n",
    "\n",
    "**The `collect` rule:** `count` before `collect`"
   ]
  },
  {
   "cell_type": "code",
   "execution_count": 14,
   "metadata": {},
   "outputs": [
    {
     "data": {
      "text/plain": [
       "734"
      ]
     },
     "execution_count": 14,
     "metadata": {},
     "output_type": "execute_result"
    }
   ],
   "source": [
    "heros.count() # <-- probably don't do this - count then collect"
   ]
  },
  {
   "cell_type": "code",
   "execution_count": 15,
   "metadata": {},
   "outputs": [
    {
     "data": {
      "text/plain": [
       "[Row(Id='1', name='Abe Sapien', Gender='Male', Eye color='blue', Race='Icthyo Sapien', Hair color='No Hair', Height='191.0', Publisher='Dark Horse Comics', Skin color='blue', Alignment='good', Weight='65.0'),\n",
       " Row(Id='2', name='Abin Sur', Gender='Male', Eye color='blue', Race='Ungaran', Hair color='No Hair', Height='185.0', Publisher='DC Comics', Skin color='red', Alignment='good', Weight='90.0'),\n",
       " Row(Id='4', name='Abraxas', Gender='Male', Eye color='blue', Race='Cosmic Entity', Hair color='Black', Height='-99.0', Publisher='Marvel Comics', Skin color='-', Alignment='bad', Weight='-99.0'),\n",
       " Row(Id='5', name='Absorbing Man', Gender='Male', Eye color='blue', Race='Human', Hair color='No Hair', Height='193.0', Publisher='Marvel Comics', Skin color='-', Alignment='bad', Weight='122.0'),\n",
       " Row(Id='6', name='Adam Monroe', Gender='Male', Eye color='blue', Race='-', Hair color='Blond', Height='-99.0', Publisher='NBC - Heroes', Skin color='-', Alignment='good', Weight='-99.0'),\n",
       " Row(Id='7', name='Adam Strange', Gender='Male', Eye color='blue', Race='Human', Hair color='Blond', Height='185.0', Publisher='DC Comics', Skin color='-', Alignment='good', Weight='88.0'),\n",
       " Row(Id='8', name='Agent 13', Gender='Female', Eye color='blue', Race='-', Hair color='Blond', Height='173.0', Publisher='Marvel Comics', Skin color='-', Alignment='good', Weight='61.0'),\n",
       " Row(Id='11', name='Air-Walker', Gender='Male', Eye color='blue', Race='-', Hair color='White', Height='188.0', Publisher='Marvel Comics', Skin color='-', Alignment='bad', Weight='108.0'),\n",
       " Row(Id='13', name='Alan Scott', Gender='Male', Eye color='blue', Race='-', Hair color='Blond', Height='180.0', Publisher='DC Comics', Skin color='-', Alignment='good', Weight='90.0'),\n",
       " Row(Id='16', name='Alfred Pennyworth', Gender='Male', Eye color='blue', Race='Human', Hair color='Black', Height='178.0', Publisher='DC Comics', Skin color='-', Alignment='good', Weight='72.0'),\n",
       " Row(Id='22', name='Angel', Gender='Male', Eye color='blue', Race='-', Hair color='Blond', Height='183.0', Publisher='Marvel Comics', Skin color='-', Alignment='good', Weight='68.0'),\n",
       " Row(Id='27', name='Animal Man', Gender='Male', Eye color='blue', Race='Human', Hair color='Blond', Height='183.0', Publisher='DC Comics', Skin color='-', Alignment='good', Weight='83.0'),\n",
       " Row(Id='29', name='Ant-Man', Gender='Male', Eye color='blue', Race='Human', Hair color='Blond', Height='211.0', Publisher='Marvel Comics', Skin color='-', Alignment='good', Weight='122.0'),\n",
       " Row(Id='30', name='Ant-Man II', Gender='Male', Eye color='blue', Race='Human', Hair color='Blond', Height='183.0', Publisher='Marvel Comics', Skin color='-', Alignment='good', Weight='86.0'),\n",
       " Row(Id='33', name='Anti-Venom', Gender='Male', Eye color='blue', Race='Symbiote', Hair color='Blond', Height='229.0', Publisher='Marvel Comics', Skin color='-', Alignment='-', Weight='358.0'),\n",
       " Row(Id='35', name='Aquababy', Gender='Male', Eye color='blue', Race='-', Hair color='Blond', Height='-99.0', Publisher='DC Comics', Skin color='-', Alignment='good', Weight='-99.0'),\n",
       " Row(Id='36', name='Aqualad', Gender='Male', Eye color='blue', Race='Atlantean', Hair color='Black', Height='178.0', Publisher='DC Comics', Skin color='-', Alignment='good', Weight='106.0'),\n",
       " Row(Id='37', name='Aquaman', Gender='Male', Eye color='blue', Race='Atlantean', Hair color='Blond', Height='185.0', Publisher='DC Comics', Skin color='-', Alignment='good', Weight='146.0'),\n",
       " Row(Id='38', name='Arachne', Gender='Female', Eye color='blue', Race='Human', Hair color='Blond', Height='175.0', Publisher='Marvel Comics', Skin color='-', Alignment='good', Weight='63.0'),\n",
       " Row(Id='39', name='Archangel', Gender='Male', Eye color='blue', Race='Mutant', Hair color='Blond', Height='183.0', Publisher='Marvel Comics', Skin color='blue', Alignment='good', Weight='68.0'),\n",
       " Row(Id='48', name='Atlas', Gender='Male', Eye color='blue', Race='God / Eternal', Hair color='Brown', Height='198.0', Publisher='DC Comics', Skin color='-', Alignment='bad', Weight='126.0'),\n",
       " Row(Id='49', name='Atom', Gender='Male', Eye color='blue', Race='-', Hair color='Red', Height='178.0', Publisher='DC Comics', Skin color='-', Alignment='good', Weight='68.0'),\n",
       " Row(Id='55', name='Aurora', Gender='Female', Eye color='blue', Race='Mutant', Hair color='Black', Height='180.0', Publisher='Marvel Comics', Skin color='-', Alignment='good', Weight='63.0'),\n",
       " Row(Id='67', name='Batgirl VI', Gender='Female', Eye color='blue', Race='-', Hair color='Blond', Height='168.0', Publisher='DC Comics', Skin color='-', Alignment='good', Weight='61.0'),\n",
       " Row(Id='68', name='Batman', Gender='Male', Eye color='blue', Race='Human', Hair color='black', Height='188.0', Publisher='DC Comics', Skin color='-', Alignment='good', Weight='95.0'),\n",
       " Row(Id='69', name='Batman', Gender='Male', Eye color='blue', Race='Human', Hair color='Black', Height='178.0', Publisher='DC Comics', Skin color='-', Alignment='good', Weight='77.0'),\n",
       " Row(Id='70', name='Batman II', Gender='Male', Eye color='blue', Race='Human', Hair color='Black', Height='178.0', Publisher='DC Comics', Skin color='-', Alignment='good', Weight='79.0'),\n",
       " Row(Id='74', name='Beast', Gender='Male', Eye color='blue', Race='Mutant', Hair color='Blue', Height='180.0', Publisher='Marvel Comics', Skin color='blue', Alignment='good', Weight='181.0'),\n",
       " Row(Id='80', name='Big Barda', Gender='Female', Eye color='blue', Race='New God', Hair color='Black', Height='188.0', Publisher='DC Comics', Skin color='-', Alignment='bad', Weight='135.0'),\n",
       " Row(Id='82', name='Big Man', Gender='Male', Eye color='blue', Race='-', Hair color='Brown', Height='165.0', Publisher='Marvel Comics', Skin color='-', Alignment='bad', Weight='71.0'),\n",
       " Row(Id='85', name='Binary', Gender='Female', Eye color='blue', Race='-', Hair color='Blond', Height='180.0', Publisher='Marvel Comics', Skin color='-', Alignment='good', Weight='54.0'),\n",
       " Row(Id='86', name='Bionic Woman', Gender='Female', Eye color='blue', Race='Cyborg', Hair color='Black', Height='-99.0', Publisher=None, Skin color='-', Alignment='good', Weight='-99.0'),\n",
       " Row(Id='95', name='Black Bolt', Gender='Male', Eye color='blue', Race='Inhuman', Hair color='Black', Height='188.0', Publisher='Marvel Comics', Skin color='-', Alignment='good', Weight='95.0'),\n",
       " Row(Id='96', name='Black Canary', Gender='Female', Eye color='blue', Race='Human', Hair color='Blond', Height='165.0', Publisher='DC Comics', Skin color='-', Alignment='good', Weight='58.0'),\n",
       " Row(Id='97', name='Black Canary', Gender='Female', Eye color='blue', Race='Metahuman', Hair color='Blond', Height='170.0', Publisher='DC Comics', Skin color='-', Alignment='good', Weight='59.0'),\n",
       " Row(Id='107', name='Black Widow II', Gender='Female', Eye color='blue', Race='-', Hair color='Blond', Height='170.0', Publisher='Marvel Comics', Skin color='-', Alignment='good', Weight='61.0'),\n",
       " Row(Id='109', name='Blackwing', Gender='Male', Eye color='blue', Race='-', Hair color='Black', Height='185.0', Publisher='Marvel Comics', Skin color='-', Alignment='bad', Weight='86.0'),\n",
       " Row(Id='119', name='Bloodaxe', Gender='Female', Eye color='blue', Race='Human', Hair color='Brown', Height='218.0', Publisher='Marvel Comics', Skin color='-', Alignment='bad', Weight='495.0'),\n",
       " Row(Id='122', name='Blue Beetle', Gender='Male', Eye color='blue', Race='-', Hair color='Brown', Height='-99.0', Publisher='DC Comics', Skin color='-', Alignment='good', Weight='-99.0'),\n",
       " Row(Id='124', name='Blue Beetle II', Gender='Male', Eye color='blue', Race='-', Hair color='Brown', Height='183.0', Publisher='DC Comics', Skin color='-', Alignment='good', Weight='86.0'),\n",
       " Row(Id='129', name='Boom-Boom', Gender='Female', Eye color='blue', Race='Mutant', Hair color='Blond', Height='165.0', Publisher='Marvel Comics', Skin color='-', Alignment='good', Weight='55.0'),\n",
       " Row(Id='131', name='Booster Gold', Gender='Male', Eye color='blue', Race='Human', Hair color='Blond', Height='196.0', Publisher='DC Comics', Skin color='-', Alignment='good', Weight='97.0'),\n",
       " Row(Id='133', name='Box III', Gender='-', Eye color='blue', Race='-', Hair color='Blond', Height='193.0', Publisher='Marvel Comics', Skin color='-', Alignment='good', Weight='110.0'),\n",
       " Row(Id='140', name='Bullseye', Gender='Male', Eye color='blue', Race='Human', Hair color='blond', Height='183.0', Publisher='Marvel Comics', Skin color='-', Alignment='bad', Weight='90.0'),\n",
       " Row(Id='144', name='Cable', Gender='Male', Eye color='blue', Race='Mutant', Hair color='White', Height='203.0', Publisher='Marvel Comics', Skin color='-', Alignment='good', Weight='158.0'),\n",
       " Row(Id='145', name='Callisto', Gender='Female', Eye color='blue', Race='-', Hair color='Black', Height='175.0', Publisher='Marvel Comics', Skin color='-', Alignment='bad', Weight='74.0'),\n",
       " Row(Id='147', name='Cannonball', Gender='Male', Eye color='blue', Race='-', Hair color='Blond', Height='183.0', Publisher='Marvel Comics', Skin color='-', Alignment='good', Weight='81.0'),\n",
       " Row(Id='148', name='Captain America', Gender='Male', Eye color='blue', Race='Human', Hair color='blond', Height='188.0', Publisher='Marvel Comics', Skin color='-', Alignment='good', Weight='108.0'),\n",
       " Row(Id='149', name='Captain Atom', Gender='Male', Eye color='blue', Race='Human / Radiation', Hair color='Silver', Height='193.0', Publisher='DC Comics', Skin color='silver', Alignment='good', Weight='90.0'),\n",
       " Row(Id='150', name='Captain Britain', Gender='Male', Eye color='blue', Race='Human', Hair color='Blond', Height='198.0', Publisher='Marvel Comics', Skin color='-', Alignment='good', Weight='116.0'),\n",
       " Row(Id='152', name='Captain Epic', Gender='Male', Eye color='blue', Race='-', Hair color='Brown', Height='188.0', Publisher='Team Epic TV', Skin color='-', Alignment='good', Weight='-99.0'),\n",
       " Row(Id='154', name='Captain Mar-vell', Gender='Male', Eye color='blue', Race='-', Hair color='Blond', Height='188.0', Publisher='Marvel Comics', Skin color='-', Alignment='good', Weight='108.0'),\n",
       " Row(Id='155', name='Captain Marvel', Gender='Female', Eye color='blue', Race='Human-Kree', Hair color='Blond', Height='180.0', Publisher='Marvel Comics', Skin color='-', Alignment='good', Weight='74.0'),\n",
       " Row(Id='156', name='Captain Marvel', Gender='Male', Eye color='blue', Race='Human', Hair color='Black', Height='193.0', Publisher='DC Comics', Skin color='-', Alignment='good', Weight='101.0'),\n",
       " Row(Id='157', name='Captain Marvel II', Gender='Male', Eye color='blue', Race='Human', Hair color='Black', Height='175.0', Publisher='DC Comics', Skin color='-', Alignment='good', Weight='74.0'),\n",
       " Row(Id='162', name='Cat', Gender='Female', Eye color='blue', Race='-', Hair color='Blond', Height='173.0', Publisher='Marvel Comics', Skin color='-', Alignment='good', Weight='61.0'),\n",
       " Row(Id='177', name='Claire Bennet', Gender='Female', Eye color='blue', Race='-', Hair color='Blond', Height='-99.0', Publisher='NBC - Heroes', Skin color='-', Alignment='good', Weight='-99.0'),\n",
       " Row(Id='180', name='Clock King', Gender='Male', Eye color='blue', Race='Human', Hair color='Black', Height='178.0', Publisher='DC Comics', Skin color='-', Alignment='bad', Weight='78.0'),\n",
       " Row(Id='188', name='Crimson Crusader', Gender='Male', Eye color='blue', Race='-', Hair color='Strawberry Blond', Height='-99.0', Publisher='Marvel Comics', Skin color='-', Alignment='good', Weight='-99.0'),\n",
       " Row(Id='194', name='Cyborg Superman', Gender='Male', Eye color='blue', Race='Cyborg', Hair color='Black', Height='-99.0', Publisher='DC Comics', Skin color='-', Alignment='bad', Weight='-99.0'),\n",
       " Row(Id='196', name='Cypher', Gender='-', Eye color='blue', Race='-', Hair color='Blond', Height='175.0', Publisher='Marvel Comics', Skin color='-', Alignment='good', Weight='68.0'),\n",
       " Row(Id='197', name='Dagger', Gender='Female', Eye color='blue', Race='-', Hair color='Blond', Height='165.0', Publisher='Marvel Comics', Skin color='-', Alignment='good', Weight='52.0'),\n",
       " Row(Id='200', name='Daredevil', Gender='Male', Eye color='blue', Race='Human', Hair color='Red', Height='183.0', Publisher='Marvel Comics', Skin color='-', Alignment='good', Weight='90.0'),\n",
       " Row(Id='208', name='Dash', Gender='Male', Eye color='blue', Race='Human', Hair color='Blond', Height='122.0', Publisher='Dark Horse Comics', Skin color='-', Alignment='good', Weight='27.0'),\n",
       " Row(Id='210', name='Dazzler', Gender='Female', Eye color='blue', Race='Mutant', Hair color='Blond', Height='173.0', Publisher='Marvel Comics', Skin color='-', Alignment='good', Weight='52.0'),\n",
       " Row(Id='211', name='Deadman', Gender='Male', Eye color='blue', Race='Human', Hair color='Black', Height='183.0', Publisher='DC Comics', Skin color='-', Alignment='good', Weight='90.0'),\n",
       " Row(Id='215', name='Deathstroke', Gender='Male', Eye color='blue', Race='Human', Hair color='White', Height='193.0', Publisher='DC Comics', Skin color='-', Alignment='neutral', Weight='101.0'),\n",
       " Row(Id='220', name='Doc Samson', Gender='Male', Eye color='blue', Race='Human / Radiation', Hair color='Green', Height='198.0', Publisher='Marvel Comics', Skin color='-', Alignment='good', Weight='171.0'),\n",
       " Row(Id='223', name='Doctor Fate', Gender='Male', Eye color='blue', Race='Human', Hair color='Blond', Height='188.0', Publisher='DC Comics', Skin color='-', Alignment='good', Weight='89.0'),\n",
       " Row(Id='226', name='Domino', Gender='Female', Eye color='blue', Race='Human', Hair color='Black', Height='173.0', Publisher='Marvel Comics', Skin color='white', Alignment='good', Weight='54.0'),\n",
       " Row(Id='228', name='Donna Troy', Gender='Female', Eye color='blue', Race='Amazon', Hair color='Black', Height='175.0', Publisher='DC Comics', Skin color='-', Alignment='good', Weight='63.0'),\n",
       " Row(Id='236', name='Electro', Gender='Male', Eye color='blue', Race='Human', Hair color='Auburn', Height='180.0', Publisher='Marvel Comics', Skin color='-', Alignment='bad', Weight='74.0'),\n",
       " Row(Id='237', name='Elektra', Gender='Female', Eye color='blue', Race='Human', Hair color='Black', Height='175.0', Publisher='Marvel Comics', Skin color='-', Alignment='good', Weight='59.0'),\n",
       " Row(Id='238', name='Elle Bishop', Gender='Female', Eye color='blue', Race='-', Hair color='Blond', Height='-99.0', Publisher='NBC - Heroes', Skin color='-', Alignment='bad', Weight='-99.0'),\n",
       " Row(Id='239', name='Elongated Man', Gender='Male', Eye color='blue', Race='-', Hair color='Red', Height='185.0', Publisher='DC Comics', Skin color='-', Alignment='good', Weight='80.0'),\n",
       " Row(Id='240', name='Emma Frost', Gender='Female', Eye color='blue', Race='-', Hair color='Blond', Height='178.0', Publisher='Marvel Comics', Skin color='-', Alignment='good', Weight='65.0'),\n",
       " Row(Id='241', name='Enchantress', Gender='Female', Eye color='blue', Race='Human', Hair color='Blond', Height='168.0', Publisher='DC Comics', Skin color='-', Alignment='good', Weight='57.0'),\n",
       " Row(Id='248', name='Exodus', Gender='Male', Eye color='blue', Race='Mutant', Hair color='Black', Height='183.0', Publisher='Marvel Comics', Skin color='red', Alignment='bad', Weight='88.0'),\n",
       " Row(Id='249', name='Fabian Cortez', Gender='-', Eye color='blue', Race='-', Hair color='Brown', Height='196.0', Publisher='Marvel Comics', Skin color='-', Alignment='bad', Weight='96.0'),\n",
       " Row(Id='260', name='Firestorm', Gender='Male', Eye color='blue', Race='Human', Hair color='Auburn', Height='188.0', Publisher='DC Comics', Skin color='-', Alignment='good', Weight='91.0'),\n",
       " Row(Id='262', name='Flash', Gender='Male', Eye color='blue', Race='Human', Hair color='Brown / White', Height='180.0', Publisher='DC Comics', Skin color='-', Alignment='good', Weight='81.0'),\n",
       " Row(Id='264', name='Flash II', Gender='Male', Eye color='blue', Race='Human', Hair color='Blond', Height='183.0', Publisher='DC Comics', Skin color='-', Alignment='good', Weight='88.0'),\n",
       " Row(Id='268', name='Franklin Richards', Gender='Male', Eye color='blue', Race='Mutant', Hair color='Blond', Height='142.0', Publisher='Marvel Comics', Skin color='-', Alignment='good', Weight='45.0'),\n",
       " Row(Id='269', name='Franklin Storm', Gender='-', Eye color='blue', Race='-', Hair color='Grey', Height='188.0', Publisher='Marvel Comics', Skin color='-', Alignment='good', Weight='92.0'),\n",
       " Row(Id='271', name='Frigga', Gender='Female', Eye color='blue', Race='-', Hair color='White', Height='180.0', Publisher='Marvel Comics', Skin color='-', Alignment='good', Weight='167.0'),\n",
       " Row(Id='278', name='Genesis', Gender='Male', Eye color='blue', Race='-', Hair color='Blond', Height='185.0', Publisher='Marvel Comics', Skin color='-', Alignment='good', Weight='86.0'),\n",
       " Row(Id='284', name='Gladiator', Gender='Male', Eye color='blue', Race='Strontian', Hair color='Blue', Height='198.0', Publisher='Marvel Comics', Skin color='purple', Alignment='neutral', Weight='268.0'),\n",
       " Row(Id='294', name='Granny Goodness', Gender='Female', Eye color='blue', Race='-', Hair color='White', Height='178.0', Publisher='DC Comics', Skin color='-', Alignment='bad', Weight='115.0'),\n",
       " Row(Id='295', name='Gravity', Gender='Male', Eye color='blue', Race='Human', Hair color='Brown', Height='178.0', Publisher='Marvel Comics', Skin color='-', Alignment='good', Weight='79.0'),\n",
       " Row(Id='298', name='Green Goblin', Gender='Male', Eye color='blue', Race='Human', Hair color='Auburn', Height='180.0', Publisher='Marvel Comics', Skin color='-', Alignment='bad', Weight='83.0'),\n",
       " Row(Id='299', name='Green Goblin II', Gender='Male', Eye color='blue', Race='-', Hair color='Auburn', Height='178.0', Publisher='Marvel Comics', Skin color='-', Alignment='bad', Weight='77.0'),\n",
       " Row(Id='304', name='Guy Gardner', Gender='Male', Eye color='blue', Race='Human-Vuldarian', Hair color='Red', Height='188.0', Publisher='DC Comics', Skin color='-', Alignment='good', Weight='95.0'),\n",
       " Row(Id='308', name='Harley Quinn', Gender='Female', Eye color='blue', Race='Human', Hair color='Blond', Height='170.0', Publisher='DC Comics', Skin color='-', Alignment='bad', Weight='63.0'),\n",
       " Row(Id='310', name='Havok', Gender='Male', Eye color='blue', Race='Mutant', Hair color='Blond', Height='183.0', Publisher='Marvel Comics', Skin color='-', Alignment='good', Weight='79.0'),\n",
       " Row(Id='312', name='Hawkeye', Gender='Male', Eye color='blue', Race='Human', Hair color='Blond', Height='191.0', Publisher='Marvel Comics', Skin color='-', Alignment='good', Weight='104.0'),\n",
       " Row(Id='313', name='Hawkeye II', Gender='Female', Eye color='blue', Race='Human', Hair color='Black', Height='165.0', Publisher='Marvel Comics', Skin color='-', Alignment='good', Weight='57.0'),\n",
       " Row(Id='315', name='Hawkman', Gender='Male', Eye color='blue', Race='-', Hair color='Brown', Height='185.0', Publisher='DC Comics', Skin color='-', Alignment='good', Weight='88.0'),\n",
       " Row(Id='318', name='Hawkwoman III', Gender='Female', Eye color='blue', Race='-', Hair color='Red', Height='170.0', Publisher='DC Comics', Skin color='-', Alignment='good', Weight='65.0'),\n",
       " Row(Id='319', name='Heat Wave', Gender='Male', Eye color='blue', Race='Human', Hair color='No Hair', Height='180.0', Publisher='DC Comics', Skin color='-', Alignment='bad', Weight='81.0'),\n",
       " Row(Id='322', name='Hellcat', Gender='Female', Eye color='blue', Race='Human', Hair color='Red', Height='173.0', Publisher='Marvel Comics', Skin color='-', Alignment='good', Weight='61.0'),\n",
       " Row(Id='324', name='Hercules', Gender='Male', Eye color='blue', Race='Demi-God', Hair color='Brown', Height='196.0', Publisher='Marvel Comics', Skin color='-', Alignment='good', Weight='146.0'),\n",
       " Row(Id='327', name='Hobgoblin', Gender='Male', Eye color='blue', Race='-', Hair color='Grey', Height='180.0', Publisher='Marvel Comics', Skin color='-', Alignment='bad', Weight='83.0'),\n",
       " Row(Id='328', name='Hollow', Gender='Female', Eye color='blue', Race='-', Hair color='Red', Height='170.0', Publisher='Marvel Comics', Skin color='-', Alignment='good', Weight='-99.0'),\n",
       " Row(Id='332', name='Human Torch', Gender='Male', Eye color='blue', Race='Human / Radiation', Hair color='Blond', Height='178.0', Publisher='Marvel Comics', Skin color='-', Alignment='good', Weight='77.0'),\n",
       " Row(Id='333', name='Huntress', Gender='Female', Eye color='blue', Race='-', Hair color='Black', Height='180.0', Publisher='DC Comics', Skin color='-', Alignment='good', Weight='59.0'),\n",
       " Row(Id='334', name='Husk', Gender='Female', Eye color='blue', Race='Mutant', Hair color='Blond', Height='170.0', Publisher='Marvel Comics', Skin color='-', Alignment='good', Weight='58.0'),\n",
       " Row(Id='337', name='Hyperion', Gender='Male', Eye color='blue', Race='Eternal', Hair color='Red', Height='183.0', Publisher='Marvel Comics', Skin color='-', Alignment='good', Weight='207.0'),\n",
       " Row(Id='342', name='Ink', Gender='Male', Eye color='blue', Race='Mutant', Hair color='No Hair', Height='180.0', Publisher='Marvel Comics', Skin color='-', Alignment='good', Weight='81.0'),\n",
       " Row(Id='343', name='Invisible Woman', Gender='Female', Eye color='blue', Race='Human / Radiation', Hair color='Blond', Height='168.0', Publisher='Marvel Comics', Skin color='-', Alignment='good', Weight='54.0'),\n",
       " Row(Id='344', name='Iron Fist', Gender='Male', Eye color='blue', Race='Human', Hair color='Blond', Height='180.0', Publisher='Marvel Comics', Skin color='-', Alignment='good', Weight='79.0'),\n",
       " Row(Id='345', name='Iron Man', Gender='Male', Eye color='blue', Race='Human', Hair color='Black', Height='198.0', Publisher='Marvel Comics', Skin color='-', Alignment='good', Weight='191.0'),\n",
       " Row(Id='346', name='Iron Monger', Gender='Male', Eye color='blue', Race='-', Hair color='No Hair', Height='-99.0', Publisher='Marvel Comics', Skin color='-', Alignment='bad', Weight='2.0'),\n",
       " Row(Id='350', name='Jack-Jack', Gender='Male', Eye color='blue', Race='Human', Hair color='Brown', Height='71.0', Publisher='Dark Horse Comics', Skin color='-', Alignment='good', Weight='14.0'),\n",
       " Row(Id='351', name='James Bond', Gender='Male', Eye color='blue', Race='Human', Hair color='Blond', Height='183.0', Publisher='Titan Books', Skin color='-', Alignment='good', Weight='-99.0'),\n",
       " Row(Id='357', name='Jennifer Kale', Gender='Female', Eye color='blue', Race='-', Hair color='Blond', Height='168.0', Publisher='Marvel Comics', Skin color='-', Alignment='good', Weight='55.0'),\n",
       " Row(Id='362', name='Jigsaw', Gender='Male', Eye color='blue', Race='-', Hair color='Black', Height='188.0', Publisher='Marvel Comics', Skin color='-', Alignment='bad', Weight='113.0'),\n",
       " Row(Id='366', name='John Constantine', Gender='Male', Eye color='blue', Race='Human', Hair color='Blond', Height='183.0', Publisher='DC Comics', Skin color='-', Alignment='good', Weight='-99.0'),\n",
       " Row(Id='370', name='Jolt', Gender='Female', Eye color='blue', Race='-', Hair color='Black', Height='165.0', Publisher='Marvel Comics', Skin color='-', Alignment='good', Weight='49.0'),\n",
       " Row(Id='373', name='Juggernaut', Gender='Male', Eye color='blue', Race='Human', Hair color='Red', Height='287.0', Publisher='Marvel Comics', Skin color='-', Alignment='neutral', Weight='855.0'),\n",
       " Row(Id='383', name='Kick-Ass', Gender='Male', Eye color='blue', Race='Human', Hair color='Blond', Height='-99.0', Publisher='Icon Comics', Skin color='-', Alignment='good', Weight='-99.0'),\n",
       " Row(Id='387', name='Killer Frost', Gender='Female', Eye color='blue', Race='Human', Hair color='Blond', Height='-99.0', Publisher='DC Comics', Skin color='blue', Alignment='bad', Weight='-99.0'),\n",
       " Row(Id='391', name='Kingpin', Gender='Male', Eye color='blue', Race='Human', Hair color='No Hair', Height='201.0', Publisher='Marvel Comics', Skin color='-', Alignment='bad', Weight='203.0'),\n",
       " Row(Id='396', name='Krypto', Gender='Male', Eye color='blue', Race='Kryptonian', Hair color='White', Height='64.0', Publisher='DC Comics', Skin color='-', Alignment='good', Weight='18.0'),\n",
       " Row(Id='404', name='Leonardo', Gender='Male', Eye color='blue', Race='Mutant', Hair color='No Hair', Height='-99.0', Publisher='IDW Publishing', Skin color='green', Alignment='good', Weight='-99.0'),\n",
       " Row(Id='406', name='Light Lass', Gender='Female', Eye color='blue', Race='-', Hair color='Red', Height='165.0', Publisher='DC Comics', Skin color='-', Alignment='good', Weight='54.0'),\n",
       " Row(Id='407', name='Lightning Lad', Gender='Male', Eye color='blue', Race='-', Hair color='Red', Height='155.0', Publisher='DC Comics', Skin color='-', Alignment='good', Weight='65.0'),\n",
       " Row(Id='408', name='Lightning Lord', Gender='Male', Eye color='blue', Race='-', Hair color='Red', Height='191.0', Publisher='DC Comics', Skin color='-', Alignment='bad', Weight='95.0'),\n",
       " Row(Id='410', name='Living Tribunal', Gender='-', Eye color='blue', Race='Cosmic Entity', Hair color='No Hair', Height='-99.0', Publisher='Marvel Comics', Skin color='gold', Alignment='neutral', Weight='-99.0'),\n",
       " Row(Id='415', name='Longshot', Gender='Male', Eye color='blue', Race='Human', Hair color='Blond', Height='188.0', Publisher='Marvel Comics', Skin color='-', Alignment='good', Weight='36.0'),\n",
       " Row(Id='418', name='Luke Skywalker', Gender='Male', Eye color='blue', Race='Human', Hair color='Blond', Height='168.0', Publisher='George Lucas', Skin color='-', Alignment='good', Weight='77.0'),\n",
       " Row(Id='424', name='Magog', Gender='Male', Eye color='blue', Race='-', Hair color='Blond', Height='-99.0', Publisher='DC Comics', Skin color='-', Alignment='good', Weight='-99.0'),\n",
       " Row(Id='426', name='Man of Miracles', Gender='-', Eye color='blue', Race='God / Eternal', Hair color='Silver', Height='-99.0', Publisher='Image Comics', Skin color='-', Alignment='-', Weight='-99.0'),\n",
       " Row(Id='430', name='Mandarin', Gender='Male', Eye color='blue', Race='Human', Hair color='White', Height='188.0', Publisher='Marvel Comics', Skin color='-', Alignment='bad', Weight='97.0'),\n",
       " Row(Id='434', name='Master Brood', Gender='Male', Eye color='blue', Race='-', Hair color='Black', Height='183.0', Publisher='Team Epic TV', Skin color='-', Alignment='good', Weight='81.0'),\n",
       " Row(Id='438', name='Maverick', Gender='Male', Eye color='blue', Race='-', Hair color='Black', Height='193.0', Publisher='Marvel Comics', Skin color='-', Alignment='good', Weight='110.0'),\n",
       " Row(Id='442', name='Meltdown', Gender='Female', Eye color='blue', Race='-', Hair color='Blond', Height='165.0', Publisher='Marvel Comics', Skin color='-', Alignment='good', Weight='54.0'),\n",
       " Row(Id='444', name='Mera', Gender='Female', Eye color='blue', Race='Atlantean', Hair color='Red', Height='175.0', Publisher='DC Comics', Skin color='-', Alignment='good', Weight='72.0'),\n",
       " Row(Id='448', name='Metron', Gender='Male', Eye color='blue', Race='-', Hair color='Black', Height='185.0', Publisher='DC Comics', Skin color='-', Alignment='good', Weight='86.0'),\n",
       " Row(Id='450', name='Michelangelo', Gender='Male', Eye color='blue', Race='Mutant', Hair color='-', Height='-99.0', Publisher='IDW Publishing', Skin color='green', Alignment='good', Weight='-99.0'),\n",
       " Row(Id='454', name='Misfit', Gender='Female', Eye color='blue', Race='-', Hair color='Red', Height='-99.0', Publisher='DC Comics', Skin color='-', Alignment='good', Weight='-99.0'),\n",
       " Row(Id='458', name='Mister Knife', Gender='Male', Eye color='blue', Race='Spartoi', Hair color='Brown', Height='-99.0', Publisher='Marvel Comics', Skin color='-', Alignment='bad', Weight='-99.0'),\n",
       " Row(Id='461', name='Mister Zsasz', Gender='Male', Eye color='blue', Race='Human', Hair color='Blond', Height='-99.0', Publisher='DC Comics', Skin color='-', Alignment='bad', Weight='-99.0'),\n",
       " Row(Id='462', name='Mockingbird', Gender='Female', Eye color='blue', Race='Human', Hair color='Blond', Height='175.0', Publisher='Marvel Comics', Skin color='-', Alignment='good', Weight='61.0'),\n",
       " Row(Id='468', name='Monarch', Gender='Male', Eye color='blue', Race='-', Hair color='White', Height='193.0', Publisher='DC Comics', Skin color='-', Alignment='good', Weight='90.0'),\n",
       " Row(Id='471', name='Moonstone', Gender='Female', Eye color='blue', Race='-', Hair color='Blond', Height='180.0', Publisher='Marvel Comics', Skin color='-', Alignment='bad', Weight='59.0'),\n",
       " Row(Id='475', name='Mr Immortal', Gender='Male', Eye color='blue', Race='Mutant', Hair color='Blond', Height='188.0', Publisher='Marvel Comics', Skin color='-', Alignment='good', Weight='70.0'),\n",
       " Row(Id='476', name='Mr Incredible', Gender='Male', Eye color='blue', Race='Human', Hair color='Blond', Height='201.0', Publisher='Dark Horse Comics', Skin color='-', Alignment='good', Weight='158.0'),\n",
       " Row(Id='477', name='Ms Marvel II', Gender='Female', Eye color='blue', Race='-', Hair color='Red', Height='173.0', Publisher='Marvel Comics', Skin color='-', Alignment='good', Weight='61.0'),\n",
       " Row(Id='478', name='Multiple Man', Gender='Male', Eye color='blue', Race='-', Hair color='Brown', Height='180.0', Publisher='Marvel Comics', Skin color='-', Alignment='good', Weight='70.0'),\n",
       " Row(Id='483', name='Namora', Gender='Female', Eye color='blue', Race='-', Hair color='Blond', Height='180.0', Publisher='Marvel Comics', Skin color='-', Alignment='good', Weight='85.0'),\n",
       " Row(Id='484', name='Namorita', Gender='Female', Eye color='blue', Race='-', Hair color='Blond', Height='168.0', Publisher='Marvel Comics', Skin color='-', Alignment='good', Weight='101.0'),\n",
       " Row(Id='487', name='Nebula', Gender='Female', Eye color='blue', Race='Luphomoid', Hair color='No Hair', Height='185.0', Publisher='Marvel Comics', Skin color='blue', Alignment='bad', Weight='83.0'),\n",
       " Row(Id='491', name='Nightwing', Gender='Male', Eye color='blue', Race='Human', Hair color='Black', Height='178.0', Publisher='DC Comics', Skin color='-', Alignment='good', Weight='79.0'),\n",
       " Row(Id='492', name='Niki Sanders', Gender='Female', Eye color='blue', Race='-', Hair color='Blond', Height='-99.0', Publisher='NBC - Heroes', Skin color='-', Alignment='good', Weight='-99.0'),\n",
       " Row(Id='495', name='Northstar', Gender='Male', Eye color='blue', Race='-', Hair color='Black', Height='180.0', Publisher='Marvel Comics', Skin color='-', Alignment='good', Weight='83.0'),\n",
       " Row(Id='498', name='Odin', Gender='Male', Eye color='blue', Race='God / Eternal', Hair color='White', Height='206.0', Publisher='Marvel Comics', Skin color='-', Alignment='good', Weight='293.0'),\n",
       " Row(Id='505', name='Oracle', Gender='Female', Eye color='blue', Race='Human', Hair color='Red', Height='178.0', Publisher='DC Comics', Skin color='-', Alignment='good', Weight='59.0'),\n",
       " Row(Id='508', name='Ozymandias', Gender='Male', Eye color='blue', Race='Human', Hair color='Blond', Height='-99.0', Publisher='DC Comics', Skin color='-', Alignment='bad', Weight='-99.0'),\n",
       " Row(Id='513', name='Penance II', Gender='Male', Eye color='blue', Race='-', Hair color='Blond', Height='183.0', Publisher='Marvel Comics', Skin color='-', Alignment='good', Weight='89.0'),\n",
       " Row(Id='514', name='Penguin', Gender='Male', Eye color='blue', Race='Human', Hair color='Black', Height='157.0', Publisher='DC Comics', Skin color='-', Alignment='bad', Weight='79.0'),\n",
       " Row(Id='517', name='Phantom Girl', Gender='Female', Eye color='blue', Race='-', Hair color='Black', Height='168.0', Publisher='DC Comics', Skin color='-', Alignment='good', Weight='54.0'),\n",
       " Row(Id='521', name='Plastic Man', Gender='Male', Eye color='blue', Race='Human', Hair color='Black', Height='185.0', Publisher='DC Comics', Skin color='-', Alignment='good', Weight='80.0'),\n",
       " Row(Id='522', name='Plastique', Gender='Female', Eye color='blue', Race='-', Hair color='Red', Height='168.0', Publisher='DC Comics', Skin color='-', Alignment='bad', Weight='55.0'),\n",
       " Row(Id='525', name='Power Girl', Gender='Female', Eye color='blue', Race='Kryptonian', Hair color='blond', Height='180.0', Publisher='DC Comics', Skin color='-', Alignment='good', Weight='81.0'),\n",
       " Row(Id='528', name='Professor X', Gender='Male', Eye color='blue', Race='Mutant', Hair color='No Hair', Height='183.0', Publisher='Marvel Comics', Skin color='-', Alignment='good', Weight='86.0'),\n",
       " Row(Id='529', name='Professor Zoom', Gender='Male', Eye color='blue', Race='Human', Hair color='Strawberry Blond', Height='180.0', Publisher='DC Comics', Skin color='-', Alignment='bad', Weight='81.0'),\n",
       " Row(Id='531', name='Psylocke', Gender='Female', Eye color='blue', Race='Mutant', Hair color='Purple', Height='180.0', Publisher='Marvel Comics', Skin color='-', Alignment='good', Weight='70.0'),\n",
       " Row(Id='532', name='Punisher', Gender='Male', Eye color='blue', Race='Human', Hair color='Black', Height='183.0', Publisher='Marvel Comics', Skin color='-', Alignment='good', Weight='90.0'),\n",
       " Row(Id='534', name='Pyro', Gender='Male', Eye color='blue', Race='-', Hair color='Blond', Height='178.0', Publisher='Marvel Comics', Skin color='-', Alignment='bad', Weight='68.0'),\n",
       " Row(Id='537', name='Question', Gender='Male', Eye color='blue', Race='Human', Hair color='Blond', Height='188.0', Publisher='DC Comics', Skin color='-', Alignment='good', Weight='83.0'),\n",
       " Row(Id='538', name='Quicksilver', Gender='Male', Eye color='blue', Race='Mutant', Hair color='Silver', Height='183.0', Publisher='Marvel Comics', Skin color='-', Alignment='good', Weight='79.0'),\n",
       " Row(Id='546', name='Razor-Fist II', Gender='Male', Eye color='blue', Race='-', Hair color='No Hair', Height='191.0', Publisher='Marvel Comics', Skin color='-', Alignment='bad', Weight='117.0'),\n",
       " Row(Id='548', name='Red Hood', Gender='Male', Eye color='blue', Race='Human', Hair color='Black', Height='183.0', Publisher='DC Comics', Skin color='-', Alignment='neutral', Weight='81.0'),\n",
       " Row(Id='551', name='Red Robin', Gender='Male', Eye color='blue', Race='Human', Hair color='Black', Height='165.0', Publisher='DC Comics', Skin color='-', Alignment='good', Weight='56.0'),\n",
       " Row(Id='552', name='Red Skull', Gender='Male', Eye color='blue', Race='-', Hair color='No Hair', Height='188.0', Publisher='Marvel Comics', Skin color='-', Alignment='bad', Weight='108.0'),\n",
       " Row(Id='559', name='Rick Flag', Gender='Male', Eye color='blue', Race='-', Hair color='Brown', Height='185.0', Publisher='DC Comics', Skin color='-', Alignment='bad', Weight='85.0'),\n",
       " Row(Id='561', name='Rip Hunter', Gender='Male', Eye color='blue', Race='Human', Hair color='Blond', Height='-99.0', Publisher='DC Comics', Skin color='-', Alignment='good', Weight='-99.0'),\n",
       " Row(Id='563', name='Robin', Gender='Male', Eye color='blue', Race='Human', Hair color='Black', Height='178.0', Publisher='DC Comics', Skin color='-', Alignment='good', Weight='79.0'),\n",
       " Row(Id='564', name='Robin II', Gender='Male', Eye color='blue', Race='Human', Hair color='Red', Height='183.0', Publisher='DC Comics', Skin color='-', Alignment='good', Weight='101.0'),\n",
       " Row(Id='565', name='Robin III', Gender='Male', Eye color='blue', Race='Human', Hair color='Black', Height='165.0', Publisher='DC Comics', Skin color='-', Alignment='good', Weight='56.0'),\n",
       " Row(Id='566', name='Robin V', Gender='Male', Eye color='blue', Race='Human', Hair color='Black', Height='137.0', Publisher='DC Comics', Skin color='-', Alignment='good', Weight='38.0'),\n",
       " Row(Id='570', name='Ronin', Gender='Male', Eye color='blue', Race='Human', Hair color='Blond', Height='191.0', Publisher='Marvel Comics', Skin color='-', Alignment='good', Weight='104.0'),\n",
       " Row(Id='571', name='Rorschach', Gender='Male', Eye color='blue', Race='Human', Hair color='Red', Height='168.0', Publisher='DC Comics', Skin color='-', Alignment='good', Weight='63.0'),\n",
       " Row(Id='573', name='Sage', Gender='Female', Eye color='blue', Race='-', Hair color='Black', Height='170.0', Publisher='Marvel Comics', Skin color='-', Alignment='good', Weight='61.0'),\n",
       " Row(Id='578', name='Scarecrow', Gender='Male', Eye color='blue', Race='Human', Hair color='Brown', Height='183.0', Publisher='DC Comics', Skin color='-', Alignment='bad', Weight='63.0'),\n",
       " Row(Id='579', name='Scarlet Spider', Gender='Male', Eye color='blue', Race='Human', Hair color='Blond', Height='178.0', Publisher='Marvel Comics', Skin color='-', Alignment='good', Weight='74.0'),\n",
       " Row(Id='581', name='Scarlet Witch', Gender='Female', Eye color='blue', Race='Mutant', Hair color='Brown', Height='170.0', Publisher='Marvel Comics', Skin color='-', Alignment='bad', Weight='59.0'),\n",
       " Row(Id='585', name='Sentry', Gender='Male', Eye color='blue', Race='Mutant', Hair color='Blond', Height='188.0', Publisher='Marvel Comics', Skin color='-', Alignment='neutral', Weight='87.0'),\n",
       " Row(Id='592', name='She-Thing', Gender='Female', Eye color='blue', Race='Human / Radiation', Hair color='No Hair', Height='183.0', Publisher='Marvel Comics', Skin color='-', Alignment='good', Weight='153.0'),\n",
       " Row(Id='596', name='Sif', Gender='Female', Eye color='blue', Race='Asgardian', Hair color='Black', Height='188.0', Publisher='Marvel Comics', Skin color='-', Alignment='good', Weight='191.0'),\n",
       " Row(Id='604', name='Siren', Gender='Female', Eye color='blue', Race='Atlantean', Hair color='Purple', Height='175.0', Publisher='DC Comics', Skin color='-', Alignment='bad', Weight='72.0'),\n",
       " Row(Id='606', name='Siryn', Gender='Female', Eye color='blue', Race='-', Hair color='Strawberry Blond', Height='168.0', Publisher='Marvel Comics', Skin color='-', Alignment='bad', Weight='52.0'),\n",
       " Row(Id='620', name='Spider-Girl', Gender='Female', Eye color='blue', Race='Human', Hair color='Brown', Height='170.0', Publisher='Marvel Comics', Skin color='-', Alignment='good', Weight='54.0'),\n",
       " Row(Id='621', name='Spider-Gwen', Gender='Female', Eye color='blue', Race='Human', Hair color='Blond', Height='165.0', Publisher='Marvel Comics', Skin color='-', Alignment='good', Weight='56.0'),\n",
       " Row(Id='632', name='Star-Lord', Gender='Male', Eye color='blue', Race='Human-Spartoi', Hair color='Blond', Height='188.0', Publisher='Marvel Comics', Skin color='-', Alignment='good', Weight='79.0'),\n",
       " Row(Id='635', name='Stargirl', Gender='Female', Eye color='blue', Race='Human', Hair color='Blond', Height='165.0', Publisher='DC Comics', Skin color='-', Alignment='good', Weight='62.0'),\n",
       " Row(Id='640', name='Storm', Gender='Female', Eye color='blue', Race='Mutant', Hair color='White', Height='180.0', Publisher='Marvel Comics', Skin color='-', Alignment='good', Weight='57.0'),\n",
       " Row(Id='643', name='Superboy', Gender='Male', Eye color='blue', Race='-', Hair color='Black', Height='170.0', Publisher='DC Comics', Skin color='-', Alignment='good', Weight='68.0'),\n",
       " Row(Id='644', name='Superboy-Prime', Gender='Male', Eye color='blue', Race='Kryptonian', Hair color='Black / Blue', Height='180.0', Publisher='DC Comics', Skin color='-', Alignment='bad', Weight='77.0'),\n",
       " Row(Id='645', name='Supergirl', Gender='Female', Eye color='blue', Race='Kryptonian', Hair color='Blond', Height='165.0', Publisher='DC Comics', Skin color='-', Alignment='good', Weight='54.0'),\n",
       " Row(Id='646', name='Superman', Gender='Male', Eye color='blue', Race='Kryptonian', Hair color='Black', Height='191.0', Publisher='DC Comics', Skin color='-', Alignment='good', Weight='101.0'),\n",
       " Row(Id='660', name='Thing', Gender='Male', Eye color='blue', Race='Human / Radiation', Hair color='No Hair', Height='183.0', Publisher='Marvel Comics', Skin color='-', Alignment='good', Weight='225.0'),\n",
       " Row(Id='661', name='Thor', Gender='Male', Eye color='blue', Race='Asgardian', Hair color='Blond', Height='198.0', Publisher='Marvel Comics', Skin color='-', Alignment='good', Weight='288.0'),\n",
       " Row(Id='662', name='Thor Girl', Gender='Female', Eye color='blue', Race='Asgardian', Hair color='Blond', Height='175.0', Publisher='Marvel Comics', Skin color='-', Alignment='good', Weight='143.0'),\n",
       " Row(Id='666', name='Thunderstrike', Gender='Male', Eye color='blue', Race='-', Hair color='Blond', Height='198.0', Publisher='Marvel Comics', Skin color='-', Alignment='good', Weight='288.0'),\n",
       " Row(Id='673', name='Toxin', Gender='Male', Eye color='blue', Race='Symbiote', Hair color='Brown', Height='188.0', Publisher='Marvel Comics', Skin color='-', Alignment='good', Weight='97.0'),\n",
       " Row(Id='676', name='Trickster', Gender='Male', Eye color='blue', Race='Human', Hair color='Blond', Height='183.0', Publisher='DC Comics', Skin color='-', Alignment='-', Weight='81.0'),\n",
       " Row(Id='681', name='Ultragirl', Gender='Female', Eye color='blue', Race='-', Hair color='Blond', Height='168.0', Publisher='Marvel Comics', Skin color='-', Alignment='good', Weight='105.0'),\n",
       " Row(Id='683', name='Utgard-Loki', Gender='Male', Eye color='blue', Race='Frost Giant', Hair color='White', Height='15.2', Publisher='Marvel Comics', Skin color='-', Alignment='bad', Weight='58.0'),\n",
       " Row(Id='684', name='Vagabond', Gender='Female', Eye color='blue', Race='-', Hair color='Strawberry Blond', Height='168.0', Publisher='Marvel Comics', Skin color='-', Alignment='good', Weight='54.0'),\n",
       " Row(Id='686', name='Valkyrie', Gender='Female', Eye color='blue', Race='-', Hair color='Blond', Height='191.0', Publisher='Marvel Comics', Skin color='-', Alignment='good', Weight='214.0'),\n",
       " Row(Id='689', name='Venom', Gender='Male', Eye color='blue', Race='Symbiote', Hair color='Strawberry Blond', Height='191.0', Publisher='Marvel Comics', Skin color='-', Alignment='bad', Weight='117.0'),\n",
       " Row(Id='693', name='Vertigo II', Gender='Female', Eye color='blue', Race='-', Hair color='Silver', Height='168.0', Publisher='Marvel Comics', Skin color='-', Alignment='good', Weight='52.0'),\n",
       " Row(Id='704', name='Walrus', Gender='Male', Eye color='blue', Race='Human', Hair color='Black', Height='183.0', Publisher='Marvel Comics', Skin color='-', Alignment='bad', Weight='162.0'),\n",
       " Row(Id='706', name='Warbird', Gender='Female', Eye color='blue', Race='-', Hair color='Blond', Height='180.0', Publisher='Marvel Comics', Skin color='-', Alignment='good', Weight='54.0'),\n",
       " Row(Id='710', name='Wasp', Gender='Female', Eye color='blue', Race='Human', Hair color='Auburn', Height='163.0', Publisher='Marvel Comics', Skin color='-', Alignment='good', Weight='50.0'),\n",
       " Row(Id='714', name='White Queen', Gender='Female', Eye color='blue', Race='-', Hair color='Blond', Height='178.0', Publisher='Marvel Comics', Skin color='-', Alignment='good', Weight='65.0'),\n",
       " Row(Id='719', name='Wolverine', Gender='Male', Eye color='blue', Race='Mutant', Hair color='Black', Height='160.0', Publisher='Marvel Comics', Skin color='-', Alignment='good', Weight='135.0'),\n",
       " Row(Id='720', name='Wonder Girl', Gender='Female', Eye color='blue', Race='Demi-God', Hair color='Blond', Height='165.0', Publisher='DC Comics', Skin color='-', Alignment='good', Weight='51.0'),\n",
       " Row(Id='722', name='Wonder Woman', Gender='Female', Eye color='blue', Race='Amazon', Hair color='Black', Height='183.0', Publisher='DC Comics', Skin color='-', Alignment='good', Weight='74.0'),\n",
       " Row(Id='726', name='X-Man', Gender='Male', Eye color='blue', Race='-', Hair color='Brown', Height='175.0', Publisher='Marvel Comics', Skin color='-', Alignment='good', Weight='61.0'),\n",
       " Row(Id='727', name='Yellow Claw', Gender='Male', Eye color='blue', Race='-', Hair color='No Hair', Height='188.0', Publisher='Marvel Comics', Skin color='-', Alignment='bad', Weight='95.0'),\n",
       " Row(Id='728', name='Yellowjacket', Gender='Male', Eye color='blue', Race='Human', Hair color='Blond', Height='183.0', Publisher='Marvel Comics', Skin color='-', Alignment='good', Weight='83.0'),\n",
       " Row(Id='729', name='Yellowjacket II', Gender='Female', Eye color='blue', Race='Human', Hair color='Strawberry Blond', Height='165.0', Publisher='Marvel Comics', Skin color='-', Alignment='good', Weight='52.0'),\n",
       " Row(Id='732', name='Zatanna', Gender='Female', Eye color='blue', Race='Human', Hair color='Black', Height='170.0', Publisher='DC Comics', Skin color='-', Alignment='good', Weight='57.0')]"
      ]
     },
     "execution_count": 15,
     "metadata": {},
     "output_type": "execute_result"
    }
   ],
   "source": [
    "heros.filter(heros['Eye Color'] == 'blue').collect() # <-- better but still might be lots, let's check"
   ]
  },
  {
   "cell_type": "code",
   "execution_count": 16,
   "metadata": {},
   "outputs": [
    {
     "data": {
      "text/plain": [
       "225"
      ]
     },
     "execution_count": 16,
     "metadata": {},
     "output_type": "execute_result"
    }
   ],
   "source": [
    "heros.filter(heros['Eye Color'] == 'blue').count()"
   ]
  },
  {
   "cell_type": "markdown",
   "metadata": {},
   "source": [
    "## Did you notice?\n",
    "\n",
    "<img src=\"./img/pyspark_missing_values.png\" width=400>"
   ]
  },
  {
   "cell_type": "markdown",
   "metadata": {},
   "source": [
    "## Specifying a `nullValue`"
   ]
  },
  {
   "cell_type": "code",
   "execution_count": 17,
   "metadata": {},
   "outputs": [
    {
     "data": {
      "text/plain": [
       "[Row(Id='0', name='A-Bomb', Gender='Male', Eye color='yellow', Race='Human', Hair color='No Hair', Height='203.0', Publisher='Marvel Comics', Skin color=None, Alignment='good', Weight='441.0'),\n",
       " Row(Id='1', name='Abe Sapien', Gender='Male', Eye color='blue', Race='Icthyo Sapien', Hair color='No Hair', Height='191.0', Publisher='Dark Horse Comics', Skin color='blue', Alignment='good', Weight='65.0'),\n",
       " Row(Id='2', name='Abin Sur', Gender='Male', Eye color='blue', Race='Ungaran', Hair color='No Hair', Height='185.0', Publisher='DC Comics', Skin color='red', Alignment='good', Weight='90.0'),\n",
       " Row(Id='3', name='Abomination', Gender='Male', Eye color='green', Race='Human / Radiation', Hair color='No Hair', Height='203.0', Publisher='Marvel Comics', Skin color=None, Alignment='bad', Weight='441.0'),\n",
       " Row(Id='4', name='Abraxas', Gender='Male', Eye color='blue', Race='Cosmic Entity', Hair color='Black', Height='-99.0', Publisher='Marvel Comics', Skin color=None, Alignment='bad', Weight='-99.0')]"
      ]
     },
     "execution_count": 17,
     "metadata": {},
     "output_type": "execute_result"
    }
   ],
   "source": [
    "heros = spark.read.csv('./data/heroes_information.csv', header=True, nullValue='-')\n",
    "heros.take(5)"
   ]
  },
  {
   "cell_type": "markdown",
   "metadata": {},
   "source": [
    "## Did you notice?\n",
    "\n",
    "<img src=\"./img/pyspark_default_types.png\" width=400>\n",
    "\n",
    "Default type is a string"
   ]
  },
  {
   "cell_type": "markdown",
   "metadata": {},
   "source": [
    "## Letting `spark` guess the types\n",
    "\n",
    "Set `inferScheme=True` "
   ]
  },
  {
   "cell_type": "code",
   "execution_count": 18,
   "metadata": {},
   "outputs": [
    {
     "data": {
      "text/plain": [
       "DataFrame[Id: int, name: string, Gender: string, Eye color: string, Race: string, Hair color: string, Height: double, Publisher: string, Skin color: string, Alignment: string, Weight: double]"
      ]
     },
     "execution_count": 18,
     "metadata": {},
     "output_type": "execute_result"
    }
   ],
   "source": [
    "heros = spark.read.csv('./data/heroes_information.csv', header=True, inferSchema=True, nullValue='-')\n",
    "heros"
   ]
  },
  {
   "cell_type": "markdown",
   "metadata": {},
   "source": [
    "## Checking the column types after `inferScheme`\n",
    "\n",
    "In this case, `spark` guessed correctly"
   ]
  },
  {
   "cell_type": "code",
   "execution_count": 19,
   "metadata": {},
   "outputs": [
    {
     "name": "stdout",
     "output_type": "stream",
     "text": [
      "root\n",
      " |-- Id: integer (nullable = true)\n",
      " |-- name: string (nullable = true)\n",
      " |-- Gender: string (nullable = true)\n",
      " |-- Eye color: string (nullable = true)\n",
      " |-- Race: string (nullable = true)\n",
      " |-- Hair color: string (nullable = true)\n",
      " |-- Height: double (nullable = true)\n",
      " |-- Publisher: string (nullable = true)\n",
      " |-- Skin color: string (nullable = true)\n",
      " |-- Alignment: string (nullable = true)\n",
      " |-- Weight: double (nullable = true)\n",
      "\n"
     ]
    }
   ],
   "source": [
    "heros.printSchema()"
   ]
  },
  {
   "cell_type": "markdown",
   "metadata": {},
   "source": [
    "## Inspecting the content - `take`"
   ]
  },
  {
   "cell_type": "code",
   "execution_count": 20,
   "metadata": {},
   "outputs": [
    {
     "data": {
      "text/plain": [
       "[Row(Id=0, name='A-Bomb', Gender='Male', Eye color='yellow', Race='Human', Hair color='No Hair', Height=203.0, Publisher='Marvel Comics', Skin color=None, Alignment='good', Weight=441.0),\n",
       " Row(Id=1, name='Abe Sapien', Gender='Male', Eye color='blue', Race='Icthyo Sapien', Hair color='No Hair', Height=191.0, Publisher='Dark Horse Comics', Skin color='blue', Alignment='good', Weight=65.0),\n",
       " Row(Id=2, name='Abin Sur', Gender='Male', Eye color='blue', Race='Ungaran', Hair color='No Hair', Height=185.0, Publisher='DC Comics', Skin color='red', Alignment='good', Weight=90.0),\n",
       " Row(Id=3, name='Abomination', Gender='Male', Eye color='green', Race='Human / Radiation', Hair color='No Hair', Height=203.0, Publisher='Marvel Comics', Skin color=None, Alignment='bad', Weight=441.0),\n",
       " Row(Id=4, name='Abraxas', Gender='Male', Eye color='blue', Race='Cosmic Entity', Hair color='Black', Height=-99.0, Publisher='Marvel Comics', Skin color=None, Alignment='bad', Weight=-99.0)]"
      ]
     },
     "execution_count": 20,
     "metadata": {},
     "output_type": "execute_result"
    }
   ],
   "source": [
    "heros.take(5)"
   ]
  },
  {
   "cell_type": "markdown",
   "metadata": {},
   "source": [
    "## Explicit `schema` specification\n",
    "\n",
    "Format is `add(name, type, nullable?)`"
   ]
  },
  {
   "cell_type": "code",
   "execution_count": 21,
   "metadata": {},
   "outputs": [
    {
     "data": {
      "text/plain": [
       "DataFrame[Id: int, name: string, Gender: string, Eye color: string, Race: string, Hair color: string, Height: double, Publisher: string, Skin color: string, Alignment: string, Weight: double]"
      ]
     },
     "execution_count": 21,
     "metadata": {},
     "output_type": "execute_result"
    }
   ],
   "source": [
    "from pyspark.sql.types import StructType\n",
    "from pyspark.sql.types import DoubleType, StringType, IntegerType\n",
    "\n",
    "hero_schema = (StructType()\n",
    "  .add('Id', IntegerType(), False)\n",
    "  .add('name', StringType(), True)\n",
    "  .add('Gender', StringType(), True)\n",
    "  .add('Eye color', StringType(), True)\n",
    "  .add('Race', StringType(), True)\n",
    "  .add('Hair color', StringType(), True)\n",
    "  .add('Height', DoubleType(), True)\n",
    "  .add('Publisher', StringType(), True)\n",
    "  .add('Skin color', StringType(), True)\n",
    "  .add('Alignment', StringType(), True)\n",
    "  .add('Weight', DoubleType(), True))\n",
    "\n",
    "heros = spark.read.csv('./data/heroes_information.csv', header=True, schema=hero_schema, nullValue='-')\n",
    "heros"
   ]
  },
  {
   "cell_type": "code",
   "execution_count": 22,
   "metadata": {},
   "outputs": [
    {
     "data": {
      "text/plain": [
       "[Row(Id=0, name='A-Bomb', Gender='Male', Eye color='yellow', Race='Human', Hair color='No Hair', Height=203.0, Publisher='Marvel Comics', Skin color=None, Alignment='good', Weight=441.0),\n",
       " Row(Id=1, name='Abe Sapien', Gender='Male', Eye color='blue', Race='Icthyo Sapien', Hair color='No Hair', Height=191.0, Publisher='Dark Horse Comics', Skin color='blue', Alignment='good', Weight=65.0),\n",
       " Row(Id=2, name='Abin Sur', Gender='Male', Eye color='blue', Race='Ungaran', Hair color='No Hair', Height=185.0, Publisher='DC Comics', Skin color='red', Alignment='good', Weight=90.0),\n",
       " Row(Id=3, name='Abomination', Gender='Male', Eye color='green', Race='Human / Radiation', Hair color='No Hair', Height=203.0, Publisher='Marvel Comics', Skin color=None, Alignment='bad', Weight=441.0),\n",
       " Row(Id=4, name='Abraxas', Gender='Male', Eye color='blue', Race='Cosmic Entity', Hair color='Black', Height=-99.0, Publisher='Marvel Comics', Skin color=None, Alignment='bad', Weight=-99.0)]"
      ]
     },
     "execution_count": 22,
     "metadata": {},
     "output_type": "execute_result"
    }
   ],
   "source": [
    "heros.take(5)"
   ]
  },
  {
   "cell_type": "markdown",
   "metadata": {},
   "source": [
    "## <font color=\"red\"> Exercise 1 </font>\n",
    "\n",
    "Define a `schema` and read in `./data/super_hero_powers.csv`"
   ]
  },
  {
   "cell_type": "code",
   "execution_count": 25,
   "metadata": {},
   "outputs": [
    {
     "data": {
      "text/plain": [
       "DataFrame[hero_names: string, Agility: boolean, Accelerated Healing: boolean, Lantern Power Ring: boolean, Dimensional Awareness: boolean, Cold Resistance: boolean, Durability: boolean, Stealth: boolean, Energy Absorption: boolean, Flight: boolean, Danger Sense: boolean, Underwater breathing: boolean, Marksmanship: boolean, Weapons Master: boolean, Power Augmentation: boolean, Animal Attributes: boolean, Longevity: boolean, Intelligence: boolean, Super Strength: boolean, Cryokinesis: boolean, Telepathy: boolean, Energy Armor: boolean, Energy Blasts: boolean, Duplication: boolean, Size Changing: boolean, Density Control: boolean, Stamina: boolean, Astral Travel: boolean, Audio Control: boolean, Dexterity: boolean, Omnitrix: boolean, Super Speed: boolean, Possession: boolean, Animal Oriented Powers: boolean, Weapon-based Powers: boolean, Electrokinesis: boolean, Darkforce Manipulation: boolean, Death Touch: boolean, Teleportation: boolean, Enhanced Senses: boolean, Telekinesis: boolean, Energy Beams: boolean, Magic: boolean, Hyperkinesis: boolean, Jump: boolean, Clairvoyance: boolean, Dimensional Travel: boolean, Power Sense: boolean, Shapeshifting: boolean, Peak Human Condition: boolean, Immortality: boolean, Camouflage: boolean, Element Control: boolean, Phasing: boolean, Astral Projection: boolean, Electrical Transport: boolean, Fire Control: boolean, Projection: boolean, Summoning: boolean, Enhanced Memory: boolean, Reflexes: boolean, Invulnerability: boolean, Energy Constructs: boolean, Force Fields: boolean, Self-Sustenance: boolean, Anti-Gravity: boolean, Empathy: boolean, Power Nullifier: boolean, Radiation Control: boolean, Psionic Powers: boolean, Elasticity: boolean, Substance Secretion: boolean, Elemental Transmogrification: boolean, Technopath/Cyberpath: boolean, Photographic Reflexes: boolean, Seismic Power: boolean, Animation: boolean, Precognition: boolean, Mind Control: boolean, Fire Resistance: boolean, Power Absorption: boolean, Enhanced Hearing: boolean, Nova Force: boolean, Insanity: boolean, Hypnokinesis: boolean, Animal Control: boolean, Natural Armor: boolean, Intangibility: boolean, Enhanced Sight: boolean, Molecular Manipulation: boolean, Heat Generation: boolean, Adaptation: boolean, Gliding: boolean, Power Suit: boolean, Mind Blast: boolean, Probability Manipulation: boolean, Gravity Control: boolean, Regeneration: boolean, Light Control: boolean, Echolocation: boolean, Levitation: boolean, Toxin and Disease Control: boolean, Banish: boolean, Energy Manipulation: boolean, Heat Resistance: boolean, Natural Weapons: boolean, Time Travel: boolean, Enhanced Smell: boolean, Illusions: boolean, Thirstokinesis: boolean, Hair Manipulation: boolean, Illumination: boolean, Omnipotent: boolean, Cloaking: boolean, Changing Armor: boolean, Power Cosmic: boolean, Biokinesis: boolean, Water Control: boolean, Radiation Immunity: boolean, Vision - Telescopic: boolean, Toxin and Disease Resistance: boolean, Spatial Awareness: boolean, Energy Resistance: boolean, Telepathy Resistance: boolean, Molecular Combustion: boolean, Omnilingualism: boolean, Portal Creation: boolean, Magnetism: boolean, Mind Control Resistance: boolean, Plant Control: boolean, Sonar: boolean, Sonic Scream: boolean, Time Manipulation: boolean, Enhanced Touch: boolean, Magic Resistance: boolean, Invisibility: boolean, Sub-Mariner: boolean, Radiation Absorption: boolean, Intuitive aptitude: boolean, Vision - Microscopic: boolean, Melting: boolean, Wind Control: boolean, Super Breath: boolean, Wallcrawling: boolean, Vision - Night: boolean, Vision - Infrared: boolean, Grim Reaping: boolean, Matter Absorption: boolean, The Force: boolean, Resurrection: boolean, Terrakinesis: boolean, Vision - Heat: boolean, Vitakinesis: boolean, Radar Sense: boolean, Qwardian Power Ring: boolean, Weather Control: boolean, Vision - X-Ray: boolean, Vision - Thermal: boolean, Web Creation: boolean, Reality Warping: boolean, Odin Force: boolean, Symbiote Costume: boolean, Speed Force: boolean, Phoenix Force: boolean, Molecular Dissipation: boolean, Vision - Cryo: boolean, Omnipresent: boolean, Omniscient: boolean]"
      ]
     },
     "execution_count": 25,
     "metadata": {},
     "output_type": "execute_result"
    }
   ],
   "source": [
    "from pyspark.sql.types import StructType\n",
    "from pyspark.sql.types import BooleanType, StringType \n",
    "\n",
    "# Your code here\n",
    "super_heros = spark.read.csv('./data/super_hero_powers.csv', header=True, inferSchema=True)\n",
    "super_heros"
   ]
  },
  {
   "cell_type": "code",
   "execution_count": 26,
   "metadata": {},
   "outputs": [
    {
     "name": "stdout",
     "output_type": "stream",
     "text": [
      "root\n",
      " |-- hero_names: string (nullable = true)\n",
      " |-- Agility: boolean (nullable = true)\n",
      " |-- Accelerated Healing: boolean (nullable = true)\n",
      " |-- Lantern Power Ring: boolean (nullable = true)\n",
      " |-- Dimensional Awareness: boolean (nullable = true)\n",
      " |-- Cold Resistance: boolean (nullable = true)\n",
      " |-- Durability: boolean (nullable = true)\n",
      " |-- Stealth: boolean (nullable = true)\n",
      " |-- Energy Absorption: boolean (nullable = true)\n",
      " |-- Flight: boolean (nullable = true)\n",
      " |-- Danger Sense: boolean (nullable = true)\n",
      " |-- Underwater breathing: boolean (nullable = true)\n",
      " |-- Marksmanship: boolean (nullable = true)\n",
      " |-- Weapons Master: boolean (nullable = true)\n",
      " |-- Power Augmentation: boolean (nullable = true)\n",
      " |-- Animal Attributes: boolean (nullable = true)\n",
      " |-- Longevity: boolean (nullable = true)\n",
      " |-- Intelligence: boolean (nullable = true)\n",
      " |-- Super Strength: boolean (nullable = true)\n",
      " |-- Cryokinesis: boolean (nullable = true)\n",
      " |-- Telepathy: boolean (nullable = true)\n",
      " |-- Energy Armor: boolean (nullable = true)\n",
      " |-- Energy Blasts: boolean (nullable = true)\n",
      " |-- Duplication: boolean (nullable = true)\n",
      " |-- Size Changing: boolean (nullable = true)\n",
      " |-- Density Control: boolean (nullable = true)\n",
      " |-- Stamina: boolean (nullable = true)\n",
      " |-- Astral Travel: boolean (nullable = true)\n",
      " |-- Audio Control: boolean (nullable = true)\n",
      " |-- Dexterity: boolean (nullable = true)\n",
      " |-- Omnitrix: boolean (nullable = true)\n",
      " |-- Super Speed: boolean (nullable = true)\n",
      " |-- Possession: boolean (nullable = true)\n",
      " |-- Animal Oriented Powers: boolean (nullable = true)\n",
      " |-- Weapon-based Powers: boolean (nullable = true)\n",
      " |-- Electrokinesis: boolean (nullable = true)\n",
      " |-- Darkforce Manipulation: boolean (nullable = true)\n",
      " |-- Death Touch: boolean (nullable = true)\n",
      " |-- Teleportation: boolean (nullable = true)\n",
      " |-- Enhanced Senses: boolean (nullable = true)\n",
      " |-- Telekinesis: boolean (nullable = true)\n",
      " |-- Energy Beams: boolean (nullable = true)\n",
      " |-- Magic: boolean (nullable = true)\n",
      " |-- Hyperkinesis: boolean (nullable = true)\n",
      " |-- Jump: boolean (nullable = true)\n",
      " |-- Clairvoyance: boolean (nullable = true)\n",
      " |-- Dimensional Travel: boolean (nullable = true)\n",
      " |-- Power Sense: boolean (nullable = true)\n",
      " |-- Shapeshifting: boolean (nullable = true)\n",
      " |-- Peak Human Condition: boolean (nullable = true)\n",
      " |-- Immortality: boolean (nullable = true)\n",
      " |-- Camouflage: boolean (nullable = true)\n",
      " |-- Element Control: boolean (nullable = true)\n",
      " |-- Phasing: boolean (nullable = true)\n",
      " |-- Astral Projection: boolean (nullable = true)\n",
      " |-- Electrical Transport: boolean (nullable = true)\n",
      " |-- Fire Control: boolean (nullable = true)\n",
      " |-- Projection: boolean (nullable = true)\n",
      " |-- Summoning: boolean (nullable = true)\n",
      " |-- Enhanced Memory: boolean (nullable = true)\n",
      " |-- Reflexes: boolean (nullable = true)\n",
      " |-- Invulnerability: boolean (nullable = true)\n",
      " |-- Energy Constructs: boolean (nullable = true)\n",
      " |-- Force Fields: boolean (nullable = true)\n",
      " |-- Self-Sustenance: boolean (nullable = true)\n",
      " |-- Anti-Gravity: boolean (nullable = true)\n",
      " |-- Empathy: boolean (nullable = true)\n",
      " |-- Power Nullifier: boolean (nullable = true)\n",
      " |-- Radiation Control: boolean (nullable = true)\n",
      " |-- Psionic Powers: boolean (nullable = true)\n",
      " |-- Elasticity: boolean (nullable = true)\n",
      " |-- Substance Secretion: boolean (nullable = true)\n",
      " |-- Elemental Transmogrification: boolean (nullable = true)\n",
      " |-- Technopath/Cyberpath: boolean (nullable = true)\n",
      " |-- Photographic Reflexes: boolean (nullable = true)\n",
      " |-- Seismic Power: boolean (nullable = true)\n",
      " |-- Animation: boolean (nullable = true)\n",
      " |-- Precognition: boolean (nullable = true)\n",
      " |-- Mind Control: boolean (nullable = true)\n",
      " |-- Fire Resistance: boolean (nullable = true)\n",
      " |-- Power Absorption: boolean (nullable = true)\n",
      " |-- Enhanced Hearing: boolean (nullable = true)\n",
      " |-- Nova Force: boolean (nullable = true)\n",
      " |-- Insanity: boolean (nullable = true)\n",
      " |-- Hypnokinesis: boolean (nullable = true)\n",
      " |-- Animal Control: boolean (nullable = true)\n",
      " |-- Natural Armor: boolean (nullable = true)\n",
      " |-- Intangibility: boolean (nullable = true)\n",
      " |-- Enhanced Sight: boolean (nullable = true)\n",
      " |-- Molecular Manipulation: boolean (nullable = true)\n",
      " |-- Heat Generation: boolean (nullable = true)\n",
      " |-- Adaptation: boolean (nullable = true)\n",
      " |-- Gliding: boolean (nullable = true)\n",
      " |-- Power Suit: boolean (nullable = true)\n",
      " |-- Mind Blast: boolean (nullable = true)\n",
      " |-- Probability Manipulation: boolean (nullable = true)\n",
      " |-- Gravity Control: boolean (nullable = true)\n",
      " |-- Regeneration: boolean (nullable = true)\n",
      " |-- Light Control: boolean (nullable = true)\n",
      " |-- Echolocation: boolean (nullable = true)\n",
      " |-- Levitation: boolean (nullable = true)\n",
      " |-- Toxin and Disease Control: boolean (nullable = true)\n",
      " |-- Banish: boolean (nullable = true)\n",
      " |-- Energy Manipulation: boolean (nullable = true)\n",
      " |-- Heat Resistance: boolean (nullable = true)\n",
      " |-- Natural Weapons: boolean (nullable = true)\n",
      " |-- Time Travel: boolean (nullable = true)\n",
      " |-- Enhanced Smell: boolean (nullable = true)\n",
      " |-- Illusions: boolean (nullable = true)\n",
      " |-- Thirstokinesis: boolean (nullable = true)\n",
      " |-- Hair Manipulation: boolean (nullable = true)\n",
      " |-- Illumination: boolean (nullable = true)\n",
      " |-- Omnipotent: boolean (nullable = true)\n",
      " |-- Cloaking: boolean (nullable = true)\n",
      " |-- Changing Armor: boolean (nullable = true)\n",
      " |-- Power Cosmic: boolean (nullable = true)\n",
      " |-- Biokinesis: boolean (nullable = true)\n",
      " |-- Water Control: boolean (nullable = true)\n",
      " |-- Radiation Immunity: boolean (nullable = true)\n",
      " |-- Vision - Telescopic: boolean (nullable = true)\n",
      " |-- Toxin and Disease Resistance: boolean (nullable = true)\n",
      " |-- Spatial Awareness: boolean (nullable = true)\n",
      " |-- Energy Resistance: boolean (nullable = true)\n",
      " |-- Telepathy Resistance: boolean (nullable = true)\n",
      " |-- Molecular Combustion: boolean (nullable = true)\n",
      " |-- Omnilingualism: boolean (nullable = true)\n",
      " |-- Portal Creation: boolean (nullable = true)\n",
      " |-- Magnetism: boolean (nullable = true)\n",
      " |-- Mind Control Resistance: boolean (nullable = true)\n",
      " |-- Plant Control: boolean (nullable = true)\n",
      " |-- Sonar: boolean (nullable = true)\n",
      " |-- Sonic Scream: boolean (nullable = true)\n",
      " |-- Time Manipulation: boolean (nullable = true)\n",
      " |-- Enhanced Touch: boolean (nullable = true)\n",
      " |-- Magic Resistance: boolean (nullable = true)\n",
      " |-- Invisibility: boolean (nullable = true)\n",
      " |-- Sub-Mariner: boolean (nullable = true)\n",
      " |-- Radiation Absorption: boolean (nullable = true)\n",
      " |-- Intuitive aptitude: boolean (nullable = true)\n",
      " |-- Vision - Microscopic: boolean (nullable = true)\n",
      " |-- Melting: boolean (nullable = true)\n",
      " |-- Wind Control: boolean (nullable = true)\n",
      " |-- Super Breath: boolean (nullable = true)\n",
      " |-- Wallcrawling: boolean (nullable = true)\n",
      " |-- Vision - Night: boolean (nullable = true)\n",
      " |-- Vision - Infrared: boolean (nullable = true)\n",
      " |-- Grim Reaping: boolean (nullable = true)\n",
      " |-- Matter Absorption: boolean (nullable = true)\n",
      " |-- The Force: boolean (nullable = true)\n",
      " |-- Resurrection: boolean (nullable = true)\n",
      " |-- Terrakinesis: boolean (nullable = true)\n",
      " |-- Vision - Heat: boolean (nullable = true)\n",
      " |-- Vitakinesis: boolean (nullable = true)\n",
      " |-- Radar Sense: boolean (nullable = true)\n",
      " |-- Qwardian Power Ring: boolean (nullable = true)\n",
      " |-- Weather Control: boolean (nullable = true)\n",
      " |-- Vision - X-Ray: boolean (nullable = true)\n",
      " |-- Vision - Thermal: boolean (nullable = true)\n",
      " |-- Web Creation: boolean (nullable = true)\n",
      " |-- Reality Warping: boolean (nullable = true)\n",
      " |-- Odin Force: boolean (nullable = true)\n",
      " |-- Symbiote Costume: boolean (nullable = true)\n",
      " |-- Speed Force: boolean (nullable = true)\n",
      " |-- Phoenix Force: boolean (nullable = true)\n",
      " |-- Molecular Dissipation: boolean (nullable = true)\n",
      " |-- Vision - Cryo: boolean (nullable = true)\n",
      " |-- Omnipresent: boolean (nullable = true)\n",
      " |-- Omniscient: boolean (nullable = true)\n",
      "\n"
     ]
    }
   ],
   "source": [
    "super_heros.printSchema()"
   ]
  },
  {
   "cell_type": "markdown",
   "metadata": {},
   "source": [
    "## `pyspark.sql` queries are like `sqlalchemy` queries"
   ]
  },
  {
   "cell_type": "markdown",
   "metadata": {},
   "source": [
    "#### Filter, group, and aggregate (categorical)"
   ]
  },
  {
   "cell_type": "code",
   "execution_count": 53,
   "metadata": {},
   "outputs": [
    {
     "data": {
      "text/plain": [
       "[Row(Eye color='grey', count=6),\n",
       " Row(Eye color='green', count=30),\n",
       " Row(Eye color='yellow', count=16),\n",
       " Row(Eye color='bown', count=1),\n",
       " Row(Eye color=None, count=121)]"
      ]
     },
     "execution_count": 53,
     "metadata": {},
     "output_type": "execute_result"
    }
   ],
   "source": [
    "(heros\n",
    "     .where(heros.Gender == 'Male')\n",
    "     .groupby(heros['Eye color'])\n",
    "     .count()\n",
    "     .take(5))"
   ]
  },
  {
   "cell_type": "markdown",
   "metadata": {},
   "source": [
    "#### Group by multiple and aggregate (categorical)"
   ]
  },
  {
   "cell_type": "code",
   "execution_count": 54,
   "metadata": {},
   "outputs": [
    {
     "data": {
      "text/plain": [
       "[Row(Eye color='yellow (without irises)', Gender=None, count=1),\n",
       " Row(Eye color='green', Gender='Male', count=30),\n",
       " Row(Eye color='violet', Gender='Female', count=2),\n",
       " Row(Eye color='hazel', Gender='Female', count=3),\n",
       " Row(Eye color='blue', Gender='Male', count=143)]"
      ]
     },
     "execution_count": 54,
     "metadata": {},
     "output_type": "execute_result"
    }
   ],
   "source": [
    "(heros\n",
    "     .groupby(heros['Eye color'], heros.Gender)\n",
    "     .count()\n",
    "     .take(5))"
   ]
  },
  {
   "cell_type": "markdown",
   "metadata": {},
   "source": [
    "## <font color=\"red\"> Exercise 2 </font>\n",
    "    \n",
    "Perform `pyspark.sql` queries to answer each of the following questions.\n",
    "\n",
    "1. How many heroes have both Super Strength and Super Speed?\n",
    "2. How many heroes have names that start with the word *Black*\n",
    "3. Are heroes with Agility more likely to have Stealth?\n",
    "4. What fraction of all heroes that can fly also have Super Strength?\n",
    "5. Consider heroes that have names that contain `\"girl\"`, `\"boy\"`, `\"woman\"`, or `\"man\"`.  Compute the following ratio\n",
    "\n",
    "$$\\frac{N(\\text{boy or man})}{N(\\text{girl or woman}}$$\n",
    "\n",
    "**Hint:** You will need to use some combination of `where`, `group_by`, and `count` for each part."
   ]
  },
  {
   "cell_type": "code",
   "execution_count": 43,
   "metadata": {
    "collapsed": true
   },
   "outputs": [],
   "source": [
    "# Your code here"
   ]
  },
  {
   "cell_type": "markdown",
   "metadata": {},
   "source": [
    "# Appendix\n",
    "\n",
    "## Creating rows from list of data"
   ]
  },
  {
   "cell_type": "markdown",
   "metadata": {},
   "source": [
    "## Creating a Row class\n",
    "\n",
    "* Pass `Row` the columns names\n",
    "* Creates a specialized `Row` class"
   ]
  },
  {
   "cell_type": "code",
   "execution_count": 65,
   "metadata": {},
   "outputs": [
    {
     "data": {
      "text/plain": [
       "<Row(firstName, lastName, email, salary)>"
      ]
     },
     "execution_count": 65,
     "metadata": {},
     "output_type": "execute_result"
    }
   ],
   "source": [
    "Employee = Row(\"firstName\", \"lastName\", \"email\", \"salary\")\n",
    "Employee"
   ]
  },
  {
   "cell_type": "markdown",
   "metadata": {},
   "source": [
    "## Creating a `Employee` instance\n",
    "\n",
    "* Pass the data to `Employee` to make a row\n",
    "* Order matters ... use the same order as names"
   ]
  },
  {
   "cell_type": "code",
   "execution_count": 22,
   "metadata": {},
   "outputs": [
    {
     "data": {
      "text/plain": [
       "Row(firstName='michael', lastName='armbrust', email='no-reply@berkeley.edu', salary=100000)"
      ]
     },
     "execution_count": 22,
     "metadata": {},
     "output_type": "execute_result"
    }
   ],
   "source": [
    "Employee = Row(\"firstName\", \"lastName\", \"email\", \"salary\")\n",
    "employee1 = Employee('michael', 'armbrust', 'no-reply@berkeley.edu', 100000)\n",
    "employee1"
   ]
  },
  {
   "cell_type": "markdown",
   "metadata": {},
   "source": [
    "## Unpacking a data list\n",
    "\n",
    "* Suppose the data is in a list/tuple.\n",
    "* Use sequence unpacking with `*`"
   ]
  },
  {
   "cell_type": "code",
   "execution_count": 23,
   "metadata": {},
   "outputs": [
    {
     "data": {
      "text/plain": [
       "('xiangrui', 'meng', 'no-reply@stanford.edu', 120000)"
      ]
     },
     "execution_count": 23,
     "metadata": {},
     "output_type": "execute_result"
    }
   ],
   "source": [
    "empl2_info = ('xiangrui', 'meng', 'no-reply@stanford.edu', 120000)\n",
    "empl2_info"
   ]
  },
  {
   "cell_type": "code",
   "execution_count": 24,
   "metadata": {},
   "outputs": [
    {
     "data": {
      "text/plain": [
       "Row(firstName='xiangrui', lastName='meng', email='no-reply@stanford.edu', salary=120000)"
      ]
     },
     "execution_count": 24,
     "metadata": {},
     "output_type": "execute_result"
    }
   ],
   "source": [
    "employee2 = Employee(*empl2_info)\n",
    "employee2"
   ]
  },
  {
   "cell_type": "markdown",
   "metadata": {},
   "source": [
    "## Unpacking "
   ]
  },
  {
   "cell_type": "code",
   "execution_count": 25,
   "metadata": {},
   "outputs": [
    {
     "data": {
      "text/plain": [
       "[Row(firstName='michael', lastName='armbrust', email='no-reply@berkeley.edu', salary=100000),\n",
       " Row(firstName='xiangrui', lastName='meng', email='no-reply@stanford.edu', salary=120000),\n",
       " Row(firstName='matei', lastName=None, email='no-reply@waterloo.edu', salary=140000),\n",
       " Row(firstName=None, lastName='wendell', email='no-reply@berkeley.edu', salary=160000)]"
      ]
     },
     "execution_count": 25,
     "metadata": {},
     "output_type": "execute_result"
    }
   ],
   "source": [
    "# Create the Employees\n",
    "Employee = Row(\"firstName\", \"lastName\", \"email\", \"salary\")\n",
    "employees = [('michael', 'armbrust', 'no-reply@berkeley.edu', 100000),\n",
    "             ('xiangrui', 'meng', 'no-reply@stanford.edu', 120000),\n",
    "             ('matei', None, 'no-reply@waterloo.edu', 140000),\n",
    "             (None, 'wendell', 'no-reply@berkeley.edu', 160000)]\n",
    "emp_rows = [Employee(*r) for r in employees]\n",
    "emp_rows"
   ]
  },
  {
   "cell_type": "code",
   "execution_count": null,
   "metadata": {
    "collapsed": true
   },
   "outputs": [],
   "source": []
  }
 ],
 "metadata": {
  "celltoolbar": "Slideshow",
  "kernelspec": {
   "display_name": "Python 3",
   "language": "python",
   "name": "python3"
  },
  "language_info": {
   "codemirror_mode": {
    "name": "ipython",
    "version": 3
   },
   "file_extension": ".py",
   "mimetype": "text/x-python",
   "name": "python",
   "nbconvert_exporter": "python",
   "pygments_lexer": "ipython3",
   "version": "3.6.3"
  },
  "varInspector": {
   "cols": {
    "lenName": 16,
    "lenType": 16,
    "lenVar": 40
   },
   "kernels_config": {
    "python": {
     "delete_cmd_postfix": "",
     "delete_cmd_prefix": "del ",
     "library": "var_list.py",
     "varRefreshCmd": "print(var_dic_list())"
    },
    "r": {
     "delete_cmd_postfix": ") ",
     "delete_cmd_prefix": "rm(",
     "library": "var_list.r",
     "varRefreshCmd": "cat(var_dic_list()) "
    }
   },
   "types_to_exclude": [
    "module",
    "function",
    "builtin_function_or_method",
    "instance",
    "_Feature"
   ],
   "window_display": false
  }
 },
 "nbformat": 4,
 "nbformat_minor": 2
}
