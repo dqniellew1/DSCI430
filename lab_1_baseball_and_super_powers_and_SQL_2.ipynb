{
 "cells": [
  {
   "cell_type": "markdown",
   "metadata": {},
   "source": [
    "# Lab 1 - Creating the SQL Tables\n",
    "\n",
    "In this lab, use `sqlalchemy` to create, populate, and query a table from the baseball database, as well as for the `super_hero_powers.csv` table.  "
   ]
  },
  {
   "cell_type": "code",
   "execution_count": 2,
   "metadata": {
    "collapsed": true
   },
   "outputs": [],
   "source": [
    "import pandas as pd\n",
    "artwork = pd.read_csv(\"./data/Artworks.csv\")"
   ]
  },
  {
   "cell_type": "markdown",
   "metadata": {},
   "source": [
    "## Part 1 - Baseball Managers\n",
    "\n",
    "In this part of the lab, you will walk through the process of creating a manager table from [Lahman’s Baseball Database](http://www.seanlahman.com/baseball-archive/statistics/)"
   ]
  },
  {
   "cell_type": "markdown",
   "metadata": {},
   "source": [
    "## Task 1 - Download, unzip, rename \n",
    "\n",
    "1. Download the baseball database linked above (save to desktop)\n",
    "2. Unzip the file and rename to `baseball`\n",
    "3. Load the `core/Managers.csv` file into a pandas `DataFrame` using `read_csv`\n",
    "4. Inspect the `column` names and `dtypes`"
   ]
  },
  {
   "cell_type": "code",
   "execution_count": 3,
   "metadata": {},
   "outputs": [
    {
     "data": {
      "text/html": [
       "<div>\n",
       "<style scoped>\n",
       "    .dataframe tbody tr th:only-of-type {\n",
       "        vertical-align: middle;\n",
       "    }\n",
       "\n",
       "    .dataframe tbody tr th {\n",
       "        vertical-align: top;\n",
       "    }\n",
       "\n",
       "    .dataframe thead th {\n",
       "        text-align: right;\n",
       "    }\n",
       "</style>\n",
       "<table border=\"1\" class=\"dataframe\">\n",
       "  <thead>\n",
       "    <tr style=\"text-align: right;\">\n",
       "      <th></th>\n",
       "      <th>playerID</th>\n",
       "      <th>yearID</th>\n",
       "      <th>teamID</th>\n",
       "      <th>lgID</th>\n",
       "      <th>inseason</th>\n",
       "      <th>G</th>\n",
       "      <th>W</th>\n",
       "      <th>L</th>\n",
       "      <th>rank</th>\n",
       "      <th>plyrMgr</th>\n",
       "    </tr>\n",
       "  </thead>\n",
       "  <tbody>\n",
       "    <tr>\n",
       "      <th>0</th>\n",
       "      <td>wrighha01</td>\n",
       "      <td>1871</td>\n",
       "      <td>BS1</td>\n",
       "      <td>NaN</td>\n",
       "      <td>1</td>\n",
       "      <td>31</td>\n",
       "      <td>20</td>\n",
       "      <td>10</td>\n",
       "      <td>3.0</td>\n",
       "      <td>Y</td>\n",
       "    </tr>\n",
       "    <tr>\n",
       "      <th>1</th>\n",
       "      <td>woodji01</td>\n",
       "      <td>1871</td>\n",
       "      <td>CH1</td>\n",
       "      <td>NaN</td>\n",
       "      <td>1</td>\n",
       "      <td>28</td>\n",
       "      <td>19</td>\n",
       "      <td>9</td>\n",
       "      <td>2.0</td>\n",
       "      <td>Y</td>\n",
       "    </tr>\n",
       "    <tr>\n",
       "      <th>2</th>\n",
       "      <td>paborch01</td>\n",
       "      <td>1871</td>\n",
       "      <td>CL1</td>\n",
       "      <td>NaN</td>\n",
       "      <td>1</td>\n",
       "      <td>29</td>\n",
       "      <td>10</td>\n",
       "      <td>19</td>\n",
       "      <td>8.0</td>\n",
       "      <td>Y</td>\n",
       "    </tr>\n",
       "    <tr>\n",
       "      <th>3</th>\n",
       "      <td>lennobi01</td>\n",
       "      <td>1871</td>\n",
       "      <td>FW1</td>\n",
       "      <td>NaN</td>\n",
       "      <td>1</td>\n",
       "      <td>14</td>\n",
       "      <td>5</td>\n",
       "      <td>9</td>\n",
       "      <td>8.0</td>\n",
       "      <td>Y</td>\n",
       "    </tr>\n",
       "    <tr>\n",
       "      <th>4</th>\n",
       "      <td>deaneha01</td>\n",
       "      <td>1871</td>\n",
       "      <td>FW1</td>\n",
       "      <td>NaN</td>\n",
       "      <td>2</td>\n",
       "      <td>5</td>\n",
       "      <td>2</td>\n",
       "      <td>3</td>\n",
       "      <td>8.0</td>\n",
       "      <td>Y</td>\n",
       "    </tr>\n",
       "  </tbody>\n",
       "</table>\n",
       "</div>"
      ],
      "text/plain": [
       "    playerID  yearID teamID lgID  inseason   G   W   L  rank plyrMgr\n",
       "0  wrighha01    1871    BS1  NaN         1  31  20  10   3.0       Y\n",
       "1   woodji01    1871    CH1  NaN         1  28  19   9   2.0       Y\n",
       "2  paborch01    1871    CL1  NaN         1  29  10  19   8.0       Y\n",
       "3  lennobi01    1871    FW1  NaN         1  14   5   9   8.0       Y\n",
       "4  deaneha01    1871    FW1  NaN         2   5   2   3   8.0       Y"
      ]
     },
     "execution_count": 3,
     "metadata": {},
     "output_type": "execute_result"
    }
   ],
   "source": [
    "managers = pd.read_csv(\"/Users/bg8485bw/DSCI430/baseball/core/Managers.csv\")\n",
    "managers.head()"
   ]
  },
  {
   "cell_type": "code",
   "execution_count": 4,
   "metadata": {},
   "outputs": [
    {
     "data": {
      "text/plain": [
       "playerID     object\n",
       "yearID        int64\n",
       "teamID       object\n",
       "lgID         object\n",
       "inseason      int64\n",
       "G             int64\n",
       "W             int64\n",
       "L             int64\n",
       "rank        float64\n",
       "plyrMgr      object\n",
       "dtype: object"
      ]
     },
     "execution_count": 4,
     "metadata": {},
     "output_type": "execute_result"
    }
   ],
   "source": [
    "managers.dtypes"
   ]
  },
  {
   "cell_type": "code",
   "execution_count": null,
   "metadata": {
    "collapsed": true
   },
   "outputs": [],
   "source": []
  },
  {
   "cell_type": "code",
   "execution_count": 5,
   "metadata": {
    "scrolled": true
   },
   "outputs": [
    {
     "data": {
      "text/plain": [
       "Index(['playerID', 'yearID', 'teamID', 'lgID', 'inseason', 'G', 'W', 'L',\n",
       "       'rank', 'plyrMgr'],\n",
       "      dtype='object')"
      ]
     },
     "execution_count": 5,
     "metadata": {},
     "output_type": "execute_result"
    }
   ],
   "source": [
    "managers.columns"
   ]
  },
  {
   "cell_type": "markdown",
   "metadata": {},
   "source": [
    "#### Task 2 - Create a `sqlalchemy` types `dict`"
   ]
  },
  {
   "cell_type": "code",
   "execution_count": 6,
   "metadata": {
    "collapsed": true
   },
   "outputs": [],
   "source": [
    "from sqlalchemy import Integer, String\n",
    "ts = {'playerID' : String, \n",
    "      'yearID': Integer, \n",
    "      'teamID' : String, \n",
    "      'lgID' : String, \n",
    "      'inseason' : Integer, \n",
    "      'G' : Integer, \n",
    "      'W':Integer, \n",
    "      'L':Integer,\n",
    "       'rank':Integer, \n",
    "      'plyrMgr':String}"
   ]
  },
  {
   "cell_type": "markdown",
   "metadata": {},
   "source": [
    "#### Task 4 - Create an `engine` and `schema`"
   ]
  },
  {
   "cell_type": "code",
   "execution_count": 7,
   "metadata": {},
   "outputs": [],
   "source": [
    "!rm databases/baseball.db"
   ]
  },
  {
   "cell_type": "code",
   "execution_count": 8,
   "metadata": {},
   "outputs": [
    {
     "name": "stdout",
     "output_type": "stream",
     "text": [
      "\n",
      "CREATE TABLE manager (\n",
      "\t\"playerID\" VARCHAR NOT NULL, \n",
      "\t\"yearID\" INTEGER, \n",
      "\t\"teamID\" VARCHAR, \n",
      "\t\"lgID\" VARCHAR, \n",
      "\tinseason INTEGER, \n",
      "\t\"G\" INTEGER, \n",
      "\t\"W\" INTEGER, \n",
      "\t\"L\" INTEGER, \n",
      "\trank INTEGER, \n",
      "\t\"plyrMgr\" VARCHAR, \n",
      "\tCONSTRAINT manager_pk PRIMARY KEY (\"playerID\")\n",
      ")\n",
      "\n",
      "\n"
     ]
    }
   ],
   "source": [
    "from sqlalchemy import create_engine\n",
    "mang_eng = create_engine(\"sqlite:///databases/baseball.db\")\n",
    "mang_eng.echo = True\n",
    "schema = pd.io.sql.get_schema(managers, 'manager', keys='playerID', con=mang_eng, dtype=ts)\n",
    "print(schema)"
   ]
  },
  {
   "cell_type": "markdown",
   "metadata": {},
   "source": [
    "#### Execute the 'schema'"
   ]
  },
  {
   "cell_type": "code",
   "execution_count": 9,
   "metadata": {},
   "outputs": [
    {
     "name": "stdout",
     "output_type": "stream",
     "text": [
      "2019-01-25 15:30:27,167 INFO sqlalchemy.engine.base.Engine SELECT CAST('test plain returns' AS VARCHAR(60)) AS anon_1\n",
      "2019-01-25 15:30:27,172 INFO sqlalchemy.engine.base.Engine ()\n",
      "2019-01-25 15:30:27,176 INFO sqlalchemy.engine.base.Engine SELECT CAST('test unicode returns' AS VARCHAR(60)) AS anon_1\n",
      "2019-01-25 15:30:27,179 INFO sqlalchemy.engine.base.Engine ()\n",
      "2019-01-25 15:30:27,183 INFO sqlalchemy.engine.base.Engine \n",
      "CREATE TABLE manager (\n",
      "\t\"playerID\" VARCHAR NOT NULL, \n",
      "\t\"yearID\" INTEGER, \n",
      "\t\"teamID\" VARCHAR, \n",
      "\t\"lgID\" VARCHAR, \n",
      "\tinseason INTEGER, \n",
      "\t\"G\" INTEGER, \n",
      "\t\"W\" INTEGER, \n",
      "\t\"L\" INTEGER, \n",
      "\trank INTEGER, \n",
      "\t\"plyrMgr\" VARCHAR, \n",
      "\tCONSTRAINT manager_pk PRIMARY KEY (\"playerID\")\n",
      ")\n",
      "\n",
      "\n",
      "2019-01-25 15:30:27,187 INFO sqlalchemy.engine.base.Engine ()\n",
      "2019-01-25 15:30:27,192 INFO sqlalchemy.engine.base.Engine COMMIT\n"
     ]
    },
    {
     "data": {
      "text/plain": [
       "<sqlalchemy.engine.result.ResultProxy at 0x11589ff28>"
      ]
     },
     "execution_count": 9,
     "metadata": {},
     "output_type": "execute_result"
    }
   ],
   "source": [
    "mang_eng.execute(schema)"
   ]
  },
  {
   "cell_type": "markdown",
   "metadata": {},
   "source": [
    "#### Task 5 - Use `to_sql` with `if_exists='append'` to insert the data"
   ]
  },
  {
   "cell_type": "code",
   "execution_count": 10,
   "metadata": {},
   "outputs": [
    {
     "name": "stdout",
     "output_type": "stream",
     "text": [
      "2019-01-25 15:30:30,849 INFO sqlalchemy.engine.base.Engine PRAGMA table_info(\"managers\")\n",
      "2019-01-25 15:30:30,853 INFO sqlalchemy.engine.base.Engine ()\n",
      "2019-01-25 15:30:30,859 INFO sqlalchemy.engine.base.Engine \n",
      "CREATE TABLE managers (\n",
      "\t\"playerID\" VARCHAR, \n",
      "\t\"yearID\" INTEGER, \n",
      "\t\"teamID\" VARCHAR, \n",
      "\t\"lgID\" VARCHAR, \n",
      "\tinseason INTEGER, \n",
      "\t\"G\" INTEGER, \n",
      "\t\"W\" INTEGER, \n",
      "\t\"L\" INTEGER, \n",
      "\trank INTEGER, \n",
      "\t\"plyrMgr\" VARCHAR\n",
      ")\n",
      "\n",
      "\n",
      "2019-01-25 15:30:30,861 INFO sqlalchemy.engine.base.Engine ()\n",
      "2019-01-25 15:30:30,867 INFO sqlalchemy.engine.base.Engine COMMIT\n",
      "2019-01-25 15:30:30,873 INFO sqlalchemy.engine.base.Engine BEGIN (implicit)\n",
      "2019-01-25 15:30:30,945 INFO sqlalchemy.engine.base.Engine INSERT INTO managers (\"playerID\", \"yearID\", \"teamID\", \"lgID\", inseason, \"G\", \"W\", \"L\", rank, \"plyrMgr\") VALUES (?, ?, ?, ?, ?, ?, ?, ?, ?, ?)\n",
      "2019-01-25 15:30:30,946 INFO sqlalchemy.engine.base.Engine (('wrighha01', 1871, 'BS1', None, 1, 31, 20, 10, 3.0, 'Y'), ('woodji01', 1871, 'CH1', None, 1, 28, 19, 9, 2.0, 'Y'), ('paborch01', 1871, 'CL1', None, 1, 29, 10, 19, 8.0, 'Y'), ('lennobi01', 1871, 'FW1', None, 1, 14, 5, 9, 8.0, 'Y'), ('deaneha01', 1871, 'FW1', None, 2, 5, 2, 3, 8.0, 'Y'), ('fergubo01', 1871, 'NY2', None, 1, 33, 16, 17, 5.0, 'Y'), ('mcbridi01', 1871, 'PH1', None, 1, 28, 21, 7, 1.0, 'Y'), ('hastisc01', 1871, 'RC1', None, 1, 25, 4, 21, 9.0, 'Y')  ... displaying 10 of 3469 total bound parameter sets ...  ('bakerdu01', 2017, 'WAS', 'NL', 1, 160, 95, 65, 1.0, 'N'), ('speiech01', 2017, 'WAS', 'NL', 2, 2, 2, 0, 1.0, 'N'))\n",
      "2019-01-25 15:30:30,960 INFO sqlalchemy.engine.base.Engine COMMIT\n"
     ]
    }
   ],
   "source": [
    "managers.to_sql ('managers',\n",
    "                con=mang_eng,\n",
    "                dtype=ts,\n",
    "                index=False,\n",
    "                if_exists='append')"
   ]
  },
  {
   "cell_type": "markdown",
   "metadata": {},
   "source": [
    "#### Task 6 - Query the table to make sure it all worked"
   ]
  },
  {
   "cell_type": "code",
   "execution_count": 26,
   "metadata": {
    "collapsed": true
   },
   "outputs": [],
   "source": []
  },
  {
   "cell_type": "code",
   "execution_count": 31,
   "metadata": {
    "collapsed": true
   },
   "outputs": [],
   "source": []
  },
  {
   "cell_type": "code",
   "execution_count": null,
   "metadata": {
    "collapsed": true,
    "scrolled": true
   },
   "outputs": [],
   "source": []
  },
  {
   "cell_type": "markdown",
   "metadata": {},
   "source": [
    "## Part 2 - Super Hero Powers\n",
    "\n",
    "Now make a database and table for the super hero powers."
   ]
  },
  {
   "cell_type": "markdown",
   "metadata": {},
   "source": [
    "## Problem 1\n",
    "    \n",
    "**Task:** One the `super_hero_powers.csv` and verify that the contents of the columns are all Boolean.  In this problem, you need to\n",
    "\n",
    "1. Create a `dict` that defines the `pandas` column type\n",
    "2. Read the file in using a `pd.read_csv`.\n",
    "3. Clean up all the column labels.\n",
    "    \n",
    "**Be sure to write clean code!**\n"
   ]
  },
  {
   "cell_type": "code",
   "execution_count": null,
   "metadata": {
    "collapsed": true
   },
   "outputs": [],
   "source": []
  },
  {
   "cell_type": "markdown",
   "metadata": {},
   "source": [
    "## Problem 2\n",
    "    \n",
    "Now define an `sqlalchemy` table for these data using `pandas` `to_sql` dataframe method.  You can use the `sqlalchemy.String` and `sqlalchemy.Boolean` columns type, which are [documented here](https://docs.sqlalchemy.org/en/latest/core/type_basics.html)"
   ]
  },
  {
   "cell_type": "code",
   "execution_count": null,
   "metadata": {
    "collapsed": true
   },
   "outputs": [],
   "source": []
  },
  {
   "cell_type": "markdown",
   "metadata": {},
   "source": [
    "## Problem 3\n",
    "    \n",
    "Now you need to make a new `engine`, `inspect` your database, and make a `session` to query the database."
   ]
  },
  {
   "cell_type": "code",
   "execution_count": null,
   "metadata": {
    "collapsed": true
   },
   "outputs": [],
   "source": []
  },
  {
   "cell_type": "markdown",
   "metadata": {},
   "source": [
    "## Problem 4\n",
    "    \n",
    "Perform `sqlalchemy` queries to answer each of the following questions.\n",
    "\n",
    "1. How many heroes have both Super Strength and Super Speed?\n",
    "2. How many heroes have names that start with the word *Black*\n",
    "3. Are heroes with Agility more likely to have Stealth?\n",
    "4. What fraction of all heroes that can fly also have Super Strength?\n",
    "5. Consider heroes that have names that contain `\"girl\"`, `\"boy\"`, `\"woman\"`, or `\"man\"`.  Compute the following ratio\n",
    "\n",
    "$$\\frac{N(\\text{boy or man})}{N(\\text{girl or woman}}$$\n",
    "\n",
    "**Hint:** You will need to use some combination of `where`, `group_by`, and `count` for each part."
   ]
  },
  {
   "cell_type": "markdown",
   "metadata": {},
   "source": [
    "## Problem 5\n",
    "\n",
    "Tell me another cool fact about the super powers."
   ]
  },
  {
   "cell_type": "code",
   "execution_count": null,
   "metadata": {
    "collapsed": true
   },
   "outputs": [],
   "source": []
  }
 ],
 "metadata": {
  "kernelspec": {
   "display_name": "Python 3",
   "language": "python",
   "name": "python3"
  },
  "language_info": {
   "codemirror_mode": {
    "name": "ipython",
    "version": 3
   },
   "file_extension": ".py",
   "mimetype": "text/x-python",
   "name": "python",
   "nbconvert_exporter": "python",
   "pygments_lexer": "ipython3",
   "version": "3.6.3"
  },
  "varInspector": {
   "cols": {
    "lenName": 16,
    "lenType": 16,
    "lenVar": 40
   },
   "kernels_config": {
    "python": {
     "delete_cmd_postfix": "",
     "delete_cmd_prefix": "del ",
     "library": "var_list.py",
     "varRefreshCmd": "print(var_dic_list())"
    },
    "r": {
     "delete_cmd_postfix": ") ",
     "delete_cmd_prefix": "rm(",
     "library": "var_list.r",
     "varRefreshCmd": "cat(var_dic_list()) "
    }
   },
   "types_to_exclude": [
    "module",
    "function",
    "builtin_function_or_method",
    "instance",
    "_Feature"
   ],
   "window_display": false
  }
 },
 "nbformat": 4,
 "nbformat_minor": 2
}
