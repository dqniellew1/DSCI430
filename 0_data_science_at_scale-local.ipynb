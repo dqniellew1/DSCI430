{
 "cells": [
  {
   "cell_type": "markdown",
   "metadata": {},
   "source": [
    "# Data Science at Scale"
   ]
  },
  {
   "cell_type": "markdown",
   "metadata": {},
   "source": [
    "## What do we mean by \"scale\"\n",
    "\n",
    "* Scale is determined by\n",
    "    * Size of data\n",
    "    * Capacity of hardware"
   ]
  },
  {
   "cell_type": "markdown",
   "metadata": {},
   "source": [
    "## Big Data is\n",
    "\n",
    "* data you can't open in Excel\n",
    "* data you can't fit in RAM\n",
    "* data you can't fit on a single machine"
   ]
  },
  {
   "cell_type": "markdown",
   "metadata": {},
   "source": [
    "## A data scientist operates on many scales\n",
    "\n",
    "* Can't open in Excel $\\rightarrow$ use `Pandas` and chunking\n",
    "* Can't fit in RAM $\\rightarrow$ use a database or stream the file\n",
    "* Can't fit on a single machine $\\rightarrow$ use Hadoop and `PySpark`"
   ]
  },
  {
   "cell_type": "markdown",
   "metadata": {},
   "source": [
    "## Example - Average Super Hero Height - Pandas"
   ]
  },
  {
   "cell_type": "code",
   "execution_count": 2,
   "metadata": {},
   "outputs": [
    {
     "name": "stdout",
     "output_type": "stream",
     "text": [
      "Collecting dfply\n",
      "\u001b[?25l  Downloading https://files.pythonhosted.org/packages/53/91/18ab48c64661252dadff685f8ddbc6f456302923918f488714ee2345d49b/dfply-0.3.3-py3-none-any.whl (612kB)\n",
      "\u001b[K    100% |████████████████████████████████| 614kB 6.0MB/s ta 0:00:01\n",
      "\u001b[?25hRequirement already satisfied: pandas in /anaconda3/lib/python3.6/site-packages (from dfply) (0.23.4)\n",
      "Requirement already satisfied: numpy in /anaconda3/lib/python3.6/site-packages (from dfply) (1.13.3)\n",
      "Requirement already satisfied: pytz>=2011k in /anaconda3/lib/python3.6/site-packages (from pandas->dfply) (2017.2)\n",
      "Requirement already satisfied: python-dateutil>=2.5.0 in /anaconda3/lib/python3.6/site-packages (from pandas->dfply) (2.6.1)\n",
      "Requirement already satisfied: six>=1.5 in /anaconda3/lib/python3.6/site-packages (from python-dateutil>=2.5.0->pandas->dfply) (1.11.0)\n",
      "Installing collected packages: dfply\n",
      "Successfully installed dfply-0.3.3\n"
     ]
    }
   ],
   "source": [
    "!pip install  dfply"
   ]
  },
  {
   "cell_type": "code",
   "execution_count": 8,
   "metadata": {},
   "outputs": [
    {
     "name": "stdout",
     "output_type": "stream",
     "text": [
      "Collecting pyspark\n",
      "\u001b[?25l  Downloading https://files.pythonhosted.org/packages/88/01/a37e827c2d80c6a754e40e99b9826d978b55254cc6c6672b5b08f2e18a7f/pyspark-2.4.0.tar.gz (213.4MB)\n",
      "\u001b[K    100% |████████████████████████████████| 213.4MB 125kB/s eta 0:00:01   17% |█████▋                          | 37.5MB 10.0MB/s eta 0:00:18    29% |█████████▎                      | 62.0MB 15.9MB/s eta 0:00:10    41% |█████████████▏                  | 87.5MB 13.3MB/s eta 0:00:10    47% |███████████████▎                | 102.1MB 13.7MB/s eta 0:00:09    55% |█████████████████▊              | 118.3MB 11.7MB/s eta 0:00:09    65% |████████████████████▉           | 138.9MB 13.9MB/s eta 0:00:06    74% |███████████████████████▊        | 158.2MB 9.5MB/s eta 0:00:065MB 29.5MB/s eta 0:00:01��███████████████   | 193.8MB 24.6MB/s eta 0:00:01    92% |█████████████████████████████▋  | 197.7MB 15.0MB/s eta 0:00:02��████████████▎ | 202.2MB 39.8MB/s eta 0:00:01█████████████ | 206.8MB 21.1MB/s eta 0:00:01�█▉| 212.6MB 17.7MB/s eta 0:00:01\n",
      "\u001b[?25hCollecting py4j==0.10.7 (from pyspark)\n",
      "\u001b[?25l  Downloading https://files.pythonhosted.org/packages/e3/53/c737818eb9a7dc32a7cd4f1396e787bd94200c3997c72c1dbe028587bd76/py4j-0.10.7-py2.py3-none-any.whl (197kB)\n",
      "\u001b[K    100% |████████████████████████████████| 204kB 9.5MB/s eta 0:00:01\n",
      "\u001b[?25hBuilding wheels for collected packages: pyspark\n",
      "  Running setup.py bdist_wheel for pyspark ... \u001b[?25ldone\n",
      "\u001b[?25h  Stored in directory: /Users/bg8485bw/Library/Caches/pip/wheels/cd/54/c2/abfcc942eddeaa7101228ebd6127a30dbdf903c72db4235b23\n",
      "Successfully built pyspark\n",
      "Installing collected packages: py4j, pyspark\n",
      "Successfully installed py4j-0.10.7 pyspark-2.4.0\n"
     ]
    }
   ],
   "source": [
    "!pip install pyspark"
   ]
  },
  {
   "cell_type": "code",
   "execution_count": 4,
   "metadata": {
    "scrolled": true
   },
   "outputs": [
    {
     "data": {
      "text/html": [
       "<div>\n",
       "<style scoped>\n",
       "    .dataframe tbody tr th:only-of-type {\n",
       "        vertical-align: middle;\n",
       "    }\n",
       "\n",
       "    .dataframe tbody tr th {\n",
       "        vertical-align: top;\n",
       "    }\n",
       "\n",
       "    .dataframe thead th {\n",
       "        text-align: right;\n",
       "    }\n",
       "</style>\n",
       "<table border=\"1\" class=\"dataframe\">\n",
       "  <thead>\n",
       "    <tr style=\"text-align: right;\">\n",
       "      <th></th>\n",
       "      <th>Publisher</th>\n",
       "      <th>mean_height</th>\n",
       "    </tr>\n",
       "  </thead>\n",
       "  <tbody>\n",
       "    <tr>\n",
       "      <th>0</th>\n",
       "      <td>DC Comics</td>\n",
       "      <td>91.072093</td>\n",
       "    </tr>\n",
       "    <tr>\n",
       "      <th>1</th>\n",
       "      <td>Marvel Comics</td>\n",
       "      <td>142.756443</td>\n",
       "    </tr>\n",
       "  </tbody>\n",
       "</table>\n",
       "</div>"
      ],
      "text/plain": [
       "       Publisher  mean_height\n",
       "0      DC Comics    91.072093\n",
       "1  Marvel Comics   142.756443"
      ]
     },
     "execution_count": 4,
     "metadata": {},
     "output_type": "execute_result"
    }
   ],
   "source": [
    "import pandas as pd\n",
    "from dfply import *\n",
    "\n",
    "heroes = pd.read_csv('./data/heroes_information.csv')\n",
    "major_publisher = ['Marvel Comics', 'DC Comics']\n",
    "\n",
    "(heroes >> \n",
    "   filter_by(X.Publisher.isin(major_publisher)) >>\n",
    "   group_by(X.Publisher) >>\n",
    "   summarise(mean_height = mean(X.Height)))"
   ]
  },
  {
   "cell_type": "markdown",
   "metadata": {},
   "source": [
    "## Example - Average Super Hero Height - `sqlalchemy`"
   ]
  },
  {
   "cell_type": "code",
   "execution_count": 5,
   "metadata": {
    "scrolled": true
   },
   "outputs": [
    {
     "data": {
      "text/plain": [
       "[('DC Comics', 91.07209302325582), ('Marvel Comics', 142.75644329896906)]"
      ]
     },
     "execution_count": 5,
     "metadata": {},
     "output_type": "execute_result"
    }
   ],
   "source": [
    "from sqlalchemy.orm import sessionmaker\n",
    "from sqlalchemy import create_engine, func\n",
    "from heroes import Base, Hero\n",
    "\n",
    "engine = create_engine('sqlite:///heroes.db')\n",
    "Base.metadata.create_all(engine)\n",
    "Session = sessionmaker(bind=engine)\n",
    "session = Session()\n",
    "\n",
    "\n",
    "session.query(Hero.publisher, func.avg(Hero.height).label('avg_ht')).\\\n",
    "  filter(Hero.publisher.in_(major_publisher)).\\\n",
    "  group_by(Hero.publisher).\\\n",
    "  all()"
   ]
  },
  {
   "cell_type": "markdown",
   "metadata": {},
   "source": [
    "## Example - Average Super Hero Height - `pyspark`"
   ]
  },
  {
   "cell_type": "code",
   "execution_count": 9,
   "metadata": {
    "scrolled": true
   },
   "outputs": [
    {
     "name": "stdout",
     "output_type": "stream",
     "text": [
      "+-------------+------------------+\n",
      "|    Publisher|       avg(Height)|\n",
      "+-------------+------------------+\n",
      "|Marvel Comics|142.75644329896906|\n",
      "|    DC Comics| 91.07209302325582|\n",
      "+-------------+------------------+\n",
      "\n"
     ]
    }
   ],
   "source": [
    "from pyspark.sql import SparkSession\n",
    "from pyspark.sql.functions import col, mean\n",
    "\n",
    "spark1 = SparkSession.builder.appName('Ops').getOrCreate()\n",
    "df = spark1.read.csv('data/heroes_information.csv', inferSchema=True, header=True)\n",
    "\n",
    "df.where(col('Publisher').isin(major_publisher)).\\\n",
    "   groupBy(\"Publisher\").\\\n",
    "   agg(mean('Height')).\\\n",
    "   show()"
   ]
  },
  {
   "cell_type": "markdown",
   "metadata": {},
   "source": [
    "## <font color=\"red\"> Exercise 1: Compare and Contrast </font>\n",
    "\n",
    "<img src=\"img/all_three_1.png\" width=600>"
   ]
  },
  {
   "cell_type": "markdown",
   "metadata": {},
   "source": [
    "Your thoughts here"
   ]
  },
  {
   "cell_type": "markdown",
   "metadata": {},
   "source": [
    "## Filter using in/isin\n",
    "\n",
    "<img src=\"img/all_three_2.png\" width=600>"
   ]
  },
  {
   "cell_type": "markdown",
   "metadata": {},
   "source": [
    "## Group by publisher\n",
    "\n",
    "<img src=\"img/all_three_3.png\" width=600>"
   ]
  },
  {
   "cell_type": "markdown",
   "metadata": {},
   "source": [
    "## Aggregate the mean height\n",
    "\n",
    "<img src=\"img/all_three_4.png\" width=500>"
   ]
  },
  {
   "cell_type": "markdown",
   "metadata": {},
   "source": [
    "## Course outline\n",
    "\n",
    "* Part 1 - Working with Tabular Data\n",
    "\n",
    "* Part 2 - Working with Unstructured Data\n"
   ]
  },
  {
   "cell_type": "markdown",
   "metadata": {},
   "source": [
    "## Part 1 - Working with Tabular Data\n",
    "\n",
    "* Cleaning and prepping data in `Pandas` (2-3 weeks)\n",
    "* SQL Alchemy (2 weeks)\n",
    "* Spark SQL (3 weeks)"
   ]
  },
  {
   "cell_type": "markdown",
   "metadata": {},
   "source": [
    "## Part 2 - Working with Unstructured Data\n",
    "\n",
    "* Introduction to functional list processing (3 weeks)\n",
    "* Processing Unstructured Data with Spark\n",
    "* Project"
   ]
  }
 ],
 "metadata": {
  "kernelspec": {
   "display_name": "Python 3",
   "language": "python",
   "name": "python3"
  },
  "language_info": {
   "codemirror_mode": {
    "name": "ipython",
    "version": 3
   },
   "file_extension": ".py",
   "mimetype": "text/x-python",
   "name": "python",
   "nbconvert_exporter": "python",
   "pygments_lexer": "ipython3",
   "version": "3.6.3"
  },
  "varInspector": {
   "cols": {
    "lenName": 16,
    "lenType": 16,
    "lenVar": 40
   },
   "kernels_config": {
    "python": {
     "delete_cmd_postfix": "",
     "delete_cmd_prefix": "del ",
     "library": "var_list.py",
     "varRefreshCmd": "print(var_dic_list())"
    },
    "r": {
     "delete_cmd_postfix": ") ",
     "delete_cmd_prefix": "rm(",
     "library": "var_list.r",
     "varRefreshCmd": "cat(var_dic_list()) "
    }
   },
   "types_to_exclude": [
    "module",
    "function",
    "builtin_function_or_method",
    "instance",
    "_Feature"
   ],
   "window_display": false
  }
 },
 "nbformat": 4,
 "nbformat_minor": 2
}
